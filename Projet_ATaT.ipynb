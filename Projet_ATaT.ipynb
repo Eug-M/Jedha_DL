{
 "cells": [
  {
   "cell_type": "markdown",
   "metadata": {},
   "source": [
    "<img src=\"https://full-stack-assets.s3.eu-west-3.amazonaws.com/M08-deep-learning/AT%26T_logo_2016.svg\" alt=\"AT&T LOGO\" width=\"50%\" />\n",
    "\n",
    "# Orange SPAM detector"
   ]
  },
  {
   "cell_type": "markdown",
   "metadata": {},
   "source": [
    "## Company's Description 📇\n",
    "\n",
    "AT&T Inc. is an American multinational telecommunications holding company headquartered at Whitacre Tower in Downtown Dallas, Texas. It is the world's largest telecommunications company by revenue and the third largest provider of mobile telephone services in the U.S. As of 2022, AT&T was ranked 13th on the Fortune 500 rankings of the largest United States corporations, with revenues of $168.8 billion! 😮"
   ]
  },
  {
   "cell_type": "markdown",
   "metadata": {},
   "source": [
    "## Project 🚧\n",
    "\n",
    "One of the main pain point that AT&T users are facing is constant exposure to SPAM messages.\n",
    "\n",
    "AT&T has been able to manually flag spam messages for a time, but they are looking for an automated way of detecting spams to protect their users."
   ]
  },
  {
   "cell_type": "markdown",
   "metadata": {},
   "source": [
    "## Goals 🎯\n",
    "\n",
    "Your goal is to build a spam detector, that can automatically flag spams as they come based solely on the sms' content."
   ]
  },
  {
   "cell_type": "markdown",
   "metadata": {},
   "source": [
    "## Deliverable 📬\n",
    "\n",
    "To complete this project, your team should: \n",
    "\n",
    "* Write a notebook that runs preprocessing and trains one or more deep learning models in order to predict the spam or ham nature of the sms\n",
    "* State the achieved performance clearly"
   ]
  },
  {
   "cell_type": "code",
   "execution_count": 8,
   "metadata": {},
   "outputs": [
    {
     "name": "stdout",
     "output_type": "stream",
     "text": [
      "Collecting wordcloud\n",
      "  Using cached wordcloud-1.9.4-cp312-cp312-manylinux_2_17_x86_64.manylinux2014_x86_64.whl.metadata (3.4 kB)\n",
      "Requirement already satisfied: numpy>=1.6.1 in /home/eugenie_laptop/anaconda3/lib/python3.12/site-packages (from wordcloud) (1.26.4)\n",
      "Requirement already satisfied: pillow in /home/eugenie_laptop/anaconda3/lib/python3.12/site-packages (from wordcloud) (10.3.0)\n",
      "Requirement already satisfied: matplotlib in /home/eugenie_laptop/anaconda3/lib/python3.12/site-packages (from wordcloud) (3.8.4)\n",
      "Requirement already satisfied: contourpy>=1.0.1 in /home/eugenie_laptop/anaconda3/lib/python3.12/site-packages (from matplotlib->wordcloud) (1.2.0)\n",
      "Requirement already satisfied: cycler>=0.10 in /home/eugenie_laptop/anaconda3/lib/python3.12/site-packages (from matplotlib->wordcloud) (0.11.0)\n",
      "Requirement already satisfied: fonttools>=4.22.0 in /home/eugenie_laptop/anaconda3/lib/python3.12/site-packages (from matplotlib->wordcloud) (4.51.0)\n",
      "Requirement already satisfied: kiwisolver>=1.3.1 in /home/eugenie_laptop/anaconda3/lib/python3.12/site-packages (from matplotlib->wordcloud) (1.4.4)\n",
      "Requirement already satisfied: packaging>=20.0 in /home/eugenie_laptop/anaconda3/lib/python3.12/site-packages (from matplotlib->wordcloud) (23.2)\n",
      "Requirement already satisfied: pyparsing>=2.3.1 in /home/eugenie_laptop/anaconda3/lib/python3.12/site-packages (from matplotlib->wordcloud) (3.0.9)\n",
      "Requirement already satisfied: python-dateutil>=2.7 in /home/eugenie_laptop/anaconda3/lib/python3.12/site-packages (from matplotlib->wordcloud) (2.9.0.post0)\n",
      "Requirement already satisfied: six>=1.5 in /home/eugenie_laptop/anaconda3/lib/python3.12/site-packages (from python-dateutil>=2.7->matplotlib->wordcloud) (1.16.0)\n",
      "Using cached wordcloud-1.9.4-cp312-cp312-manylinux_2_17_x86_64.manylinux2014_x86_64.whl (539 kB)\n",
      "Installing collected packages: wordcloud\n",
      "Successfully installed wordcloud-1.9.4\n"
     ]
    }
   ],
   "source": [
    "#!pip install wordcloud"
   ]
  },
  {
   "cell_type": "code",
   "execution_count": 9,
   "metadata": {},
   "outputs": [],
   "source": [
    "import pandas as pd\n",
    "import numpy as np \n",
    "from plotly import graph_objects as go\n",
    "import matplotlib.pyplot as plt\n",
    "import plotly.express as px\n",
    "\n",
    "import sklearn\n",
    "from sklearn.model_selection import train_test_split\n",
    "from sklearn.metrics import confusion_matrix, ConfusionMatrixDisplay, classification_report\n",
    "#import tensorflow_datasets as tfds\n",
    "import tensorflow as tf \n",
    "tf.config.run_functions_eagerly(True)\n",
    "import wordcloud\n",
    "\n",
    "import json\n",
    "from random import randint\n",
    "from numpy import array\n",
    "from numpy import argmax\n",
    "from numpy import array_equal\n",
    "from tensorflow.keras.callbacks import EarlyStopping\n",
    "from tensorflow.keras.models import Sequential\n",
    "from tensorflow.keras.layers import Dense, Embedding, GlobalAveragePooling1D\n",
    "from tensorflow.keras.layers import GRU, Dropout, BatchNormalization"
   ]
  },
  {
   "cell_type": "markdown",
   "metadata": {},
   "source": [
    "# Data Preprocessing"
   ]
  },
  {
   "cell_type": "markdown",
   "metadata": {},
   "source": [
    "## Load and clean Dataset"
   ]
  },
  {
   "cell_type": "code",
   "execution_count": 2,
   "metadata": {},
   "outputs": [
    {
     "name": "stdout",
     "output_type": "stream",
     "text": [
      "(5572, 5)\n"
     ]
    },
    {
     "data": {
      "text/html": [
       "<div>\n",
       "<style scoped>\n",
       "    .dataframe tbody tr th:only-of-type {\n",
       "        vertical-align: middle;\n",
       "    }\n",
       "\n",
       "    .dataframe tbody tr th {\n",
       "        vertical-align: top;\n",
       "    }\n",
       "\n",
       "    .dataframe thead th {\n",
       "        text-align: right;\n",
       "    }\n",
       "</style>\n",
       "<table border=\"1\" class=\"dataframe\">\n",
       "  <thead>\n",
       "    <tr style=\"text-align: right;\">\n",
       "      <th></th>\n",
       "      <th>v1</th>\n",
       "      <th>v2</th>\n",
       "      <th>Unnamed: 2</th>\n",
       "      <th>Unnamed: 3</th>\n",
       "      <th>Unnamed: 4</th>\n",
       "    </tr>\n",
       "  </thead>\n",
       "  <tbody>\n",
       "    <tr>\n",
       "      <th>0</th>\n",
       "      <td>ham</td>\n",
       "      <td>Go until jurong point, crazy.. Available only ...</td>\n",
       "      <td>NaN</td>\n",
       "      <td>NaN</td>\n",
       "      <td>NaN</td>\n",
       "    </tr>\n",
       "    <tr>\n",
       "      <th>1</th>\n",
       "      <td>ham</td>\n",
       "      <td>Ok lar... Joking wif u oni...</td>\n",
       "      <td>NaN</td>\n",
       "      <td>NaN</td>\n",
       "      <td>NaN</td>\n",
       "    </tr>\n",
       "    <tr>\n",
       "      <th>2</th>\n",
       "      <td>spam</td>\n",
       "      <td>Free entry in 2 a wkly comp to win FA Cup fina...</td>\n",
       "      <td>NaN</td>\n",
       "      <td>NaN</td>\n",
       "      <td>NaN</td>\n",
       "    </tr>\n",
       "    <tr>\n",
       "      <th>3</th>\n",
       "      <td>ham</td>\n",
       "      <td>U dun say so early hor... U c already then say...</td>\n",
       "      <td>NaN</td>\n",
       "      <td>NaN</td>\n",
       "      <td>NaN</td>\n",
       "    </tr>\n",
       "    <tr>\n",
       "      <th>4</th>\n",
       "      <td>ham</td>\n",
       "      <td>Nah I don't think he goes to usf, he lives aro...</td>\n",
       "      <td>NaN</td>\n",
       "      <td>NaN</td>\n",
       "      <td>NaN</td>\n",
       "    </tr>\n",
       "  </tbody>\n",
       "</table>\n",
       "</div>"
      ],
      "text/plain": [
       "     v1                                                 v2 Unnamed: 2  \\\n",
       "0   ham  Go until jurong point, crazy.. Available only ...        NaN   \n",
       "1   ham                      Ok lar... Joking wif u oni...        NaN   \n",
       "2  spam  Free entry in 2 a wkly comp to win FA Cup fina...        NaN   \n",
       "3   ham  U dun say so early hor... U c already then say...        NaN   \n",
       "4   ham  Nah I don't think he goes to usf, he lives aro...        NaN   \n",
       "\n",
       "  Unnamed: 3 Unnamed: 4  \n",
       "0        NaN        NaN  \n",
       "1        NaN        NaN  \n",
       "2        NaN        NaN  \n",
       "3        NaN        NaN  \n",
       "4        NaN        NaN  "
      ]
     },
     "execution_count": 2,
     "metadata": {},
     "output_type": "execute_result"
    }
   ],
   "source": [
    "dataset = pd.read_csv('https://full-stack-bigdata-datasets.s3.eu-west-3.amazonaws.com/Deep+Learning/project/spam.csv', encoding='latin-1')#'windows-1252')\n",
    "print(dataset.shape)\n",
    "dataset.head()"
   ]
  },
  {
   "cell_type": "code",
   "execution_count": 11,
   "metadata": {},
   "outputs": [
    {
     "data": {
      "text/html": [
       "<div>\n",
       "<style scoped>\n",
       "    .dataframe tbody tr th:only-of-type {\n",
       "        vertical-align: middle;\n",
       "    }\n",
       "\n",
       "    .dataframe tbody tr th {\n",
       "        vertical-align: top;\n",
       "    }\n",
       "\n",
       "    .dataframe thead th {\n",
       "        text-align: right;\n",
       "    }\n",
       "</style>\n",
       "<table border=\"1\" class=\"dataframe\">\n",
       "  <thead>\n",
       "    <tr style=\"text-align: right;\">\n",
       "      <th></th>\n",
       "      <th>v1</th>\n",
       "      <th>v2</th>\n",
       "      <th>Unnamed: 2</th>\n",
       "      <th>Unnamed: 3</th>\n",
       "      <th>Unnamed: 4</th>\n",
       "    </tr>\n",
       "  </thead>\n",
       "  <tbody>\n",
       "    <tr>\n",
       "      <th>count</th>\n",
       "      <td>5572</td>\n",
       "      <td>5572</td>\n",
       "      <td>50</td>\n",
       "      <td>12</td>\n",
       "      <td>6</td>\n",
       "    </tr>\n",
       "    <tr>\n",
       "      <th>unique</th>\n",
       "      <td>2</td>\n",
       "      <td>5169</td>\n",
       "      <td>43</td>\n",
       "      <td>10</td>\n",
       "      <td>5</td>\n",
       "    </tr>\n",
       "    <tr>\n",
       "      <th>top</th>\n",
       "      <td>ham</td>\n",
       "      <td>Sorry, I'll call later</td>\n",
       "      <td>bt not his girlfrnd... G o o d n i g h t . . .@\"</td>\n",
       "      <td>MK17 92H. 450Ppw 16\"</td>\n",
       "      <td>GNT:-)\"</td>\n",
       "    </tr>\n",
       "    <tr>\n",
       "      <th>freq</th>\n",
       "      <td>4825</td>\n",
       "      <td>30</td>\n",
       "      <td>3</td>\n",
       "      <td>2</td>\n",
       "      <td>2</td>\n",
       "    </tr>\n",
       "  </tbody>\n",
       "</table>\n",
       "</div>"
      ],
      "text/plain": [
       "          v1                      v2  \\\n",
       "count   5572                    5572   \n",
       "unique     2                    5169   \n",
       "top      ham  Sorry, I'll call later   \n",
       "freq    4825                      30   \n",
       "\n",
       "                                               Unnamed: 2  \\\n",
       "count                                                  50   \n",
       "unique                                                 43   \n",
       "top      bt not his girlfrnd... G o o d n i g h t . . .@\"   \n",
       "freq                                                    3   \n",
       "\n",
       "                   Unnamed: 3 Unnamed: 4  \n",
       "count                      12          6  \n",
       "unique                     10          5  \n",
       "top      MK17 92H. 450Ppw 16\"    GNT:-)\"  \n",
       "freq                        2          2  "
      ]
     },
     "execution_count": 11,
     "metadata": {},
     "output_type": "execute_result"
    }
   ],
   "source": [
    "dataset.describe()\n",
    "\n",
    "# dataset avec une imbalanced target (v1)"
   ]
  },
  {
   "cell_type": "code",
   "execution_count": 12,
   "metadata": {},
   "outputs": [
    {
     "name": "stdout",
     "output_type": "stream",
     "text": [
      "\n",
      "Missing values:\n",
      "\n",
      "v1               0\n",
      "v2               0\n",
      "Unnamed: 2    5522\n",
      "Unnamed: 3    5560\n",
      "Unnamed: 4    5566\n",
      "dtype: int64\n"
     ]
    }
   ],
   "source": [
    "# Check for missing values\n",
    "print(\"\\nMissing values:\\n\")\n",
    "print(dataset.isnull().sum())"
   ]
  },
  {
   "cell_type": "code",
   "execution_count": 3,
   "metadata": {},
   "outputs": [
    {
     "name": "stdout",
     "output_type": "stream",
     "text": [
      "Index([  80,  222,  338,  443,  701,  767, 1131, 1151, 1484, 1584, 1901, 1980,\n",
      "       1988, 2384, 2446, 2517, 2521, 2523, 2645, 3347, 3364, 3532, 3592, 4126,\n",
      "       4171, 4189, 5191, 5423, 5458, 5558],\n",
      "      dtype='int64')\n"
     ]
    },
    {
     "data": {
      "text/plain": [
       "(5543, 5)"
      ]
     },
     "execution_count": 3,
     "metadata": {},
     "output_type": "execute_result"
    }
   ],
   "source": [
    "# 30 répétitions sur la colonne v2 qui risquent de biaiser les modèles sur cette phrase -> drop des 29 colonnes en trop\n",
    "\n",
    "list_drop = dataset[dataset['v2'] == \"Sorry, I'll call later\"].index\n",
    "print(list_drop)\n",
    "dataset = dataset.drop(list_drop[1:], axis=0).reset_index(drop=True)\n",
    "dataset.shape"
   ]
  },
  {
   "cell_type": "code",
   "execution_count": 18,
   "metadata": {},
   "outputs": [
    {
     "data": {
      "text/html": [
       "<div>\n",
       "<style scoped>\n",
       "    .dataframe tbody tr th:only-of-type {\n",
       "        vertical-align: middle;\n",
       "    }\n",
       "\n",
       "    .dataframe tbody tr th {\n",
       "        vertical-align: top;\n",
       "    }\n",
       "\n",
       "    .dataframe thead th {\n",
       "        text-align: right;\n",
       "    }\n",
       "</style>\n",
       "<table border=\"1\" class=\"dataframe\">\n",
       "  <thead>\n",
       "    <tr style=\"text-align: right;\">\n",
       "      <th></th>\n",
       "      <th>v1</th>\n",
       "      <th>v2</th>\n",
       "      <th>Unnamed: 2</th>\n",
       "      <th>Unnamed: 3</th>\n",
       "      <th>Unnamed: 4</th>\n",
       "    </tr>\n",
       "  </thead>\n",
       "  <tbody>\n",
       "    <tr>\n",
       "      <th>95</th>\n",
       "      <td>spam</td>\n",
       "      <td>Your free ringtone is waiting to be collected....</td>\n",
       "      <td>PO Box 5249</td>\n",
       "      <td>MK17 92H. 450Ppw 16\"</td>\n",
       "      <td>NaN</td>\n",
       "    </tr>\n",
       "    <tr>\n",
       "      <th>280</th>\n",
       "      <td>ham</td>\n",
       "      <td>\\Wen u miss someone</td>\n",
       "      <td>the person is definitely special for u..... B...</td>\n",
       "      <td>why to miss them</td>\n",
       "      <td>just Keep-in-touch\\\" gdeve..\"</td>\n",
       "    </tr>\n",
       "    <tr>\n",
       "      <th>441</th>\n",
       "      <td>ham</td>\n",
       "      <td>\\HEY HEY WERETHE MONKEESPEOPLE SAY WE MONKEYAR...</td>\n",
       "      <td>HOWU DOIN? FOUNDURSELF A JOBYET SAUSAGE?LOVE ...</td>\n",
       "      <td>NaN</td>\n",
       "      <td>NaN</td>\n",
       "    </tr>\n",
       "    <tr>\n",
       "      <th>668</th>\n",
       "      <td>spam</td>\n",
       "      <td>SMS. ac sun0819 posts HELLO:\\You seem cool</td>\n",
       "      <td>wanted to say hi. HI!!!\\\" Stop? Send STOP to ...</td>\n",
       "      <td>NaN</td>\n",
       "      <td>NaN</td>\n",
       "    </tr>\n",
       "    <tr>\n",
       "      <th>706</th>\n",
       "      <td>ham</td>\n",
       "      <td>Height of Confidence: All the Aeronautics prof...</td>\n",
       "      <td>this wont even start........ Datz confidence..\"</td>\n",
       "      <td>NaN</td>\n",
       "      <td>NaN</td>\n",
       "    </tr>\n",
       "    <tr>\n",
       "      <th>894</th>\n",
       "      <td>spam</td>\n",
       "      <td>Your free ringtone is waiting to be collected....</td>\n",
       "      <td>PO Box 5249</td>\n",
       "      <td>MK17 92H. 450Ppw 16\"</td>\n",
       "      <td>NaN</td>\n",
       "    </tr>\n",
       "    <tr>\n",
       "      <th>1033</th>\n",
       "      <td>ham</td>\n",
       "      <td>Edison has rightly said, \\A fool can ask more ...</td>\n",
       "      <td>GN</td>\n",
       "      <td>GE</td>\n",
       "      <td>GNT:-)\"</td>\n",
       "    </tr>\n",
       "    <tr>\n",
       "      <th>1122</th>\n",
       "      <td>ham</td>\n",
       "      <td>Height of \\Oh shit....!!\\\" situation: A guy th...</td>\n",
       "      <td>.;-):-D\"</td>\n",
       "      <td>NaN</td>\n",
       "      <td>NaN</td>\n",
       "    </tr>\n",
       "    <tr>\n",
       "      <th>1259</th>\n",
       "      <td>ham</td>\n",
       "      <td>\\Hey sorry I didntgive ya a a bellearlier hunny</td>\n",
       "      <td>just been in bedbut mite go 2 thepub l8tr if u...</td>\n",
       "      <td>NaN</td>\n",
       "      <td>NaN</td>\n",
       "    </tr>\n",
       "    <tr>\n",
       "      <th>1377</th>\n",
       "      <td>ham</td>\n",
       "      <td>Storming msg: Wen u lift d phne, u say \\HELLO\\...</td>\n",
       "      <td>bt not his girlfrnd... G o o d n i g h t . . .@\"</td>\n",
       "      <td>NaN</td>\n",
       "      <td>NaN</td>\n",
       "    </tr>\n",
       "  </tbody>\n",
       "</table>\n",
       "</div>"
      ],
      "text/plain": [
       "        v1                                                 v2  \\\n",
       "95    spam  Your free ringtone is waiting to be collected....   \n",
       "280    ham                                \\Wen u miss someone   \n",
       "441    ham  \\HEY HEY WERETHE MONKEESPEOPLE SAY WE MONKEYAR...   \n",
       "668   spam         SMS. ac sun0819 posts HELLO:\\You seem cool   \n",
       "706    ham  Height of Confidence: All the Aeronautics prof...   \n",
       "894   spam  Your free ringtone is waiting to be collected....   \n",
       "1033   ham  Edison has rightly said, \\A fool can ask more ...   \n",
       "1122   ham  Height of \\Oh shit....!!\\\" situation: A guy th...   \n",
       "1259   ham    \\Hey sorry I didntgive ya a a bellearlier hunny   \n",
       "1377   ham  Storming msg: Wen u lift d phne, u say \\HELLO\\...   \n",
       "\n",
       "                                             Unnamed: 2  \\\n",
       "95                                          PO Box 5249   \n",
       "280    the person is definitely special for u..... B...   \n",
       "441    HOWU DOIN? FOUNDURSELF A JOBYET SAUSAGE?LOVE ...   \n",
       "668    wanted to say hi. HI!!!\\\" Stop? Send STOP to ...   \n",
       "706     this wont even start........ Datz confidence..\"   \n",
       "894                                         PO Box 5249   \n",
       "1033                                                 GN   \n",
       "1122                                           .;-):-D\"   \n",
       "1259  just been in bedbut mite go 2 thepub l8tr if u...   \n",
       "1377   bt not his girlfrnd... G o o d n i g h t . . .@\"   \n",
       "\n",
       "                 Unnamed: 3                      Unnamed: 4  \n",
       "95     MK17 92H. 450Ppw 16\"                             NaN  \n",
       "280        why to miss them   just Keep-in-touch\\\" gdeve..\"  \n",
       "441                     NaN                             NaN  \n",
       "668                     NaN                             NaN  \n",
       "706                     NaN                             NaN  \n",
       "894    MK17 92H. 450Ppw 16\"                             NaN  \n",
       "1033                     GE                         GNT:-)\"  \n",
       "1122                    NaN                             NaN  \n",
       "1259                    NaN                             NaN  \n",
       "1377                    NaN                             NaN  "
      ]
     },
     "execution_count": 18,
     "metadata": {},
     "output_type": "execute_result"
    }
   ],
   "source": [
    "# étude des colonnes 3 à 5 : faut-il les garder ?\n",
    "\n",
    "dataset[pd.notna(dataset[\"Unnamed: 2\"])].head(10)\n",
    "\n",
    "# conclusion : quand les colonnes 3,4,5 sont non-NaN, il semble que c'est la suite du message de v2 -> à concaténer avec la v2 lorsque non-Nan"
   ]
  },
  {
   "cell_type": "code",
   "execution_count": 4,
   "metadata": {},
   "outputs": [
    {
     "data": {
      "text/plain": [
       "v1                                                          ham\n",
       "v2                                          \\Wen u miss someone\n",
       "Unnamed: 2     the person is definitely special for u..... B...\n",
       "Unnamed: 3                                     why to miss them\n",
       "Unnamed: 4                        just Keep-in-touch\\\" gdeve..\"\n",
       "concat        \\Wen u miss someone the person is definitely s...\n",
       "Name: 280, dtype: object"
      ]
     },
     "execution_count": 4,
     "metadata": {},
     "output_type": "execute_result"
    }
   ],
   "source": [
    "dataset[dataset.isnull() == True] = ''\n",
    "dataset['concat'] = dataset['v2'] + dataset['Unnamed: 2'] + dataset['Unnamed: 3'] + dataset['Unnamed: 4']\n",
    "\n",
    "# verification de la concaténation :\n",
    "dataset.iloc[280,:]"
   ]
  },
  {
   "cell_type": "markdown",
   "metadata": {},
   "source": [
    "## Data Exploration"
   ]
  },
  {
   "cell_type": "code",
   "execution_count": 5,
   "metadata": {},
   "outputs": [
    {
     "data": {
      "text/html": [
       "<div>\n",
       "<style scoped>\n",
       "    .dataframe tbody tr th:only-of-type {\n",
       "        vertical-align: middle;\n",
       "    }\n",
       "\n",
       "    .dataframe tbody tr th {\n",
       "        vertical-align: top;\n",
       "    }\n",
       "\n",
       "    .dataframe thead th {\n",
       "        text-align: right;\n",
       "    }\n",
       "</style>\n",
       "<table border=\"1\" class=\"dataframe\">\n",
       "  <thead>\n",
       "    <tr style=\"text-align: right;\">\n",
       "      <th></th>\n",
       "      <th>class</th>\n",
       "      <th>text</th>\n",
       "    </tr>\n",
       "  </thead>\n",
       "  <tbody>\n",
       "    <tr>\n",
       "      <th>0</th>\n",
       "      <td>ham</td>\n",
       "      <td>Go until jurong point, crazy.. Available only ...</td>\n",
       "    </tr>\n",
       "    <tr>\n",
       "      <th>1</th>\n",
       "      <td>ham</td>\n",
       "      <td>Ok lar... Joking wif u oni...</td>\n",
       "    </tr>\n",
       "    <tr>\n",
       "      <th>2</th>\n",
       "      <td>spam</td>\n",
       "      <td>Free entry in 2 a wkly comp to win FA Cup fina...</td>\n",
       "    </tr>\n",
       "    <tr>\n",
       "      <th>3</th>\n",
       "      <td>ham</td>\n",
       "      <td>U dun say so early hor... U c already then say...</td>\n",
       "    </tr>\n",
       "    <tr>\n",
       "      <th>4</th>\n",
       "      <td>ham</td>\n",
       "      <td>Nah I don't think he goes to usf, he lives aro...</td>\n",
       "    </tr>\n",
       "  </tbody>\n",
       "</table>\n",
       "</div>"
      ],
      "text/plain": [
       "  class                                               text\n",
       "0   ham  Go until jurong point, crazy.. Available only ...\n",
       "1   ham                      Ok lar... Joking wif u oni...\n",
       "2  spam  Free entry in 2 a wkly comp to win FA Cup fina...\n",
       "3   ham  U dun say so early hor... U c already then say...\n",
       "4   ham  Nah I don't think he goes to usf, he lives aro..."
      ]
     },
     "execution_count": 5,
     "metadata": {},
     "output_type": "execute_result"
    }
   ],
   "source": [
    "data = dataset.loc[:,[\"v1\", \"concat\"]]\n",
    "data.columns = [\"class\", \"text\"]\n",
    "data.head()"
   ]
  },
  {
   "cell_type": "code",
   "execution_count": 21,
   "metadata": {},
   "outputs": [
    {
     "name": "stdout",
     "output_type": "stream",
     "text": [
      "\n",
      "Missing values:\n",
      "\n",
      "class    0\n",
      "text     0\n",
      "dtype: int64\n"
     ]
    }
   ],
   "source": [
    "# vérification des missing values\n",
    "print(\"\\nMissing values:\\n\")\n",
    "print(data.isnull().sum())"
   ]
  },
  {
   "cell_type": "code",
   "execution_count": 22,
   "metadata": {},
   "outputs": [
    {
     "data": {
      "text/plain": [
       "class\n",
       "ham     4796\n",
       "spam     747\n",
       "Name: count, dtype: int64"
      ]
     },
     "execution_count": 22,
     "metadata": {},
     "output_type": "execute_result"
    }
   ],
   "source": [
    "# vérification du déséquilibre de classes\n",
    "data['class'].value_counts()"
   ]
  },
  {
   "cell_type": "code",
   "execution_count": 6,
   "metadata": {},
   "outputs": [
    {
     "data": {
      "application/vnd.plotly.v1+json": {
       "config": {
        "plotlyServerURL": "https://plot.ly"
       },
       "data": [
        {
         "alignmentgroup": "True",
         "bingroup": "x",
         "hovertemplate": "class=ham<br>text_length=%{x}<br>count=%{y}<extra></extra>",
         "legendgroup": "ham",
         "marker": {
          "color": "#636efa",
          "opacity": 0.5,
          "pattern": {
           "shape": ""
          }
         },
         "name": "ham",
         "offsetgroup": "ham",
         "orientation": "v",
         "showlegend": true,
         "type": "histogram",
         "x": [
          111,
          29,
          49,
          61,
          77,
          160,
          109,
          196,
          35,
          26,
          81,
          58,
          41,
          49,
          53,
          88,
          57,
          144,
          30,
          134,
          75,
          64,
          130,
          189,
          29,
          84,
          123,
          47,
          28,
          27,
          155,
          82,
          142,
          19,
          72,
          32,
          45,
          31,
          67,
          148,
          58,
          124,
          80,
          291,
          76,
          34,
          22,
          40,
          108,
          48,
          25,
          56,
          110,
          124,
          34,
          46,
          29,
          45,
          42,
          20,
          43,
          73,
          50,
          42,
          76,
          22,
          32,
          32,
          36,
          14,
          55,
          121,
          144,
          42,
          41,
          62,
          195,
          141,
          107,
          33,
          51,
          184,
          57,
          81,
          76,
          160,
          183,
          44,
          95,
          43,
          82,
          115,
          30,
          40,
          31,
          96,
          143,
          156,
          72,
          86,
          53,
          52,
          40,
          20,
          244,
          22,
          107,
          28,
          9,
          39,
          25,
          38,
          34,
          46,
          86,
          33,
          27,
          158,
          42,
          25,
          48,
          84,
          33,
          30,
          45,
          59,
          25,
          160,
          384,
          28,
          27,
          157,
          115,
          64,
          85,
          51,
          74,
          67,
          59,
          50,
          94,
          33,
          105,
          61,
          65,
          26,
          146,
          66,
          126,
          159,
          23,
          65,
          24,
          26,
          152,
          34,
          55,
          88,
          185,
          37,
          111,
          92,
          28,
          28,
          64,
          131,
          40,
          28,
          84,
          174,
          24,
          25,
          64,
          156,
          28,
          86,
          39,
          73,
          26,
          23,
          24,
          31,
          58,
          48,
          41,
          32,
          159,
          25,
          161,
          119,
          69,
          30,
          165,
          34,
          109,
          37,
          33,
          48,
          50,
          65,
          38,
          145,
          51,
          45,
          83,
          155,
          37,
          78,
          30,
          31,
          146,
          44,
          179,
          27,
          179,
          38,
          97,
          43,
          36,
          74,
          3,
          85,
          51,
          26,
          35,
          47,
          47,
          53,
          147,
          37,
          31,
          8,
          38,
          30,
          47,
          56,
          22,
          142,
          29,
          7,
          121,
          58,
          4,
          148,
          160,
          152,
          37,
          55,
          21,
          22,
          50,
          67,
          153,
          51,
          67,
          88,
          157,
          91,
          24,
          57,
          26,
          71,
          55,
          156,
          119,
          142,
          41,
          26,
          119,
          46,
          23,
          51,
          62,
          107,
          157,
          30,
          32,
          31,
          79,
          32,
          86,
          22,
          76,
          232,
          45,
          57,
          26,
          41,
          28,
          151,
          29,
          34,
          52,
          33,
          85,
          31,
          78,
          50,
          63,
          148,
          129,
          45,
          202,
          168,
          85,
          38,
          15,
          31,
          88,
          160,
          50,
          26,
          31,
          129,
          34,
          54,
          162,
          23,
          53,
          131,
          36,
          143,
          300,
          59,
          42,
          41,
          22,
          31,
          30,
          47,
          25,
          80,
          22,
          115,
          56,
          102,
          118,
          221,
          204,
          114,
          39,
          36,
          48,
          77,
          60,
          168,
          51,
          22,
          152,
          75,
          30,
          95,
          24,
          35,
          29,
          66,
          48,
          24,
          248,
          25,
          27,
          37,
          69,
          150,
          24,
          80,
          25,
          73,
          89,
          58,
          36,
          76,
          47,
          104,
          38,
          69,
          122,
          94,
          70,
          73,
          42,
          17,
          13,
          45,
          57,
          105,
          47,
          117,
          158,
          79,
          142,
          62,
          71,
          29,
          29,
          148,
          83,
          37,
          44,
          45,
          50,
          298,
          125,
          51,
          28,
          34,
          46,
          81,
          28,
          90,
          18,
          54,
          55,
          45,
          40,
          107,
          50,
          120,
          32,
          34,
          32,
          16,
          67,
          55,
          43,
          23,
          149,
          21,
          23,
          40,
          117,
          62,
          166,
          24,
          136,
          99,
          45,
          23,
          25,
          26,
          168,
          117,
          46,
          26,
          28,
          32,
          57,
          42,
          36,
          50,
          33,
          15,
          177,
          160,
          63,
          84,
          84,
          57,
          169,
          76,
          47,
          130,
          23,
          149,
          32,
          22,
          101,
          281,
          54,
          120,
          138,
          135,
          66,
          40,
          40,
          70,
          160,
          26,
          32,
          51,
          146,
          103,
          45,
          142,
          92,
          26,
          134,
          37,
          22,
          22,
          33,
          109,
          36,
          140,
          51,
          46,
          63,
          95,
          69,
          110,
          55,
          27,
          34,
          24,
          147,
          24,
          29,
          87,
          38,
          104,
          59,
          38,
          38,
          22,
          25,
          87,
          19,
          66,
          156,
          22,
          107,
          65,
          149,
          137,
          25,
          60,
          103,
          37,
          58,
          87,
          58,
          123,
          67,
          66,
          102,
          35,
          8,
          62,
          58,
          20,
          100,
          51,
          36,
          53,
          88,
          133,
          36,
          37,
          127,
          92,
          80,
          35,
          66,
          119,
          65,
          26,
          28,
          45,
          157,
          36,
          94,
          140,
          22,
          57,
          43,
          61,
          56,
          54,
          37,
          25,
          21,
          36,
          153,
          46,
          34,
          80,
          69,
          24,
          108,
          46,
          30,
          22,
          87,
          30,
          143,
          169,
          42,
          18,
          109,
          76,
          73,
          92,
          36,
          54,
          78,
          30,
          40,
          29,
          77,
          109,
          75,
          76,
          30,
          49,
          316,
          195,
          125,
          48,
          39,
          121,
          162,
          29,
          38,
          25,
          40,
          226,
          70,
          140,
          47,
          63,
          17,
          41,
          80,
          137,
          103,
          29,
          51,
          25,
          149,
          38,
          62,
          181,
          34,
          47,
          40,
          110,
          101,
          42,
          27,
          31,
          82,
          23,
          59,
          133,
          33,
          95,
          135,
          151,
          75,
          103,
          51,
          137,
          58,
          89,
          81,
          57,
          26,
          32,
          145,
          122,
          143,
          23,
          136,
          94,
          8,
          65,
          71,
          117,
          28,
          150,
          31,
          72,
          70,
          94,
          48,
          98,
          31,
          43,
          71,
          25,
          22,
          48,
          33,
          44,
          47,
          26,
          112,
          19,
          48,
          107,
          38,
          27,
          129,
          131,
          23,
          25,
          42,
          27,
          22,
          98,
          89,
          130,
          215,
          26,
          66,
          372,
          82,
          73,
          76,
          24,
          231,
          87,
          72,
          105,
          54,
          58,
          54,
          118,
          88,
          29,
          136,
          23,
          39,
          35,
          24,
          95,
          73,
          45,
          159,
          92,
          102,
          31,
          77,
          139,
          44,
          276,
          78,
          27,
          79,
          24,
          52,
          68,
          24,
          44,
          24,
          55,
          62,
          104,
          87,
          150,
          49,
          154,
          56,
          126,
          43,
          77,
          49,
          84,
          49,
          79,
          31,
          146,
          23,
          160,
          62,
          39,
          67,
          73,
          148,
          88,
          37,
          23,
          56,
          53,
          73,
          80,
          44,
          92,
          35,
          23,
          106,
          103,
          34,
          77,
          26,
          47,
          24,
          133,
          126,
          78,
          116,
          221,
          59,
          143,
          24,
          38,
          42,
          24,
          159,
          47,
          122,
          126,
          26,
          114,
          7,
          34,
          92,
          90,
          22,
          85,
          63,
          220,
          41,
          60,
          88,
          31,
          37,
          28,
          24,
          118,
          22,
          210,
          50,
          49,
          87,
          61,
          54,
          28,
          49,
          53,
          145,
          162,
          53,
          12,
          142,
          73,
          129,
          33,
          47,
          72,
          148,
          107,
          41,
          23,
          104,
          45,
          26,
          37,
          132,
          63,
          108,
          93,
          43,
          46,
          56,
          37,
          124,
          38,
          53,
          31,
          224,
          24,
          24,
          52,
          48,
          28,
          43,
          49,
          26,
          58,
          17,
          26,
          127,
          103,
          157,
          34,
          128,
          154,
          51,
          60,
          30,
          41,
          103,
          19,
          114,
          78,
          41,
          46,
          136,
          46,
          157,
          24,
          17,
          20,
          84,
          63,
          155,
          122,
          50,
          25,
          44,
          65,
          21,
          47,
          135,
          39,
          83,
          44,
          28,
          24,
          67,
          67,
          33,
          24,
          119,
          910,
          158,
          35,
          24,
          53,
          72,
          19,
          188,
          71,
          23,
          160,
          73,
          106,
          80,
          105,
          43,
          68,
          32,
          159,
          140,
          101,
          31,
          23,
          58,
          37,
          61,
          60,
          54,
          69,
          72,
          40,
          36,
          35,
          34,
          79,
          122,
          64,
          25,
          35,
          156,
          58,
          31,
          24,
          17,
          152,
          41,
          80,
          85,
          115,
          25,
          45,
          70,
          22,
          43,
          22,
          72,
          91,
          70,
          140,
          31,
          52,
          40,
          23,
          145,
          54,
          43,
          30,
          39,
          71,
          146,
          73,
          23,
          26,
          59,
          150,
          167,
          26,
          66,
          35,
          26,
          26,
          49,
          38,
          36,
          18,
          48,
          68,
          73,
          49,
          13,
          63,
          133,
          13,
          74,
          48,
          138,
          164,
          40,
          20,
          61,
          61,
          130,
          37,
          31,
          27,
          41,
          49,
          52,
          124,
          63,
          85,
          70,
          55,
          119,
          22,
          43,
          46,
          75,
          43,
          31,
          76,
          51,
          27,
          34,
          129,
          136,
          24,
          33,
          63,
          96,
          53,
          59,
          52,
          45,
          34,
          53,
          111,
          60,
          152,
          55,
          84,
          87,
          84,
          26,
          58,
          46,
          43,
          24,
          97,
          70,
          179,
          54,
          26,
          156,
          126,
          48,
          40,
          81,
          116,
          5,
          81,
          20,
          13,
          37,
          66,
          69,
          55,
          45,
          160,
          25,
          28,
          40,
          156,
          138,
          24,
          70,
          62,
          86,
          174,
          48,
          48,
          25,
          54,
          38,
          46,
          64,
          133,
          36,
          132,
          51,
          48,
          62,
          48,
          39,
          103,
          83,
          84,
          39,
          122,
          154,
          36,
          5,
          30,
          57,
          54,
          34,
          85,
          139,
          35,
          31,
          48,
          94,
          27,
          28,
          41,
          42,
          150,
          162,
          82,
          45,
          56,
          41,
          23,
          112,
          38,
          160,
          32,
          47,
          82,
          25,
          51,
          22,
          30,
          121,
          53,
          84,
          24,
          81,
          152,
          131,
          327,
          49,
          65,
          29,
          207,
          114,
          49,
          108,
          36,
          32,
          50,
          80,
          141,
          23,
          40,
          25,
          22,
          155,
          72,
          203,
          327,
          115,
          27,
          139,
          46,
          115,
          155,
          35,
          82,
          7,
          36,
          73,
          24,
          49,
          48,
          155,
          93,
          99,
          155,
          48,
          42,
          24,
          30,
          44,
          24,
          34,
          144,
          179,
          52,
          82,
          39,
          80,
          35,
          82,
          41,
          27,
          32,
          33,
          41,
          5,
          126,
          167,
          141,
          124,
          38,
          63,
          47,
          22,
          115,
          71,
          34,
          72,
          134,
          26,
          38,
          25,
          27,
          159,
          107,
          13,
          25,
          65,
          33,
          23,
          53,
          104,
          149,
          144,
          51,
          114,
          131,
          174,
          42,
          153,
          37,
          61,
          74,
          93,
          141,
          85,
          78,
          33,
          90,
          147,
          33,
          32,
          5,
          149,
          132,
          154,
          31,
          51,
          18,
          172,
          76,
          78,
          112,
          58,
          158,
          60,
          154,
          34,
          26,
          31,
          26,
          64,
          179,
          56,
          148,
          90,
          110,
          458,
          36,
          28,
          33,
          51,
          45,
          37,
          39,
          96,
          15,
          29,
          32,
          152,
          29,
          36,
          54,
          29,
          47,
          172,
          32,
          22,
          91,
          53,
          24,
          121,
          36,
          212,
          25,
          59,
          155,
          37,
          79,
          24,
          50,
          75,
          41,
          8,
          36,
          31,
          73,
          127,
          14,
          97,
          125,
          92,
          63,
          58,
          46,
          26,
          143,
          29,
          31,
          156,
          37,
          63,
          33,
          104,
          58,
          62,
          184,
          611,
          61,
          62,
          64,
          47,
          92,
          338,
          86,
          159,
          30,
          105,
          148,
          30,
          52,
          152,
          43,
          35,
          47,
          25,
          127,
          25,
          143,
          128,
          24,
          43,
          99,
          152,
          37,
          32,
          3,
          28,
          55,
          28,
          121,
          29,
          115,
          39,
          154,
          148,
          44,
          156,
          25,
          41,
          83,
          45,
          73,
          158,
          47,
          159,
          165,
          37,
          41,
          136,
          24,
          35,
          25,
          31,
          36,
          132,
          156,
          30,
          118,
          82,
          147,
          75,
          22,
          90,
          61,
          28,
          42,
          75,
          27,
          14,
          129,
          73,
          88,
          27,
          148,
          11,
          23,
          25,
          145,
          51,
          40,
          156,
          124,
          18,
          6,
          126,
          46,
          30,
          35,
          32,
          23,
          42,
          99,
          96,
          74,
          72,
          76,
          60,
          5,
          31,
          77,
          33,
          25,
          126,
          71,
          75,
          68,
          144,
          59,
          60,
          49,
          66,
          24,
          58,
          107,
          53,
          73,
          149,
          144,
          63,
          159,
          39,
          67,
          131,
          24,
          136,
          34,
          27,
          55,
          27,
          39,
          36,
          23,
          51,
          34,
          34,
          74,
          146,
          32,
          160,
          86,
          32,
          166,
          22,
          26,
          92,
          37,
          46,
          62,
          39,
          50,
          35,
          21,
          107,
          38,
          205,
          158,
          67,
          121,
          26,
          68,
          123,
          61,
          33,
          156,
          41,
          50,
          41,
          153,
          22,
          53,
          62,
          159,
          34,
          151,
          26,
          27,
          52,
          100,
          164,
          39,
          32,
          158,
          120,
          42,
          46,
          44,
          123,
          24,
          29,
          34,
          29,
          47,
          47,
          115,
          37,
          64,
          83,
          124,
          24,
          89,
          67,
          44,
          33,
          28,
          37,
          76,
          150,
          45,
          84,
          24,
          119,
          332,
          80,
          24,
          34,
          65,
          27,
          24,
          53,
          28,
          22,
          23,
          191,
          75,
          23,
          29,
          37,
          40,
          93,
          107,
          52,
          71,
          54,
          51,
          98,
          89,
          50,
          163,
          135,
          32,
          41,
          58,
          50,
          790,
          34,
          35,
          100,
          46,
          183,
          71,
          30,
          34,
          75,
          55,
          33,
          97,
          33,
          64,
          23,
          32,
          128,
          45,
          62,
          85,
          32,
          89,
          63,
          28,
          41,
          110,
          53,
          31,
          27,
          79,
          40,
          59,
          54,
          84,
          15,
          106,
          30,
          108,
          92,
          87,
          16,
          51,
          50,
          63,
          34,
          160,
          29,
          41,
          68,
          91,
          2,
          66,
          135,
          30,
          35,
          35,
          25,
          23,
          32,
          76,
          65,
          136,
          55,
          124,
          46,
          120,
          72,
          57,
          54,
          49,
          51,
          29,
          37,
          67,
          41,
          92,
          30,
          68,
          46,
          87,
          95,
          23,
          34,
          59,
          158,
          73,
          76,
          65,
          58,
          14,
          27,
          143,
          53,
          52,
          31,
          39,
          83,
          34,
          89,
          61,
          150,
          123,
          24,
          32,
          49,
          108,
          119,
          34,
          38,
          26,
          32,
          153,
          117,
          45,
          55,
          38,
          80,
          54,
          62,
          52,
          81,
          36,
          431,
          62,
          375,
          160,
          52,
          138,
          42,
          63,
          22,
          38,
          50,
          83,
          84,
          39,
          76,
          53,
          94,
          38,
          38,
          75,
          62,
          59,
          23,
          37,
          45,
          51,
          24,
          43,
          123,
          43,
          36,
          46,
          35,
          59,
          32,
          50,
          27,
          40,
          37,
          84,
          125,
          45,
          32,
          52,
          39,
          32,
          52,
          40,
          96,
          31,
          276,
          51,
          26,
          36,
          99,
          44,
          23,
          63,
          60,
          41,
          133,
          27,
          42,
          40,
          17,
          81,
          38,
          48,
          35,
          140,
          363,
          40,
          47,
          154,
          31,
          11,
          44,
          88,
          47,
          64,
          24,
          95,
          134,
          23,
          32,
          175,
          38,
          35,
          147,
          51,
          107,
          38,
          60,
          37,
          157,
          185,
          28,
          159,
          79,
          40,
          113,
          30,
          42,
          41,
          113,
          382,
          87,
          49,
          27,
          28,
          26,
          49,
          39,
          38,
          31,
          162,
          25,
          154,
          22,
          34,
          45,
          70,
          77,
          32,
          50,
          30,
          114,
          588,
          114,
          114,
          50,
          141,
          158,
          56,
          29,
          39,
          32,
          37,
          161,
          29,
          48,
          59,
          29,
          24,
          31,
          37,
          193,
          45,
          154,
          3,
          32,
          131,
          52,
          142,
          104,
          43,
          73,
          105,
          54,
          108,
          77,
          42,
          132,
          42,
          22,
          30,
          38,
          54,
          56,
          66,
          65,
          93,
          132,
          112,
          22,
          68,
          119,
          58,
          60,
          54,
          45,
          66,
          67,
          77,
          76,
          77,
          175,
          77,
          102,
          39,
          32,
          30,
          108,
          141,
          130,
          58,
          28,
          77,
          164,
          88,
          127,
          110,
          51,
          30,
          25,
          96,
          64,
          23,
          70,
          31,
          113,
          110,
          36,
          28,
          23,
          154,
          54,
          39,
          154,
          36,
          64,
          36,
          71,
          51,
          17,
          22,
          26,
          144,
          63,
          22,
          89,
          42,
          28,
          135,
          78,
          33,
          27,
          52,
          29,
          33,
          23,
          85,
          101,
          110,
          27,
          58,
          44,
          26,
          91,
          125,
          25,
          69,
          72,
          48,
          28,
          66,
          127,
          62,
          26,
          78,
          23,
          85,
          34,
          41,
          134,
          25,
          30,
          45,
          5,
          23,
          93,
          7,
          24,
          129,
          45,
          65,
          48,
          18,
          24,
          33,
          25,
          51,
          96,
          69,
          25,
          108,
          51,
          65,
          141,
          7,
          41,
          67,
          30,
          37,
          47,
          36,
          29,
          36,
          281,
          27,
          52,
          66,
          121,
          56,
          92,
          66,
          43,
          127,
          43,
          450,
          102,
          88,
          103,
          24,
          95,
          74,
          158,
          482,
          53,
          121,
          31,
          22,
          38,
          22,
          91,
          66,
          191,
          27,
          67,
          104,
          96,
          38,
          40,
          25,
          24,
          26,
          39,
          54,
          73,
          80,
          21,
          148,
          444,
          41,
          99,
          34,
          27,
          116,
          24,
          75,
          47,
          81,
          115,
          52,
          83,
          41,
          22,
          46,
          57,
          45,
          67,
          26,
          100,
          53,
          632,
          235,
          26,
          114,
          45,
          78,
          51,
          82,
          28,
          85,
          46,
          183,
          109,
          28,
          25,
          23,
          74,
          50,
          28,
          44,
          88,
          25,
          29,
          39,
          46,
          64,
          15,
          126,
          105,
          49,
          30,
          23,
          84,
          67,
          14,
          68,
          37,
          26,
          84,
          29,
          22,
          201,
          137,
          33,
          101,
          45,
          124,
          84,
          42,
          78,
          70,
          121,
          81,
          42,
          245,
          66,
          139,
          167,
          51,
          55,
          31,
          36,
          28,
          306,
          202,
          160,
          36,
          20,
          6,
          5,
          150,
          74,
          19,
          153,
          45,
          54,
          22,
          67,
          42,
          179,
          82,
          163,
          46,
          158,
          32,
          71,
          34,
          104,
          9,
          95,
          29,
          155,
          24,
          41,
          106,
          32,
          112,
          47,
          28,
          30,
          289,
          80,
          70,
          122,
          59,
          58,
          21,
          27,
          35,
          31,
          66,
          65,
          95,
          32,
          23,
          36,
          55,
          140,
          144,
          30,
          28,
          83,
          40,
          32,
          61,
          116,
          36,
          36,
          37,
          54,
          46,
          65,
          37,
          39,
          44,
          82,
          23,
          155,
          153,
          44,
          117,
          55,
          126,
          109,
          65,
          16,
          50,
          46,
          4,
          35,
          99,
          57,
          136,
          56,
          62,
          25,
          38,
          46,
          32,
          49,
          243,
          42,
          41,
          51,
          81,
          9,
          136,
          9,
          25,
          27,
          45,
          115,
          65,
          139,
          28,
          30,
          53,
          59,
          44,
          26,
          85,
          23,
          27,
          47,
          49,
          126,
          32,
          107,
          46,
          96,
          157,
          50,
          63,
          29,
          87,
          27,
          33,
          33,
          27,
          26,
          5,
          33,
          34,
          29,
          30,
          140,
          34,
          117,
          45,
          27,
          153,
          41,
          136,
          56,
          64,
          50,
          444,
          27,
          106,
          66,
          54,
          88,
          4,
          54,
          56,
          27,
          95,
          95,
          52,
          80,
          63,
          73,
          169,
          169,
          57,
          56,
          113,
          50,
          23,
          24,
          179,
          101,
          54,
          96,
          59,
          166,
          14,
          46,
          9,
          46,
          84,
          71,
          20,
          44,
          46,
          35,
          28,
          53,
          82,
          26,
          48,
          29,
          41,
          99,
          55,
          22,
          15,
          119,
          154,
          25,
          29,
          29,
          28,
          89,
          56,
          53,
          37,
          26,
          129,
          69,
          21,
          89,
          37,
          39,
          102,
          42,
          63,
          50,
          163,
          200,
          41,
          38,
          26,
          29,
          16,
          23,
          46,
          31,
          28,
          118,
          29,
          63,
          106,
          121,
          44,
          22,
          22,
          116,
          78,
          59,
          43,
          181,
          45,
          142,
          32,
          69,
          79,
          149,
          63,
          155,
          29,
          145,
          22,
          32,
          10,
          61,
          57,
          36,
          52,
          163,
          133,
          55,
          57,
          68,
          123,
          111,
          37,
          74,
          47,
          9,
          149,
          44,
          23,
          26,
          35,
          29,
          131,
          28,
          23,
          52,
          53,
          131,
          11,
          27,
          88,
          166,
          42,
          32,
          588,
          74,
          39,
          26,
          57,
          54,
          94,
          276,
          82,
          160,
          151,
          60,
          51,
          138,
          104,
          75,
          29,
          142,
          40,
          166,
          130,
          15,
          31,
          52,
          234,
          50,
          103,
          25,
          49,
          47,
          27,
          77,
          28,
          34,
          22,
          95,
          22,
          54,
          67,
          73,
          56,
          32,
          25,
          66,
          43,
          121,
          55,
          126,
          27,
          141,
          111,
          125,
          6,
          142,
          46,
          32,
          89,
          64,
          77,
          47,
          42,
          29,
          37,
          86,
          47,
          33,
          23,
          67,
          32,
          31,
          25,
          11,
          129,
          33,
          30,
          183,
          156,
          47,
          32,
          137,
          101,
          59,
          43,
          95,
          142,
          38,
          327,
          29,
          36,
          87,
          35,
          62,
          32,
          24,
          112,
          57,
          26,
          110,
          147,
          32,
          151,
          44,
          30,
          94,
          28,
          164,
          38,
          46,
          23,
          316,
          65,
          24,
          42,
          45,
          54,
          26,
          60,
          141,
          153,
          35,
          32,
          143,
          60,
          96,
          30,
          126,
          41,
          30,
          157,
          71,
          112,
          43,
          14,
          49,
          47,
          42,
          26,
          23,
          30,
          108,
          119,
          37,
          75,
          46,
          51,
          461,
          127,
          44,
          34,
          72,
          30,
          27,
          48,
          90,
          52,
          47,
          22,
          41,
          37,
          173,
          95,
          69,
          27,
          47,
          93,
          32,
          48,
          63,
          75,
          295,
          39,
          120,
          43,
          169,
          101,
          32,
          150,
          40,
          85,
          2,
          135,
          49,
          32,
          29,
          24,
          74,
          242,
          40,
          66,
          25,
          26,
          27,
          23,
          38,
          34,
          55,
          46,
          22,
          42,
          35,
          53,
          112,
          39,
          38,
          129,
          67,
          147,
          61,
          38,
          82,
          15,
          153,
          42,
          155,
          50,
          52,
          54,
          49,
          67,
          139,
          110,
          37,
          40,
          25,
          113,
          28,
          48,
          58,
          66,
          26,
          297,
          148,
          149,
          154,
          79,
          35,
          31,
          70,
          33,
          35,
          23,
          76,
          24,
          41,
          48,
          59,
          53,
          19,
          51,
          122,
          53,
          22,
          155,
          25,
          39,
          119,
          104,
          45,
          18,
          19,
          30,
          91,
          156,
          45,
          42,
          118,
          113,
          141,
          38,
          43,
          29,
          61,
          5,
          33,
          41,
          60,
          44,
          32,
          87,
          66,
          148,
          56,
          148,
          55,
          35,
          31,
          38,
          59,
          27,
          55,
          30,
          33,
          92,
          59,
          160,
          130,
          112,
          52,
          65,
          59,
          23,
          41,
          137,
          35,
          69,
          68,
          68,
          49,
          96,
          46,
          47,
          50,
          28,
          110,
          97,
          46,
          90,
          13,
          41,
          65,
          134,
          145,
          131,
          33,
          14,
          105,
          42,
          40,
          47,
          80,
          72,
          150,
          33,
          33,
          32,
          281,
          44,
          102,
          34,
          73,
          149,
          20,
          22,
          92,
          86,
          28,
          40,
          133,
          47,
          66,
          63,
          147,
          47,
          151,
          37,
          41,
          32,
          24,
          29,
          50,
          35,
          38,
          41,
          118,
          57,
          115,
          51,
          82,
          29,
          23,
          72,
          72,
          33,
          111,
          34,
          86,
          121,
          61,
          14,
          120,
          78,
          50,
          27,
          444,
          79,
          84,
          62,
          33,
          68,
          107,
          37,
          132,
          69,
          85,
          38,
          114,
          151,
          80,
          80,
          158,
          35,
          165,
          42,
          153,
          320,
          93,
          148,
          50,
          72,
          55,
          158,
          54,
          113,
          70,
          77,
          72,
          33,
          32,
          91,
          22,
          148,
          145,
          126,
          28,
          52,
          36,
          126,
          47,
          27,
          41,
          129,
          83,
          41,
          28,
          34,
          39,
          54,
          90,
          35,
          34,
          91,
          52,
          45,
          54,
          77,
          22,
          368,
          28,
          82,
          55,
          68,
          29,
          115,
          67,
          96,
          25,
          104,
          44,
          18,
          47,
          31,
          39,
          40,
          69,
          79,
          117,
          38,
          65,
          23,
          3,
          151,
          58,
          24,
          31,
          33,
          54,
          60,
          9,
          71,
          28,
          41,
          29,
          34,
          31,
          11,
          129,
          11,
          28,
          47,
          59,
          31,
          143,
          44,
          65,
          22,
          84,
          160,
          120,
          131,
          40,
          52,
          34,
          23,
          29,
          48,
          38,
          31,
          86,
          34,
          58,
          193,
          34,
          124,
          152,
          65,
          105,
          51,
          29,
          25,
          78,
          30,
          135,
          44,
          91,
          142,
          49,
          54,
          19,
          34,
          107,
          24,
          274,
          118,
          158,
          28,
          127,
          52,
          131,
          155,
          73,
          8,
          57,
          106,
          56,
          49,
          27,
          176,
          92,
          31,
          38,
          156,
          66,
          180,
          63,
          59,
          25,
          24,
          149,
          165,
          63,
          32,
          29,
          35,
          22,
          105,
          3,
          126,
          31,
          75,
          121,
          75,
          95,
          114,
          26,
          48,
          25,
          38,
          7,
          127,
          189,
          125,
          55,
          38,
          29,
          46,
          62,
          32,
          194,
          287,
          37,
          42,
          70,
          77,
          115,
          15,
          49,
          53,
          160,
          33,
          87,
          36,
          134,
          26,
          24,
          97,
          153,
          139,
          45,
          69,
          40,
          30,
          40,
          84,
          25,
          140,
          125,
          85,
          69,
          23,
          25,
          24,
          30,
          28,
          43,
          39,
          83,
          73,
          47,
          322,
          59,
          42,
          31,
          30,
          36,
          29,
          59,
          154,
          47,
          87,
          126,
          128,
          12,
          53,
          41,
          176,
          99,
          72,
          123,
          69,
          39,
          17,
          48,
          38,
          30,
          38,
          25,
          28,
          46,
          72,
          41,
          31,
          59,
          28,
          30,
          131,
          55,
          32,
          138,
          125,
          13,
          81,
          155,
          74,
          34,
          84,
          190,
          42,
          37,
          38,
          87,
          43,
          73,
          65,
          36,
          38,
          27,
          21,
          73,
          191,
          104,
          34,
          31,
          154,
          98,
          107,
          27,
          59,
          57,
          136,
          56,
          77,
          44,
          46,
          53,
          32,
          31,
          55,
          40,
          51,
          39,
          43,
          35,
          133,
          160,
          48,
          37,
          169,
          135,
          33,
          52,
          29,
          29,
          103,
          55,
          24,
          54,
          43,
          23,
          51,
          40,
          155,
          83,
          26,
          38,
          82,
          38,
          26,
          25,
          24,
          58,
          46,
          90,
          128,
          70,
          30,
          44,
          69,
          42,
          21,
          158,
          127,
          39,
          47,
          65,
          36,
          36,
          37,
          31,
          18,
          86,
          159,
          92,
          39,
          28,
          66,
          35,
          37,
          38,
          34,
          34,
          30,
          45,
          137,
          24,
          51,
          293,
          28,
          37,
          33,
          33,
          49,
          263,
          50,
          26,
          39,
          58,
          62,
          70,
          50,
          38,
          62,
          152,
          158,
          45,
          22,
          26,
          47,
          48,
          48,
          164,
          30,
          110,
          34,
          65,
          23,
          35,
          22,
          96,
          75,
          81,
          37,
          71,
          21,
          126,
          25,
          302,
          23,
          198,
          32,
          30,
          39,
          98,
          14,
          27,
          70,
          157,
          54,
          39,
          77,
          45,
          144,
          180,
          169,
          61,
          39,
          41,
          74,
          204,
          88,
          74,
          37,
          39,
          35,
          43,
          42,
          37,
          30,
          82,
          32,
          28,
          55,
          67,
          244,
          24,
          159,
          159,
          70,
          57,
          139,
          40,
          86,
          116,
          3,
          53,
          42,
          54,
          33,
          30,
          70,
          94,
          62,
          72,
          142,
          85,
          66,
          32,
          55,
          58,
          16,
          71,
          38,
          44,
          77,
          148,
          32,
          85,
          22,
          38,
          32,
          198,
          104,
          44,
          42,
          61,
          43,
          46,
          76,
          61,
          76,
          46,
          61,
          22,
          50,
          44,
          257,
          159,
          58,
          77,
          96,
          29,
          63,
          53,
          34,
          33,
          65,
          30,
          19,
          36,
          40,
          63,
          4,
          50,
          28,
          57,
          32,
          38,
          86,
          37,
          116,
          77,
          17,
          156,
          38,
          13,
          88,
          64,
          205,
          114,
          78,
          121,
          25,
          46,
          28,
          126,
          46,
          23,
          84,
          72,
          30,
          22,
          48,
          24,
          46,
          86,
          158,
          31,
          25,
          35,
          106,
          48,
          60,
          97,
          36,
          71,
          83,
          153,
          38,
          82,
          94,
          52,
          84,
          33,
          42,
          24,
          54,
          23,
          45,
          37,
          28,
          44,
          73,
          202,
          140,
          13,
          29,
          53,
          132,
          35,
          96,
          73,
          55,
          60,
          83,
          111,
          40,
          141,
          104,
          133,
          26,
          53,
          70,
          67,
          22,
          63,
          33,
          74,
          60,
          144,
          220,
          55,
          127,
          27,
          162,
          112,
          30,
          3,
          61,
          39,
          103,
          48,
          34,
          37,
          89,
          31,
          22,
          36,
          23,
          45,
          42,
          40,
          28,
          84,
          52,
          78,
          54,
          23,
          93,
          24,
          51,
          22,
          23,
          65,
          21,
          29,
          66,
          32,
          34,
          153,
          23,
          32,
          69,
          180,
          255,
          31,
          59,
          138,
          67,
          37,
          122,
          29,
          97,
          76,
          84,
          56,
          36,
          84,
          128,
          96,
          35,
          46,
          276,
          25,
          46,
          153,
          74,
          27,
          63,
          147,
          154,
          70,
          163,
          24,
          85,
          49,
          26,
          48,
          35,
          24,
          49,
          48,
          80,
          39,
          29,
          32,
          75,
          25,
          60,
          154,
          230,
          27,
          94,
          87,
          116,
          126,
          28,
          160,
          60,
          153,
          55,
          42,
          36,
          34,
          156,
          147,
          55,
          54,
          34,
          22,
          111,
          160,
          89,
          153,
          67,
          48,
          57,
          161,
          139,
          158,
          90,
          29,
          22,
          38,
          92,
          84,
          74,
          40,
          63,
          134,
          35,
          35,
          54,
          27,
          111,
          157,
          124,
          77,
          37,
          71,
          74,
          28,
          34,
          35,
          67,
          41,
          33,
          83,
          38,
          61,
          32,
          62,
          79,
          158,
          37,
          23,
          43,
          108,
          23,
          81,
          154,
          85,
          54,
          22,
          34,
          69,
          74,
          102,
          22,
          32,
          77,
          26,
          29,
          52,
          60,
          44,
          77,
          263,
          65,
          31,
          73,
          130,
          131,
          31,
          24,
          71,
          23,
          79,
          24,
          97,
          71,
          38,
          44,
          88,
          155,
          36,
          7,
          71,
          27,
          49,
          46,
          23,
          183,
          118,
          92,
          38,
          87,
          29,
          154,
          45,
          24,
          69,
          141,
          114,
          132,
          85,
          75,
          32,
          37,
          122,
          19,
          106,
          67,
          51,
          40,
          40,
          28,
          152,
          17,
          138,
          60,
          28,
          142,
          139,
          80,
          34,
          290,
          25,
          5,
          63,
          153,
          104,
          82,
          74,
          15,
          77,
          37,
          129,
          54,
          63,
          66,
          329,
          40,
          86,
          82,
          24,
          111,
          156,
          36,
          35,
          112,
          72,
          61,
          27,
          30,
          46,
          32,
          43,
          154,
          55,
          27,
          35,
          39,
          70,
          115,
          68,
          29,
          27,
          34,
          66,
          21,
          139,
          150,
          49,
          19,
          40,
          113,
          44,
          51,
          156,
          33,
          157,
          32,
          46,
          142,
          36,
          117,
          94,
          52,
          180,
          39,
          87,
          47,
          70,
          121,
          14,
          142,
          23,
          64,
          25,
          45,
          36,
          101,
          38,
          142,
          51,
          163,
          146,
          27,
          41,
          25,
          151,
          85,
          30,
          60,
          74,
          61,
          22,
          408,
          56,
          31,
          45,
          138,
          22,
          38,
          53,
          93,
          283,
          36,
          60,
          36,
          154,
          103,
          65,
          149,
          200,
          26,
          124,
          31,
          65,
          39,
          83,
          42,
          35,
          23,
          41,
          72,
          66,
          43,
          46,
          116,
          56,
          55,
          166,
          29,
          96,
          36,
          49,
          61,
          39,
          141,
          30,
          30,
          31,
          73,
          25,
          29,
          381,
          69,
          26,
          36,
          327,
          117,
          50,
          89,
          237,
          236,
          95,
          85,
          44,
          99,
          23,
          145,
          26,
          160,
          97,
          39,
          24,
          33,
          76,
          49,
          15,
          22,
          51,
          28,
          69,
          159,
          44,
          24,
          20,
          126,
          41,
          40,
          162,
          171,
          28,
          62,
          71,
          109,
          135,
          2,
          17,
          21,
          25,
          23,
          74,
          26,
          149,
          24,
          30,
          62,
          132,
          43,
          42,
          58,
          125,
          94,
          104,
          94,
          39,
          26,
          60,
          22,
          158,
          58,
          120,
          47,
          110,
          205,
          73,
          31,
          29,
          152,
          42,
          48,
          137,
          105,
          155,
          45,
          35,
          78,
          159,
          126,
          49,
          73,
          166,
          50,
          142,
          120,
          54,
          153,
          23,
          52,
          90,
          23,
          24,
          156,
          25,
          73,
          34,
          158,
          208,
          56,
          112,
          35,
          123,
          30,
          24,
          46,
          34,
          142,
          75,
          95,
          77,
          79,
          229,
          44,
          117,
          70,
          53,
          106,
          30,
          86,
          38,
          67,
          39,
          97,
          156,
          73,
          35,
          72,
          134,
          106,
          35,
          22,
          31,
          19,
          54,
          29,
          101,
          22,
          89,
          75,
          34,
          27,
          34,
          37,
          172,
          52,
          24,
          54,
          56,
          41,
          89,
          34,
          43,
          43,
          43,
          26,
          55,
          66,
          55,
          49,
          7,
          27,
          28,
          33,
          157,
          38,
          159,
          139,
          22,
          48,
          32,
          80,
          26,
          106,
          51,
          56,
          13,
          33,
          30,
          31,
          35,
          24,
          26,
          49,
          160,
          59,
          64,
          109,
          25,
          24,
          36,
          55,
          36,
          66,
          25,
          37,
          44,
          160,
          63,
          33,
          17,
          40,
          43,
          10,
          51,
          154,
          113,
          147,
          50,
          64,
          26,
          9,
          22,
          10,
          124,
          32,
          24,
          95,
          35,
          59,
          73,
          88,
          77,
          64,
          76,
          55,
          26,
          112,
          77,
          53,
          102,
          79,
          42,
          59,
          32,
          70,
          70,
          124,
          21,
          77,
          25,
          36,
          75,
          36,
          48,
          175,
          237,
          23,
          105,
          62,
          37,
          52,
          22,
          42,
          79,
          133,
          91,
          99,
          62,
          34,
          40,
          157,
          133,
          56,
          93,
          31,
          26,
          83,
          76,
          22,
          42,
          120,
          62,
          24,
          158,
          46,
          61,
          156,
          53,
          73,
          87,
          74,
          58,
          80,
          32,
          147,
          51,
          45,
          29,
          157,
          56,
          68,
          22,
          22,
          84,
          43,
          62,
          46,
          47,
          151,
          240,
          45,
          30,
          114,
          32,
          43,
          110,
          201,
          151,
          86,
          46,
          41,
          84,
          29,
          98,
          86,
          15,
          37,
          42,
          7,
          111,
          42,
          29,
          68,
          62,
          69,
          145,
          38,
          46,
          29,
          121,
          33,
          42,
          89,
          74,
          71,
          45,
          37,
          33,
          54,
          69,
          43,
          81,
          53,
          76,
          22,
          27,
          109,
          12,
          44,
          58,
          5,
          121,
          156,
          22,
          58,
          40,
          299,
          39,
          92,
          158,
          82,
          35,
          66,
          27,
          32,
          85,
          126,
          75,
          92,
          27,
          35,
          145,
          113,
          31,
          22,
          166,
          276,
          171,
          76,
          158,
          22,
          24,
          44,
          51,
          44,
          47,
          44,
          36,
          415,
          32,
          22,
          40,
          24,
          160,
          80,
          27,
          237,
          134,
          33,
          80,
          45,
          48,
          148,
          156,
          38,
          49,
          38,
          48,
          22,
          98,
          149,
          37,
          22,
          33,
          83,
          24,
          38,
          129,
          85,
          46,
          87,
          106,
          95,
          86,
          107,
          40,
          33,
          146,
          136,
          100,
          64,
          73,
          146,
          39,
          32,
          65,
          41,
          152,
          9,
          34,
          66,
          133,
          125,
          132,
          44,
          42,
          142,
          62,
          54,
          54,
          56,
          90,
          111,
          22,
          22,
          57,
          24,
          38,
          32,
          70,
          25,
          96,
          97,
          27,
          153,
          42,
          61,
          51,
          28,
          22,
          26,
          78,
          51,
          42,
          247,
          81,
          15,
          28,
          28,
          78,
          60,
          59,
          59,
          146,
          73,
          47,
          152,
          31,
          66,
          19,
          57,
          100,
          22,
          44,
          67,
          84,
          48,
          43,
          69,
          27,
          72,
          28,
          133,
          98,
          70,
          41,
          111,
          97,
          89,
          31,
          89,
          154,
          43,
          46,
          111,
          27,
          175,
          42,
          138,
          50,
          30,
          49,
          91,
          36,
          30,
          63,
          119,
          26,
          82,
          23,
          53,
          66,
          62,
          74,
          93,
          149,
          43,
          152,
          256,
          51,
          21,
          51,
          85,
          94,
          22,
          31,
          24,
          46,
          65,
          32,
          120,
          36,
          71,
          70,
          166,
          32,
          41,
          98,
          450,
          150,
          47,
          57,
          154,
          33,
          27,
          91,
          39,
          53,
          88,
          28,
          43,
          32,
          73,
          30,
          154,
          107,
          101,
          31,
          49,
          281,
          37,
          70,
          114,
          116,
          47,
          27,
          87,
          88,
          228,
          102,
          133,
          88,
          36,
          77,
          104,
          87,
          28,
          130,
          79,
          184,
          53,
          31,
          85,
          77,
          23,
          76,
          28,
          30,
          75,
          36,
          23,
          33,
          99,
          24,
          67,
          24,
          85,
          28,
          46,
          4,
          55,
          93,
          70,
          86,
          101,
          157,
          49,
          25,
          35,
          48,
          43,
          27,
          18,
          4,
          69,
          37,
          39,
          134,
          85,
          116,
          42,
          40,
          23,
          61,
          43,
          109,
          30,
          329,
          91,
          31,
          29,
          22,
          40,
          29,
          38,
          41,
          51,
          35,
          89,
          51,
          40,
          112,
          141,
          45,
          71,
          35,
          29,
          143,
          48,
          21,
          98,
          136,
          32,
          43,
          48,
          25,
          19,
          133,
          66,
          58,
          119,
          53,
          38,
          45,
          99,
          77,
          55,
          23,
          21,
          33,
          46,
          23,
          82,
          127,
          74,
          23,
          65,
          327,
          26,
          152,
          45,
          83,
          51,
          45,
          152,
          42,
          101,
          29,
          63,
          168,
          125,
          35,
          38,
          49,
          31,
          24,
          40,
          113,
          119,
          50,
          23,
          47,
          38,
          51,
          32,
          125,
          36,
          55,
          23,
          35,
          87,
          71,
          94,
          99,
          51,
          23,
          162,
          82,
          32,
          146,
          121,
          40,
          27,
          28,
          97,
          159,
          28,
          36,
          64,
          30,
          26,
          189,
          160,
          26,
          29,
          24,
          29,
          47,
          72,
          37,
          125,
          52,
          192,
          126,
          39,
          25,
          35,
          33,
          38,
          77,
          38,
          17,
          130,
          133,
          40,
          11,
          45,
          67,
          40,
          84,
          100,
          145,
          30,
          2,
          125,
          133,
          56,
          42,
          70,
          50,
          135,
          46,
          38,
          46,
          44,
          212,
          51,
          116,
          80,
          48,
          64,
          88,
          161,
          147,
          24,
          101,
          40,
          36,
          26,
          23,
          59,
          104,
          41,
          50,
          40,
          29,
          49,
          45,
          163,
          86,
          129,
          40,
          69,
          28,
          34,
          162,
          23,
          39,
          82,
          36,
          80,
          81,
          10,
          90,
          112,
          40,
          72,
          82,
          37,
          40,
          39,
          84,
          40,
          45,
          32,
          97,
          102,
          34,
          22,
          51,
          59,
          33,
          26,
          28,
          36,
          44,
          45,
          90,
          99,
          70,
          68,
          104,
          37,
          51,
          23,
          251,
          40,
          38,
          44,
          101,
          27,
          120,
          51,
          17,
          49,
          89,
          7,
          26,
          3,
          79,
          35,
          122,
          54,
          74,
          50,
          25,
          61,
          35,
          31,
          79,
          169,
          135,
          33,
          23,
          43,
          23,
          65,
          65,
          155,
          118,
          58,
          34,
          45,
          155,
          36,
          82,
          40,
          127,
          149,
          38,
          58,
          61,
          24,
          39,
          25,
          69,
          33,
          245,
          139,
          166,
          122,
          56,
          32,
          35,
          35,
          23,
          103,
          68,
          49,
          25,
          64,
          60,
          40,
          113,
          28,
          329,
          54,
          158,
          26,
          21,
          40,
          38,
          154,
          45,
          42,
          34,
          87,
          43,
          51,
          91,
          27,
          98,
          153,
          63,
          273,
          66,
          33,
          70,
          96,
          19,
          67,
          12,
          37,
          57,
          125,
          26
         ],
         "xaxis": "x",
         "yaxis": "y"
        },
        {
         "alignmentgroup": "True",
         "bingroup": "x",
         "hovertemplate": "class=spam<br>text_length=%{x}<br>count=%{y}<extra></extra>",
         "legendgroup": "spam",
         "marker": {
          "color": "#EF553B",
          "opacity": 0.5,
          "pattern": {
           "shape": ""
          }
         },
         "name": "spam",
         "offsetgroup": "spam",
         "orientation": "v",
         "showlegend": true,
         "type": "histogram",
         "x": [
          155,
          148,
          158,
          154,
          136,
          156,
          149,
          156,
          159,
          172,
          120,
          161,
          153,
          161,
          80,
          139,
          158,
          159,
          153,
          144,
          157,
          156,
          126,
          162,
          155,
          159,
          124,
          146,
          152,
          155,
          157,
          149,
          72,
          143,
          137,
          157,
          145,
          150,
          154,
          121,
          159,
          133,
          155,
          159,
          146,
          138,
          134,
          157,
          128,
          159,
          111,
          150,
          148,
          165,
          129,
          157,
          149,
          155,
          158,
          49,
          107,
          159,
          162,
          137,
          157,
          164,
          175,
          161,
          159,
          146,
          160,
          170,
          148,
          146,
          89,
          145,
          160,
          111,
          146,
          96,
          160,
          69,
          100,
          149,
          127,
          142,
          148,
          86,
          135,
          140,
          130,
          150,
          143,
          136,
          97,
          59,
          94,
          154,
          158,
          111,
          155,
          160,
          37,
          163,
          147,
          101,
          149,
          132,
          102,
          65,
          96,
          161,
          151,
          99,
          129,
          158,
          160,
          154,
          162,
          143,
          150,
          133,
          156,
          161,
          147,
          152,
          149,
          155,
          162,
          153,
          160,
          144,
          161,
          149,
          134,
          154,
          158,
          137,
          132,
          143,
          127,
          158,
          162,
          155,
          140,
          159,
          149,
          132,
          137,
          41,
          157,
          141,
          149,
          150,
          158,
          156,
          101,
          104,
          135,
          153,
          143,
          134,
          157,
          90,
          153,
          147,
          142,
          159,
          70,
          156,
          153,
          156,
          105,
          120,
          158,
          115,
          140,
          155,
          159,
          155,
          49,
          147,
          148,
          50,
          143,
          146,
          159,
          123,
          81,
          120,
          147,
          66,
          163,
          155,
          140,
          126,
          155,
          101,
          151,
          154,
          159,
          143,
          163,
          143,
          152,
          71,
          141,
          142,
          159,
          154,
          81,
          153,
          159,
          161,
          130,
          154,
          122,
          121,
          157,
          159,
          150,
          156,
          145,
          149,
          136,
          146,
          144,
          153,
          132,
          71,
          147,
          161,
          156,
          160,
          123,
          148,
          160,
          158,
          73,
          174,
          114,
          126,
          148,
          145,
          138,
          224,
          159,
          155,
          143,
          162,
          33,
          154,
          164,
          154,
          132,
          156,
          151,
          161,
          158,
          154,
          117,
          84,
          155,
          132,
          155,
          153,
          163,
          156,
          143,
          158,
          145,
          142,
          160,
          162,
          156,
          74,
          133,
          104,
          153,
          129,
          143,
          120,
          158,
          155,
          152,
          159,
          162,
          149,
          161,
          30,
          156,
          161,
          144,
          159,
          155,
          159,
          161,
          160,
          170,
          137,
          154,
          161,
          147,
          158,
          152,
          159,
          161,
          156,
          157,
          181,
          160,
          157,
          155,
          160,
          122,
          33,
          159,
          48,
          183,
          160,
          147,
          162,
          151,
          158,
          114,
          167,
          160,
          120,
          82,
          149,
          162,
          158,
          158,
          109,
          161,
          152,
          158,
          152,
          158,
          152,
          122,
          161,
          116,
          168,
          150,
          158,
          100,
          101,
          156,
          70,
          160,
          153,
          134,
          131,
          153,
          137,
          156,
          173,
          109,
          154,
          147,
          130,
          165,
          163,
          130,
          136,
          158,
          153,
          158,
          25,
          156,
          160,
          118,
          135,
          154,
          166,
          158,
          155,
          141,
          124,
          124,
          131,
          33,
          158,
          160,
          137,
          152,
          158,
          160,
          111,
          157,
          151,
          52,
          152,
          140,
          154,
          163,
          139,
          137,
          148,
          48,
          100,
          120,
          147,
          135,
          159,
          107,
          147,
          122,
          134,
          111,
          164,
          110,
          152,
          153,
          141,
          147,
          121,
          140,
          112,
          143,
          139,
          156,
          144,
          145,
          160,
          152,
          101,
          114,
          159,
          153,
          148,
          159,
          157,
          136,
          142,
          157,
          173,
          50,
          139,
          105,
          157,
          134,
          40,
          146,
          140,
          78,
          150,
          160,
          81,
          127,
          153,
          157,
          136,
          157,
          153,
          64,
          160,
          158,
          161,
          106,
          139,
          153,
          153,
          101,
          157,
          148,
          140,
          161,
          156,
          150,
          157,
          152,
          162,
          157,
          68,
          133,
          134,
          145,
          149,
          143,
          155,
          157,
          115,
          166,
          157,
          152,
          156,
          156,
          150,
          179,
          159,
          114,
          197,
          156,
          13,
          147,
          101,
          109,
          158,
          137,
          159,
          86,
          155,
          156,
          158,
          159,
          120,
          162,
          162,
          152,
          139,
          109,
          107,
          96,
          151,
          151,
          153,
          121,
          128,
          145,
          86,
          158,
          102,
          114,
          138,
          135,
          146,
          160,
          18,
          63,
          137,
          95,
          143,
          159,
          161,
          149,
          73,
          159,
          159,
          149,
          47,
          156,
          156,
          159,
          149,
          141,
          106,
          114,
          154,
          148,
          135,
          167,
          132,
          122,
          141,
          157,
          152,
          146,
          160,
          161,
          144,
          154,
          112,
          157,
          144,
          149,
          158,
          155,
          148,
          157,
          72,
          157,
          160,
          135,
          105,
          74,
          157,
          152,
          136,
          163,
          158,
          74,
          155,
          81,
          138,
          162,
          134,
          161,
          145,
          163,
          126,
          135,
          133,
          146,
          144,
          156,
          72,
          132,
          83,
          137,
          161,
          151,
          47,
          65,
          125,
          158,
          73,
          51,
          161,
          163,
          160,
          143,
          156,
          148,
          115,
          159,
          152,
          127,
          158,
          159,
          156,
          144,
          108,
          139,
          166,
          143,
          155,
          158,
          136,
          152,
          160,
          155,
          132,
          153,
          143,
          154,
          106,
          160,
          155,
          144,
          139,
          89,
          147,
          136,
          158,
          153,
          69,
          152,
          153,
          135,
          136,
          159,
          95,
          137,
          147,
          150,
          132,
          146,
          134,
          181,
          155,
          153,
          159,
          124,
          120,
          137,
          140,
          153,
          160,
          137,
          138,
          177,
          169,
          156,
          154,
          146,
          133,
          126,
          149,
          135,
          109,
          159,
          145,
          132,
          160,
          137,
          132,
          158,
          149,
          153,
          47,
          159,
          156,
          44,
          164,
          162,
          156,
          160,
          119,
          142,
          156,
          150,
          151,
          164,
          160,
          136,
          146,
          159,
          155,
          127,
          145,
          144,
          156,
          155,
          157,
          157,
          156,
          112,
          106,
          157,
          156,
          139,
          90,
          160,
          42,
          106,
          163,
          70,
          112,
          157,
          147,
          85,
          156,
          143,
          149,
          145,
          161,
          158,
          148,
          153,
          134,
          90,
          160,
          160,
          147,
          161
         ],
         "xaxis": "x",
         "yaxis": "y"
        }
       ],
       "layout": {
        "barmode": "overlay",
        "legend": {
         "title": {
          "text": "class"
         },
         "tracegroupgap": 0
        },
        "margin": {
         "t": 60
        },
        "template": {
         "data": {
          "bar": [
           {
            "error_x": {
             "color": "#2a3f5f"
            },
            "error_y": {
             "color": "#2a3f5f"
            },
            "marker": {
             "line": {
              "color": "#E5ECF6",
              "width": 0.5
             },
             "pattern": {
              "fillmode": "overlay",
              "size": 10,
              "solidity": 0.2
             }
            },
            "type": "bar"
           }
          ],
          "barpolar": [
           {
            "marker": {
             "line": {
              "color": "#E5ECF6",
              "width": 0.5
             },
             "pattern": {
              "fillmode": "overlay",
              "size": 10,
              "solidity": 0.2
             }
            },
            "type": "barpolar"
           }
          ],
          "carpet": [
           {
            "aaxis": {
             "endlinecolor": "#2a3f5f",
             "gridcolor": "white",
             "linecolor": "white",
             "minorgridcolor": "white",
             "startlinecolor": "#2a3f5f"
            },
            "baxis": {
             "endlinecolor": "#2a3f5f",
             "gridcolor": "white",
             "linecolor": "white",
             "minorgridcolor": "white",
             "startlinecolor": "#2a3f5f"
            },
            "type": "carpet"
           }
          ],
          "choropleth": [
           {
            "colorbar": {
             "outlinewidth": 0,
             "ticks": ""
            },
            "type": "choropleth"
           }
          ],
          "contour": [
           {
            "colorbar": {
             "outlinewidth": 0,
             "ticks": ""
            },
            "colorscale": [
             [
              0,
              "#0d0887"
             ],
             [
              0.1111111111111111,
              "#46039f"
             ],
             [
              0.2222222222222222,
              "#7201a8"
             ],
             [
              0.3333333333333333,
              "#9c179e"
             ],
             [
              0.4444444444444444,
              "#bd3786"
             ],
             [
              0.5555555555555556,
              "#d8576b"
             ],
             [
              0.6666666666666666,
              "#ed7953"
             ],
             [
              0.7777777777777778,
              "#fb9f3a"
             ],
             [
              0.8888888888888888,
              "#fdca26"
             ],
             [
              1,
              "#f0f921"
             ]
            ],
            "type": "contour"
           }
          ],
          "contourcarpet": [
           {
            "colorbar": {
             "outlinewidth": 0,
             "ticks": ""
            },
            "type": "contourcarpet"
           }
          ],
          "heatmap": [
           {
            "colorbar": {
             "outlinewidth": 0,
             "ticks": ""
            },
            "colorscale": [
             [
              0,
              "#0d0887"
             ],
             [
              0.1111111111111111,
              "#46039f"
             ],
             [
              0.2222222222222222,
              "#7201a8"
             ],
             [
              0.3333333333333333,
              "#9c179e"
             ],
             [
              0.4444444444444444,
              "#bd3786"
             ],
             [
              0.5555555555555556,
              "#d8576b"
             ],
             [
              0.6666666666666666,
              "#ed7953"
             ],
             [
              0.7777777777777778,
              "#fb9f3a"
             ],
             [
              0.8888888888888888,
              "#fdca26"
             ],
             [
              1,
              "#f0f921"
             ]
            ],
            "type": "heatmap"
           }
          ],
          "heatmapgl": [
           {
            "colorbar": {
             "outlinewidth": 0,
             "ticks": ""
            },
            "colorscale": [
             [
              0,
              "#0d0887"
             ],
             [
              0.1111111111111111,
              "#46039f"
             ],
             [
              0.2222222222222222,
              "#7201a8"
             ],
             [
              0.3333333333333333,
              "#9c179e"
             ],
             [
              0.4444444444444444,
              "#bd3786"
             ],
             [
              0.5555555555555556,
              "#d8576b"
             ],
             [
              0.6666666666666666,
              "#ed7953"
             ],
             [
              0.7777777777777778,
              "#fb9f3a"
             ],
             [
              0.8888888888888888,
              "#fdca26"
             ],
             [
              1,
              "#f0f921"
             ]
            ],
            "type": "heatmapgl"
           }
          ],
          "histogram": [
           {
            "marker": {
             "pattern": {
              "fillmode": "overlay",
              "size": 10,
              "solidity": 0.2
             }
            },
            "type": "histogram"
           }
          ],
          "histogram2d": [
           {
            "colorbar": {
             "outlinewidth": 0,
             "ticks": ""
            },
            "colorscale": [
             [
              0,
              "#0d0887"
             ],
             [
              0.1111111111111111,
              "#46039f"
             ],
             [
              0.2222222222222222,
              "#7201a8"
             ],
             [
              0.3333333333333333,
              "#9c179e"
             ],
             [
              0.4444444444444444,
              "#bd3786"
             ],
             [
              0.5555555555555556,
              "#d8576b"
             ],
             [
              0.6666666666666666,
              "#ed7953"
             ],
             [
              0.7777777777777778,
              "#fb9f3a"
             ],
             [
              0.8888888888888888,
              "#fdca26"
             ],
             [
              1,
              "#f0f921"
             ]
            ],
            "type": "histogram2d"
           }
          ],
          "histogram2dcontour": [
           {
            "colorbar": {
             "outlinewidth": 0,
             "ticks": ""
            },
            "colorscale": [
             [
              0,
              "#0d0887"
             ],
             [
              0.1111111111111111,
              "#46039f"
             ],
             [
              0.2222222222222222,
              "#7201a8"
             ],
             [
              0.3333333333333333,
              "#9c179e"
             ],
             [
              0.4444444444444444,
              "#bd3786"
             ],
             [
              0.5555555555555556,
              "#d8576b"
             ],
             [
              0.6666666666666666,
              "#ed7953"
             ],
             [
              0.7777777777777778,
              "#fb9f3a"
             ],
             [
              0.8888888888888888,
              "#fdca26"
             ],
             [
              1,
              "#f0f921"
             ]
            ],
            "type": "histogram2dcontour"
           }
          ],
          "mesh3d": [
           {
            "colorbar": {
             "outlinewidth": 0,
             "ticks": ""
            },
            "type": "mesh3d"
           }
          ],
          "parcoords": [
           {
            "line": {
             "colorbar": {
              "outlinewidth": 0,
              "ticks": ""
             }
            },
            "type": "parcoords"
           }
          ],
          "pie": [
           {
            "automargin": true,
            "type": "pie"
           }
          ],
          "scatter": [
           {
            "fillpattern": {
             "fillmode": "overlay",
             "size": 10,
             "solidity": 0.2
            },
            "type": "scatter"
           }
          ],
          "scatter3d": [
           {
            "line": {
             "colorbar": {
              "outlinewidth": 0,
              "ticks": ""
             }
            },
            "marker": {
             "colorbar": {
              "outlinewidth": 0,
              "ticks": ""
             }
            },
            "type": "scatter3d"
           }
          ],
          "scattercarpet": [
           {
            "marker": {
             "colorbar": {
              "outlinewidth": 0,
              "ticks": ""
             }
            },
            "type": "scattercarpet"
           }
          ],
          "scattergeo": [
           {
            "marker": {
             "colorbar": {
              "outlinewidth": 0,
              "ticks": ""
             }
            },
            "type": "scattergeo"
           }
          ],
          "scattergl": [
           {
            "marker": {
             "colorbar": {
              "outlinewidth": 0,
              "ticks": ""
             }
            },
            "type": "scattergl"
           }
          ],
          "scattermapbox": [
           {
            "marker": {
             "colorbar": {
              "outlinewidth": 0,
              "ticks": ""
             }
            },
            "type": "scattermapbox"
           }
          ],
          "scatterpolar": [
           {
            "marker": {
             "colorbar": {
              "outlinewidth": 0,
              "ticks": ""
             }
            },
            "type": "scatterpolar"
           }
          ],
          "scatterpolargl": [
           {
            "marker": {
             "colorbar": {
              "outlinewidth": 0,
              "ticks": ""
             }
            },
            "type": "scatterpolargl"
           }
          ],
          "scatterternary": [
           {
            "marker": {
             "colorbar": {
              "outlinewidth": 0,
              "ticks": ""
             }
            },
            "type": "scatterternary"
           }
          ],
          "surface": [
           {
            "colorbar": {
             "outlinewidth": 0,
             "ticks": ""
            },
            "colorscale": [
             [
              0,
              "#0d0887"
             ],
             [
              0.1111111111111111,
              "#46039f"
             ],
             [
              0.2222222222222222,
              "#7201a8"
             ],
             [
              0.3333333333333333,
              "#9c179e"
             ],
             [
              0.4444444444444444,
              "#bd3786"
             ],
             [
              0.5555555555555556,
              "#d8576b"
             ],
             [
              0.6666666666666666,
              "#ed7953"
             ],
             [
              0.7777777777777778,
              "#fb9f3a"
             ],
             [
              0.8888888888888888,
              "#fdca26"
             ],
             [
              1,
              "#f0f921"
             ]
            ],
            "type": "surface"
           }
          ],
          "table": [
           {
            "cells": {
             "fill": {
              "color": "#EBF0F8"
             },
             "line": {
              "color": "white"
             }
            },
            "header": {
             "fill": {
              "color": "#C8D4E3"
             },
             "line": {
              "color": "white"
             }
            },
            "type": "table"
           }
          ]
         },
         "layout": {
          "annotationdefaults": {
           "arrowcolor": "#2a3f5f",
           "arrowhead": 0,
           "arrowwidth": 1
          },
          "autotypenumbers": "strict",
          "coloraxis": {
           "colorbar": {
            "outlinewidth": 0,
            "ticks": ""
           }
          },
          "colorscale": {
           "diverging": [
            [
             0,
             "#8e0152"
            ],
            [
             0.1,
             "#c51b7d"
            ],
            [
             0.2,
             "#de77ae"
            ],
            [
             0.3,
             "#f1b6da"
            ],
            [
             0.4,
             "#fde0ef"
            ],
            [
             0.5,
             "#f7f7f7"
            ],
            [
             0.6,
             "#e6f5d0"
            ],
            [
             0.7,
             "#b8e186"
            ],
            [
             0.8,
             "#7fbc41"
            ],
            [
             0.9,
             "#4d9221"
            ],
            [
             1,
             "#276419"
            ]
           ],
           "sequential": [
            [
             0,
             "#0d0887"
            ],
            [
             0.1111111111111111,
             "#46039f"
            ],
            [
             0.2222222222222222,
             "#7201a8"
            ],
            [
             0.3333333333333333,
             "#9c179e"
            ],
            [
             0.4444444444444444,
             "#bd3786"
            ],
            [
             0.5555555555555556,
             "#d8576b"
            ],
            [
             0.6666666666666666,
             "#ed7953"
            ],
            [
             0.7777777777777778,
             "#fb9f3a"
            ],
            [
             0.8888888888888888,
             "#fdca26"
            ],
            [
             1,
             "#f0f921"
            ]
           ],
           "sequentialminus": [
            [
             0,
             "#0d0887"
            ],
            [
             0.1111111111111111,
             "#46039f"
            ],
            [
             0.2222222222222222,
             "#7201a8"
            ],
            [
             0.3333333333333333,
             "#9c179e"
            ],
            [
             0.4444444444444444,
             "#bd3786"
            ],
            [
             0.5555555555555556,
             "#d8576b"
            ],
            [
             0.6666666666666666,
             "#ed7953"
            ],
            [
             0.7777777777777778,
             "#fb9f3a"
            ],
            [
             0.8888888888888888,
             "#fdca26"
            ],
            [
             1,
             "#f0f921"
            ]
           ]
          },
          "colorway": [
           "#636efa",
           "#EF553B",
           "#00cc96",
           "#ab63fa",
           "#FFA15A",
           "#19d3f3",
           "#FF6692",
           "#B6E880",
           "#FF97FF",
           "#FECB52"
          ],
          "font": {
           "color": "#2a3f5f"
          },
          "geo": {
           "bgcolor": "white",
           "lakecolor": "white",
           "landcolor": "#E5ECF6",
           "showlakes": true,
           "showland": true,
           "subunitcolor": "white"
          },
          "hoverlabel": {
           "align": "left"
          },
          "hovermode": "closest",
          "mapbox": {
           "style": "light"
          },
          "paper_bgcolor": "white",
          "plot_bgcolor": "#E5ECF6",
          "polar": {
           "angularaxis": {
            "gridcolor": "white",
            "linecolor": "white",
            "ticks": ""
           },
           "bgcolor": "#E5ECF6",
           "radialaxis": {
            "gridcolor": "white",
            "linecolor": "white",
            "ticks": ""
           }
          },
          "scene": {
           "xaxis": {
            "backgroundcolor": "#E5ECF6",
            "gridcolor": "white",
            "gridwidth": 2,
            "linecolor": "white",
            "showbackground": true,
            "ticks": "",
            "zerolinecolor": "white"
           },
           "yaxis": {
            "backgroundcolor": "#E5ECF6",
            "gridcolor": "white",
            "gridwidth": 2,
            "linecolor": "white",
            "showbackground": true,
            "ticks": "",
            "zerolinecolor": "white"
           },
           "zaxis": {
            "backgroundcolor": "#E5ECF6",
            "gridcolor": "white",
            "gridwidth": 2,
            "linecolor": "white",
            "showbackground": true,
            "ticks": "",
            "zerolinecolor": "white"
           }
          },
          "shapedefaults": {
           "line": {
            "color": "#2a3f5f"
           }
          },
          "ternary": {
           "aaxis": {
            "gridcolor": "white",
            "linecolor": "white",
            "ticks": ""
           },
           "baxis": {
            "gridcolor": "white",
            "linecolor": "white",
            "ticks": ""
           },
           "bgcolor": "#E5ECF6",
           "caxis": {
            "gridcolor": "white",
            "linecolor": "white",
            "ticks": ""
           }
          },
          "title": {
           "x": 0.05
          },
          "xaxis": {
           "automargin": true,
           "gridcolor": "white",
           "linecolor": "white",
           "ticks": "",
           "title": {
            "standoff": 15
           },
           "zerolinecolor": "white",
           "zerolinewidth": 2
          },
          "yaxis": {
           "automargin": true,
           "gridcolor": "white",
           "linecolor": "white",
           "ticks": "",
           "title": {
            "standoff": 15
           },
           "zerolinecolor": "white",
           "zerolinewidth": 2
          }
         }
        },
        "xaxis": {
         "anchor": "y",
         "domain": [
          0,
          1
         ],
         "title": {
          "text": "text_length"
         }
        },
        "yaxis": {
         "anchor": "x",
         "domain": [
          0,
          1
         ],
         "title": {
          "text": "count"
         }
        }
       }
      }
     },
     "metadata": {},
     "output_type": "display_data"
    }
   ],
   "source": [
    "# tailles des messages pour ham et spam \n",
    "\n",
    "data[\"text_length\"] = data[\"text\"].apply(len)\n",
    "\n",
    "fig = px.histogram(data, \"text_length\", color=\"class\", barmode=\"overlay\")\n",
    "fig.show()"
   ]
  },
  {
   "cell_type": "code",
   "execution_count": 21,
   "metadata": {},
   "outputs": [
    {
     "data": {
      "image/png": "[encoded data removed]",
      "text/plain": [
       "<Figure size 640x480 with 1 Axes>"
      ]
     },
     "metadata": {},
     "output_type": "display_data"
    },
    {
     "data": {
      "image/png": "[encoded data removed]",
      "text/plain": [
       "<Figure size 640x480 with 1 Axes>"
      ]
     },
     "metadata": {},
     "output_type": "display_data"
    },
    {
     "data": {
      "image/png": "[encoded data removed]",
      "text/plain": [
       "<Figure size 640x480 with 1 Axes>"
      ]
     },
     "metadata": {},
     "output_type": "display_data"
    }
   ],
   "source": [
    "# wordclouds pour ham et spam\n",
    "\n",
    "wd = wordcloud.WordCloud()\n",
    "cloud = wd.generate(' '.join(data['text']))\n",
    "wd = wordcloud.WordCloud()\n",
    "cloud_ham = wd.generate(' '.join(data.loc[data[\"class\"] == \"ham\",\"text\"]))\n",
    "wd = wordcloud.WordCloud()\n",
    "cloud_spam = wd.generate(' '.join(data.loc[data[\"class\"] == \"spam\",\"text\"]))\n",
    "\n",
    "plt.imshow(cloud)\n",
    "plt.title('Word Cloud Whole dataset')\n",
    "plt.axis(\"off\")\n",
    "plt.show()\n",
    "\n",
    "plt.imshow(cloud_ham)\n",
    "plt.title('Word Cloud Hams')\n",
    "plt.axis(\"off\")\n",
    "plt.show()\n",
    "\n",
    "plt.imshow(cloud_spam)\n",
    "plt.title('Word Cloud Spams')\n",
    "plt.axis(\"off\")\n",
    "plt.show()\n",
    "\n",
    "# conclusion : il y a des mots-clefs qui sont reliés aux spams, c'est pour cela que l'Embedding simple fonctionne mieux que les modèles RNN"
   ]
  },
  {
   "cell_type": "markdown",
   "metadata": {},
   "source": [
    "## Preprocessing"
   ]
  },
  {
   "cell_type": "code",
   "execution_count": 14,
   "metadata": {},
   "outputs": [
    {
     "name": "stdout",
     "output_type": "stream",
     "text": [
      "Collecting en-core-web-md==3.8.0\n",
      "  Downloading https://github.com/explosion/spacy-models/releases/download/en_core_web_md-3.8.0/en_core_web_md-3.8.0-py3-none-any.whl (33.5 MB)\n",
      "\u001b[2K     \u001b[38;2;114;156;31m━━━━━━━━━━━━━━━━━━━━━━━━━━━━━━━━━━━━━━━━\u001b[0m \u001b[32m33.5/33.5 MB\u001b[0m \u001b[31m11.9 MB/s\u001b[0m eta \u001b[36m0:00:00\u001b[0mm eta \u001b[36m0:00:01\u001b[0m[36m0:00:01\u001b[0m\n",
      "\u001b[?25hInstalling collected packages: en-core-web-md\n",
      "Successfully installed en-core-web-md-3.8.0\n",
      "\u001b[38;5;2m✔ Download and installation successful\u001b[0m\n",
      "You can now load the package via spacy.load('en_core_web_md')\n"
     ]
    }
   ],
   "source": [
    "#!python -m spacy download en_core_web_md #en_core_web_sm"
   ]
  },
  {
   "cell_type": "code",
   "execution_count": 23,
   "metadata": {},
   "outputs": [],
   "source": [
    "import en_core_web_md\n",
    "nlp = en_core_web_md.load()\n",
    "\n",
    "from spacy.lang.en.stop_words import STOP_WORDS"
   ]
  },
  {
   "cell_type": "code",
   "execution_count": 24,
   "metadata": {},
   "outputs": [
    {
     "data": {
      "text/html": [
       "<div>\n",
       "<style scoped>\n",
       "    .dataframe tbody tr th:only-of-type {\n",
       "        vertical-align: middle;\n",
       "    }\n",
       "\n",
       "    .dataframe tbody tr th {\n",
       "        vertical-align: top;\n",
       "    }\n",
       "\n",
       "    .dataframe thead th {\n",
       "        text-align: right;\n",
       "    }\n",
       "</style>\n",
       "<table border=\"1\" class=\"dataframe\">\n",
       "  <thead>\n",
       "    <tr style=\"text-align: right;\">\n",
       "      <th></th>\n",
       "      <th>class</th>\n",
       "      <th>text</th>\n",
       "      <th>text_length</th>\n",
       "      <th>text_clean</th>\n",
       "    </tr>\n",
       "  </thead>\n",
       "  <tbody>\n",
       "    <tr>\n",
       "      <th>0</th>\n",
       "      <td>ham</td>\n",
       "      <td>Go until jurong point, crazy.. Available only ...</td>\n",
       "      <td>111</td>\n",
       "      <td>jurong point crazy available bugis n great wor...</td>\n",
       "    </tr>\n",
       "    <tr>\n",
       "      <th>1</th>\n",
       "      <td>ham</td>\n",
       "      <td>Ok lar... Joking wif u oni...</td>\n",
       "      <td>29</td>\n",
       "      <td>ok lar joke wif u oni</td>\n",
       "    </tr>\n",
       "    <tr>\n",
       "      <th>2</th>\n",
       "      <td>spam</td>\n",
       "      <td>Free entry in 2 a wkly comp to win FA Cup fina...</td>\n",
       "      <td>155</td>\n",
       "      <td>free entry 2 wkly comp win fa cup final tkts 2...</td>\n",
       "    </tr>\n",
       "    <tr>\n",
       "      <th>3</th>\n",
       "      <td>ham</td>\n",
       "      <td>U dun say so early hor... U c already then say...</td>\n",
       "      <td>49</td>\n",
       "      <td>u dun early hor u c</td>\n",
       "    </tr>\n",
       "    <tr>\n",
       "      <th>4</th>\n",
       "      <td>ham</td>\n",
       "      <td>Nah I don't think he goes to usf, he lives aro...</td>\n",
       "      <td>61</td>\n",
       "      <td>nah think usf live</td>\n",
       "    </tr>\n",
       "  </tbody>\n",
       "</table>\n",
       "</div>"
      ],
      "text/plain": [
       "  class                                               text  text_length  \\\n",
       "0   ham  Go until jurong point, crazy.. Available only ...          111   \n",
       "1   ham                      Ok lar... Joking wif u oni...           29   \n",
       "2  spam  Free entry in 2 a wkly comp to win FA Cup fina...          155   \n",
       "3   ham  U dun say so early hor... U c already then say...           49   \n",
       "4   ham  Nah I don't think he goes to usf, he lives aro...           61   \n",
       "\n",
       "                                          text_clean  \n",
       "0  jurong point crazy available bugis n great wor...  \n",
       "1                              ok lar joke wif u oni  \n",
       "2  free entry 2 wkly comp win fa cup final tkts 2...  \n",
       "3                                u dun early hor u c  \n",
       "4                                 nah think usf live  "
      ]
     },
     "execution_count": 24,
     "metadata": {},
     "output_type": "execute_result"
    }
   ],
   "source": [
    "data['text_clean'] = data['text'].apply(lambda x: ''.join(ch for ch in x if ch.isalnum() or ch==\" \"))\n",
    "data['text_clean'] = data['text_clean'].apply(lambda x: x.replace('  ', ' ').lower().strip())\n",
    "data['text_clean'] = data['text_clean'].apply(lambda x: \" \".join([token.lemma_ for token in nlp(x) if (token.lemma_ not in STOP_WORDS) & (token.text not in STOP_WORDS)]))\n",
    "data['text_clean'] = data['text_clean'].apply(lambda x: \" \".join([token.lemma_ for token in nlp(x)]))\n",
    "\n",
    "data.head()"
   ]
  },
  {
   "cell_type": "code",
   "execution_count": 25,
   "metadata": {},
   "outputs": [
    {
     "name": "stdout",
     "output_type": "stream",
     "text": [
      "texts as str in data :\n",
      " text_clean\n",
      "True    5543\n",
      "Name: count, dtype: int64\n",
      "texts as NaN in data :\n",
      " text_clean\n",
      "False    5543\n",
      "Name: count, dtype: int64\n"
     ]
    }
   ],
   "source": [
    "mask1 = data.text_clean.apply(lambda x: type(x)==str)\n",
    "print('texts as str in data :\\n', mask1.value_counts())\n",
    "\n",
    "mask2 = data.text_clean.isna()==True\n",
    "print('texts as NaN in data :\\n', mask2.value_counts())"
   ]
  },
  {
   "cell_type": "code",
   "execution_count": 26,
   "metadata": {},
   "outputs": [
    {
     "data": {
      "text/html": [
       "<div>\n",
       "<style scoped>\n",
       "    .dataframe tbody tr th:only-of-type {\n",
       "        vertical-align: middle;\n",
       "    }\n",
       "\n",
       "    .dataframe tbody tr th {\n",
       "        vertical-align: top;\n",
       "    }\n",
       "\n",
       "    .dataframe thead th {\n",
       "        text-align: right;\n",
       "    }\n",
       "</style>\n",
       "<table border=\"1\" class=\"dataframe\">\n",
       "  <thead>\n",
       "    <tr style=\"text-align: right;\">\n",
       "      <th></th>\n",
       "      <th>class</th>\n",
       "      <th>text</th>\n",
       "      <th>text_length</th>\n",
       "      <th>text_clean</th>\n",
       "      <th>text_encoded</th>\n",
       "      <th>len_txt</th>\n",
       "    </tr>\n",
       "  </thead>\n",
       "  <tbody>\n",
       "    <tr>\n",
       "      <th>0</th>\n",
       "      <td>ham</td>\n",
       "      <td>Go until jurong point, crazy.. Available only ...</td>\n",
       "      <td>111</td>\n",
       "      <td>jurong point crazy available bugis n great wor...</td>\n",
       "      <td>[235, 445, 464, 942, 34, 51, 207, 943, 79, 944...</td>\n",
       "      <td>11</td>\n",
       "    </tr>\n",
       "    <tr>\n",
       "      <th>1</th>\n",
       "      <td>ham</td>\n",
       "      <td>Ok lar... Joking wif u oni...</td>\n",
       "      <td>29</td>\n",
       "      <td>ok lar joke wif u oni</td>\n",
       "      <td>[9, 195, 465, 289, 1]</td>\n",
       "      <td>5</td>\n",
       "    </tr>\n",
       "    <tr>\n",
       "      <th>2</th>\n",
       "      <td>spam</td>\n",
       "      <td>Free entry in 2 a wkly comp to win FA Cup fina...</td>\n",
       "      <td>155</td>\n",
       "      <td>free entry 2 wkly comp win fa cup final tkts 2...</td>\n",
       "      <td>[12, 299, 3, 533, 663, 31, 852, 424, 19, 154, ...</td>\n",
       "      <td>13</td>\n",
       "    </tr>\n",
       "    <tr>\n",
       "      <th>3</th>\n",
       "      <td>ham</td>\n",
       "      <td>U dun say so early hor... U c already then say...</td>\n",
       "      <td>49</td>\n",
       "      <td>u dun early hor u c</td>\n",
       "      <td>[1, 125, 150, 1, 85]</td>\n",
       "      <td>5</td>\n",
       "    </tr>\n",
       "    <tr>\n",
       "      <th>4</th>\n",
       "      <td>ham</td>\n",
       "      <td>Nah I don't think he goes to usf, he lives aro...</td>\n",
       "      <td>61</td>\n",
       "      <td>nah think usf live</td>\n",
       "      <td>[714, 21, 664, 126]</td>\n",
       "      <td>4</td>\n",
       "    </tr>\n",
       "  </tbody>\n",
       "</table>\n",
       "</div>"
      ],
      "text/plain": [
       "  class                                               text  text_length  \\\n",
       "0   ham  Go until jurong point, crazy.. Available only ...          111   \n",
       "1   ham                      Ok lar... Joking wif u oni...           29   \n",
       "2  spam  Free entry in 2 a wkly comp to win FA Cup fina...          155   \n",
       "3   ham  U dun say so early hor... U c already then say...           49   \n",
       "4   ham  Nah I don't think he goes to usf, he lives aro...           61   \n",
       "\n",
       "                                          text_clean  \\\n",
       "0  jurong point crazy available bugis n great wor...   \n",
       "1                              ok lar joke wif u oni   \n",
       "2  free entry 2 wkly comp win fa cup final tkts 2...   \n",
       "3                                u dun early hor u c   \n",
       "4                                 nah think usf live   \n",
       "\n",
       "                                        text_encoded  len_txt  \n",
       "0  [235, 445, 464, 942, 34, 51, 207, 943, 79, 944...       11  \n",
       "1                              [9, 195, 465, 289, 1]        5  \n",
       "2  [12, 299, 3, 533, 663, 31, 852, 424, 19, 154, ...       13  \n",
       "3                               [1, 125, 150, 1, 85]        5  \n",
       "4                                [714, 21, 664, 126]        4  "
      ]
     },
     "execution_count": 26,
     "metadata": {},
     "output_type": "execute_result"
    }
   ],
   "source": [
    "tokenizer = tf.keras.preprocessing.text.Tokenizer(num_words=1000) \n",
    "tokenizer.fit_on_texts(data.text_clean)\n",
    "data[\"text_encoded\"] = tokenizer.texts_to_sequences(data.text_clean)\n",
    "\n",
    "data[\"len_txt\"] = data[\"text_encoded\"].apply(lambda x: len(x))\n",
    "data = data[data[\"len_txt\"]!=0]\n",
    "\n",
    "data.head()"
   ]
  },
  {
   "cell_type": "code",
   "execution_count": 27,
   "metadata": {},
   "outputs": [
    {
     "data": {
      "text/plain": [
       "(5386, 6)"
      ]
     },
     "execution_count": 27,
     "metadata": {},
     "output_type": "execute_result"
    }
   ],
   "source": [
    "data.shape \n",
    "\n",
    "# Avec le preprocessing, on a retiré au total 186 lignes "
   ]
  },
  {
   "cell_type": "code",
   "execution_count": 29,
   "metadata": {},
   "outputs": [
    {
     "name": "stdout",
     "output_type": "stream",
     "text": [
      "8236\n"
     ]
    }
   ],
   "source": [
    "print(len(tokenizer.index_word.keys()))\n",
    "#tokenizer.index_word\n",
    "\n",
    "# Des caractères spéciaux sont présents, mais ils peuvent avoir un lien avec les spams -> je ne change rien"
   ]
  },
  {
   "cell_type": "code",
   "execution_count": 39,
   "metadata": {},
   "outputs": [
    {
     "name": "stdout",
     "output_type": "stream",
     "text": [
      "8236\n"
     ]
    }
   ],
   "source": [
    "vocab_size = len(tokenizer.index_word.keys()) \n",
    "print(vocab_size)"
   ]
  },
  {
   "cell_type": "code",
   "execution_count": 30,
   "metadata": {},
   "outputs": [
    {
     "data": {
      "text/plain": [
       "(5386, 47)"
      ]
     },
     "execution_count": 30,
     "metadata": {},
     "output_type": "execute_result"
    }
   ],
   "source": [
    "texts_pad = tf.keras.preprocessing.sequence.pad_sequences(data.text_encoded, padding=\"post\")\n",
    "texts_pad.shape\n",
    "\n",
    "# Ce sont de très courts messages : probablement des SMS"
   ]
  },
  {
   "cell_type": "code",
   "execution_count": 31,
   "metadata": {},
   "outputs": [
    {
     "name": "stderr",
     "output_type": "stream",
     "text": [
      "/tmp/ipykernel_6126/1981104026.py:1: SettingWithCopyWarning:\n",
      "\n",
      "\n",
      "A value is trying to be set on a copy of a slice from a DataFrame.\n",
      "Try using .loc[row_indexer,col_indexer] = value instead\n",
      "\n",
      "See the caveats in the documentation: https://pandas.pydata.org/pandas-docs/stable/user_guide/indexing.html#returning-a-view-versus-a-copy\n",
      "\n"
     ]
    },
    {
     "data": {
      "text/html": [
       "<div>\n",
       "<style scoped>\n",
       "    .dataframe tbody tr th:only-of-type {\n",
       "        vertical-align: middle;\n",
       "    }\n",
       "\n",
       "    .dataframe tbody tr th {\n",
       "        vertical-align: top;\n",
       "    }\n",
       "\n",
       "    .dataframe thead th {\n",
       "        text-align: right;\n",
       "    }\n",
       "</style>\n",
       "<table border=\"1\" class=\"dataframe\">\n",
       "  <thead>\n",
       "    <tr style=\"text-align: right;\">\n",
       "      <th></th>\n",
       "      <th>class</th>\n",
       "      <th>text</th>\n",
       "      <th>text_length</th>\n",
       "      <th>text_clean</th>\n",
       "      <th>text_encoded</th>\n",
       "      <th>len_txt</th>\n",
       "      <th>cat</th>\n",
       "    </tr>\n",
       "  </thead>\n",
       "  <tbody>\n",
       "    <tr>\n",
       "      <th>0</th>\n",
       "      <td>ham</td>\n",
       "      <td>Go until jurong point, crazy.. Available only ...</td>\n",
       "      <td>111</td>\n",
       "      <td>jurong point crazy available bugis n great wor...</td>\n",
       "      <td>[235, 445, 464, 942, 34, 51, 207, 943, 79, 944...</td>\n",
       "      <td>11</td>\n",
       "      <td>0</td>\n",
       "    </tr>\n",
       "    <tr>\n",
       "      <th>1</th>\n",
       "      <td>ham</td>\n",
       "      <td>Ok lar... Joking wif u oni...</td>\n",
       "      <td>29</td>\n",
       "      <td>ok lar joke wif u oni</td>\n",
       "      <td>[9, 195, 465, 289, 1]</td>\n",
       "      <td>5</td>\n",
       "      <td>0</td>\n",
       "    </tr>\n",
       "    <tr>\n",
       "      <th>2</th>\n",
       "      <td>spam</td>\n",
       "      <td>Free entry in 2 a wkly comp to win FA Cup fina...</td>\n",
       "      <td>155</td>\n",
       "      <td>free entry 2 wkly comp win fa cup final tkts 2...</td>\n",
       "      <td>[12, 299, 3, 533, 663, 31, 852, 424, 19, 154, ...</td>\n",
       "      <td>13</td>\n",
       "      <td>1</td>\n",
       "    </tr>\n",
       "    <tr>\n",
       "      <th>3</th>\n",
       "      <td>ham</td>\n",
       "      <td>U dun say so early hor... U c already then say...</td>\n",
       "      <td>49</td>\n",
       "      <td>u dun early hor u c</td>\n",
       "      <td>[1, 125, 150, 1, 85]</td>\n",
       "      <td>5</td>\n",
       "      <td>0</td>\n",
       "    </tr>\n",
       "    <tr>\n",
       "      <th>4</th>\n",
       "      <td>ham</td>\n",
       "      <td>Nah I don't think he goes to usf, he lives aro...</td>\n",
       "      <td>61</td>\n",
       "      <td>nah think usf live</td>\n",
       "      <td>[714, 21, 664, 126]</td>\n",
       "      <td>4</td>\n",
       "      <td>0</td>\n",
       "    </tr>\n",
       "  </tbody>\n",
       "</table>\n",
       "</div>"
      ],
      "text/plain": [
       "  class                                               text  text_length  \\\n",
       "0   ham  Go until jurong point, crazy.. Available only ...          111   \n",
       "1   ham                      Ok lar... Joking wif u oni...           29   \n",
       "2  spam  Free entry in 2 a wkly comp to win FA Cup fina...          155   \n",
       "3   ham  U dun say so early hor... U c already then say...           49   \n",
       "4   ham  Nah I don't think he goes to usf, he lives aro...           61   \n",
       "\n",
       "                                          text_clean  \\\n",
       "0  jurong point crazy available bugis n great wor...   \n",
       "1                              ok lar joke wif u oni   \n",
       "2  free entry 2 wkly comp win fa cup final tkts 2...   \n",
       "3                                u dun early hor u c   \n",
       "4                                 nah think usf live   \n",
       "\n",
       "                                        text_encoded  len_txt  cat  \n",
       "0  [235, 445, 464, 942, 34, 51, 207, 943, 79, 944...       11    0  \n",
       "1                              [9, 195, 465, 289, 1]        5    0  \n",
       "2  [12, 299, 3, 533, 663, 31, 852, 424, 19, 154, ...       13    1  \n",
       "3                               [1, 125, 150, 1, 85]        5    0  \n",
       "4                                [714, 21, 664, 126]        4    0  "
      ]
     },
     "execution_count": 31,
     "metadata": {},
     "output_type": "execute_result"
    }
   ],
   "source": [
    "data['cat'] = data['class'].apply(lambda x: 1 if x == 'spam' else 0)\n",
    "data.head()"
   ]
  },
  {
   "cell_type": "code",
   "execution_count": 33,
   "metadata": {},
   "outputs": [],
   "source": [
    "X_temp, X_test, y_temp, y_test = train_test_split(texts_pad, data.cat, test_size=0.1, random_state=42, stratify=data.cat)\n",
    "X_train, X_val, y_train, y_val = train_test_split(X_temp, y_temp, test_size=0.2, random_state=42, stratify=y_temp)\n",
    "\n",
    "BATCH_SIZE = 32\n",
    "\n",
    "train_ds = tf.data.Dataset.from_tensor_slices((X_train, y_train))\n",
    "val_ds = tf.data.Dataset.from_tensor_slices((X_val, y_val))\n",
    "train_batch = train_ds.shuffle(len(train_ds)).batch(BATCH_SIZE)\n",
    "val_batch = val_ds.batch(BATCH_SIZE)"
   ]
  },
  {
   "cell_type": "code",
   "execution_count": 34,
   "metadata": {},
   "outputs": [
    {
     "data": {
      "text/plain": [
       "cat\n",
       "0    3341\n",
       "1     536\n",
       "Name: count, dtype: int64"
      ]
     },
     "metadata": {},
     "output_type": "display_data"
    },
    {
     "data": {
      "text/plain": [
       "cat\n",
       "0    836\n",
       "1    134\n",
       "Name: count, dtype: int64"
      ]
     },
     "metadata": {},
     "output_type": "display_data"
    },
    {
     "data": {
      "text/plain": [
       "cat\n",
       "0    464\n",
       "1     75\n",
       "Name: count, dtype: int64"
      ]
     },
     "execution_count": 34,
     "metadata": {},
     "output_type": "execute_result"
    }
   ],
   "source": [
    "display(y_train.value_counts())\n",
    "display(y_val.value_counts())\n",
    "y_test.value_counts()"
   ]
  },
  {
   "cell_type": "code",
   "execution_count": 35,
   "metadata": {},
   "outputs": [
    {
     "name": "stdout",
     "output_type": "stream",
     "text": [
      "tf.Tensor([0 0 0 1 0 0 0 0 0 0 0 1 1 0 0 0 0 1 0 0 1 0 0 0 0 0 1 0 0 0 1 0], shape=(32,), dtype=int64) tf.Tensor(\n",
      "[[ 27 341 621 ...   0   0   0]\n",
      " [  5   1   0 ...   0   0   0]\n",
      " [613 121  15 ...   0   0   0]\n",
      " ...\n",
      " [ 52   9 452 ...   0   0   0]\n",
      " [281 590  16 ...   0   0   0]\n",
      " [589 374   0 ...   0   0   0]], shape=(32, 47), dtype=int32)\n"
     ]
    },
    {
     "name": "stderr",
     "output_type": "stream",
     "text": [
      "2025-02-07 18:13:09.187375: I tensorflow/core/framework/local_rendezvous.cc:405] Local rendezvous is aborting with status: OUT_OF_RANGE: End of sequence\n"
     ]
    }
   ],
   "source": [
    "# vérification du contenu d'un batch :\n",
    "\n",
    "for text_batch, label_batch in train_batch.take(1):\n",
    "    print(label_batch, text_batch)"
   ]
  },
  {
   "cell_type": "code",
   "execution_count": 36,
   "metadata": {},
   "outputs": [
    {
     "data": {
      "text/plain": [
       "cat\n",
       "0    4641\n",
       "1     745\n",
       "Name: count, dtype: int64"
      ]
     },
     "metadata": {},
     "output_type": "display_data"
    },
    {
     "data": {
      "text/plain": [
       "{0: 0.5802628743805214, 1: 3.6147651006711405}"
      ]
     },
     "execution_count": 36,
     "metadata": {},
     "output_type": "execute_result"
    }
   ],
   "source": [
    "# création du dictionnaire des weights pour pénaliser les ham dans les modèles\n",
    "\n",
    "df_vc = data['cat'].value_counts()\n",
    "display(df_vc)\n",
    "\n",
    "d_cat = {}\n",
    "for cat in df_vc.index:\n",
    "    val = (1/df_vc[cat])*sum(df_vc.values)/2\n",
    "    d_cat[cat] = val\n",
    "print(d_cat)"
   ]
  },
  {
   "cell_type": "code",
   "execution_count": 37,
   "metadata": {},
   "outputs": [],
   "source": [
    "initial_learning_rate = 0.001\n",
    "lr_schedule = tf.keras.optimizers.schedules.ExponentialDecay(\n",
    "    initial_learning_rate,\n",
    "    decay_steps=1000,\n",
    "    decay_rate=0.96,\n",
    "    staircase=True)"
   ]
  },
  {
   "cell_type": "code",
   "execution_count": 38,
   "metadata": {},
   "outputs": [],
   "source": [
    "early_stopping = EarlyStopping(\n",
    "        monitor='val_loss',\n",
    "        patience=5,\n",
    "        restore_best_weights=True \n",
    ")"
   ]
  },
  {
   "cell_type": "markdown",
   "metadata": {},
   "source": [
    "# Modèle Baseline : Embedding simple"
   ]
  },
  {
   "cell_type": "markdown",
   "metadata": {},
   "source": [
    "Modèles testés et conclusions :\n",
    "- 3 couches Dense hidden :\n",
    "    - couche de prédiction en sigmoid : early stopping à 18 epochs, 3.5 minutes, f1 weighted = 0.98\n",
    "    - couche de prédiction en softmax : early stopping à 10 epochs, 2 minutes, f1 weighted = 0.98\n",
    "- 5 couches Dense hidden : \n",
    "    - couche de prédiction en sigmoid : early stopping à 16 epochs, 4 minutes, f1 weighted = 0.97\n",
    "    - couche de prédiction en softmax : early stopping à 15 epochs, 3.5 minutes, f1 weighted = 0.99\n",
    "\n",
    "Conclusion : je valide le modèle 3 couches Dense hidden en softmax"
   ]
  },
  {
   "cell_type": "code",
   "execution_count": 39,
   "metadata": {},
   "outputs": [],
   "source": [
    "len_texts = texts_pad.shape[1] #47\n",
    "\n",
    "embedding_dim=128 \n",
    "vocab_size = 1000 \n",
    "\n",
    "model_baseline = Sequential([\n",
    "  Embedding(vocab_size+1, embedding_dim, name=\"embedding\"),\n",
    "  GlobalAveragePooling1D(),\n",
    "  Dense(len_texts, activation='relu'), \n",
    "  Dense(80, activation='relu'), \n",
    "  Dense(20, activation='relu'), \n",
    "  Dense(2, activation=\"softmax\") \n",
    "])"
   ]
  },
  {
   "cell_type": "code",
   "execution_count": 58,
   "metadata": {},
   "outputs": [],
   "source": [
    "optimizer = tf.keras.optimizers.Adam(learning_rate=lr_schedule)\n",
    "\n",
    "model_baseline.compile(\n",
    "            optimizer=optimizer,\n",
    "            loss=tf.keras.losses.SparseCategoricalCrossentropy(),\n",
    "            metrics=[tf.keras.metrics.SparseCategoricalAccuracy()])"
   ]
  },
  {
   "cell_type": "code",
   "execution_count": 59,
   "metadata": {},
   "outputs": [
    {
     "name": "stdout",
     "output_type": "stream",
     "text": [
      "Epoch 1/20\n"
     ]
    },
    {
     "name": "stdout",
     "output_type": "stream",
     "text": [
      "\u001b[1m122/122\u001b[0m \u001b[32m━━━━━━━━━━━━━━━━━━━━\u001b[0m\u001b[37m\u001b[0m \u001b[1m12s\u001b[0m 95ms/step - loss: 0.1417 - sparse_categorical_accuracy: 0.9693 - val_loss: 0.0592 - val_sparse_categorical_accuracy: 0.9845\n",
      "Epoch 2/20\n",
      "\u001b[1m122/122\u001b[0m \u001b[32m━━━━━━━━━━━━━━━━━━━━\u001b[0m\u001b[37m\u001b[0m \u001b[1m11s\u001b[0m 89ms/step - loss: 0.1221 - sparse_categorical_accuracy: 0.9639 - val_loss: 0.0921 - val_sparse_categorical_accuracy: 0.9835\n",
      "Epoch 3/20\n",
      "\u001b[1m122/122\u001b[0m \u001b[32m━━━━━━━━━━━━━━━━━━━━\u001b[0m\u001b[37m\u001b[0m \u001b[1m14s\u001b[0m 116ms/step - loss: 0.0902 - sparse_categorical_accuracy: 0.9653 - val_loss: 0.0722 - val_sparse_categorical_accuracy: 0.9794\n",
      "Epoch 4/20\n",
      "\u001b[1m122/122\u001b[0m \u001b[32m━━━━━━━━━━━━━━━━━━━━\u001b[0m\u001b[37m\u001b[0m \u001b[1m11s\u001b[0m 92ms/step - loss: 0.0837 - sparse_categorical_accuracy: 0.9807 - val_loss: 0.0784 - val_sparse_categorical_accuracy: 0.9794\n",
      "Epoch 5/20\n",
      "\u001b[1m122/122\u001b[0m \u001b[32m━━━━━━━━━━━━━━━━━━━━\u001b[0m\u001b[37m\u001b[0m \u001b[1m11s\u001b[0m 92ms/step - loss: 0.0808 - sparse_categorical_accuracy: 0.9834 - val_loss: 0.0803 - val_sparse_categorical_accuracy: 0.9773\n",
      "Epoch 6/20\n",
      "\u001b[1m122/122\u001b[0m \u001b[32m━━━━━━━━━━━━━━━━━━━━\u001b[0m\u001b[37m\u001b[0m \u001b[1m11s\u001b[0m 91ms/step - loss: 0.0927 - sparse_categorical_accuracy: 0.9683 - val_loss: 0.2164 - val_sparse_categorical_accuracy: 0.9062\n"
     ]
    }
   ],
   "source": [
    "history = model_baseline.fit(\n",
    "    train_batch,\n",
    "    validation_data=val_batch,\n",
    "    class_weight=d_cat,\n",
    "    callbacks=[early_stopping],\n",
    "    epochs=20)"
   ]
  },
  {
   "cell_type": "code",
   "execution_count": 124,
   "metadata": {},
   "outputs": [
    {
     "data": {
      "text/html": [
       "<pre style=\"white-space:pre;overflow-x:auto;line-height:normal;font-family:Menlo,'DejaVu Sans Mono',consolas,'Courier New',monospace\"><span style=\"font-weight: bold\">Model: \"sequential_19\"</span>\n",
       "</pre>\n"
      ],
      "text/plain": [
       "\u001b[1mModel: \"sequential_19\"\u001b[0m\n"
      ]
     },
     "metadata": {},
     "output_type": "display_data"
    },
    {
     "data": {
      "text/html": [
       "<pre style=\"white-space:pre;overflow-x:auto;line-height:normal;font-family:Menlo,'DejaVu Sans Mono',consolas,'Courier New',monospace\">┏━━━━━━━━━━━━━━━━━━━━━━━━━━━━━━━━━┳━━━━━━━━━━━━━━━━━━━━━━━━┳━━━━━━━━━━━━━━━┓\n",
       "┃<span style=\"font-weight: bold\"> Layer (type)                    </span>┃<span style=\"font-weight: bold\"> Output Shape           </span>┃<span style=\"font-weight: bold\">       Param # </span>┃\n",
       "┡━━━━━━━━━━━━━━━━━━━━━━━━━━━━━━━━━╇━━━━━━━━━━━━━━━━━━━━━━━━╇━━━━━━━━━━━━━━━┩\n",
       "│ embedding (<span style=\"color: #0087ff; text-decoration-color: #0087ff\">Embedding</span>)           │ (<span style=\"color: #00d7ff; text-decoration-color: #00d7ff\">None</span>, <span style=\"color: #00af00; text-decoration-color: #00af00\">159</span>, <span style=\"color: #00af00; text-decoration-color: #00af00\">128</span>)       │       <span style=\"color: #00af00; text-decoration-color: #00af00\">128,128</span> │\n",
       "├─────────────────────────────────┼────────────────────────┼───────────────┤\n",
       "│ global_average_pooling1d_14     │ (<span style=\"color: #00d7ff; text-decoration-color: #00d7ff\">None</span>, <span style=\"color: #00af00; text-decoration-color: #00af00\">128</span>)            │             <span style=\"color: #00af00; text-decoration-color: #00af00\">0</span> │\n",
       "│ (<span style=\"color: #0087ff; text-decoration-color: #0087ff\">GlobalAveragePooling1D</span>)        │                        │               │\n",
       "├─────────────────────────────────┼────────────────────────┼───────────────┤\n",
       "│ dense_86 (<span style=\"color: #0087ff; text-decoration-color: #0087ff\">Dense</span>)                │ (<span style=\"color: #00d7ff; text-decoration-color: #00d7ff\">None</span>, <span style=\"color: #00af00; text-decoration-color: #00af00\">159</span>)            │        <span style=\"color: #00af00; text-decoration-color: #00af00\">20,511</span> │\n",
       "├─────────────────────────────────┼────────────────────────┼───────────────┤\n",
       "│ dense_87 (<span style=\"color: #0087ff; text-decoration-color: #0087ff\">Dense</span>)                │ (<span style=\"color: #00d7ff; text-decoration-color: #00d7ff\">None</span>, <span style=\"color: #00af00; text-decoration-color: #00af00\">80</span>)             │        <span style=\"color: #00af00; text-decoration-color: #00af00\">12,800</span> │\n",
       "├─────────────────────────────────┼────────────────────────┼───────────────┤\n",
       "│ dense_88 (<span style=\"color: #0087ff; text-decoration-color: #0087ff\">Dense</span>)                │ (<span style=\"color: #00d7ff; text-decoration-color: #00d7ff\">None</span>, <span style=\"color: #00af00; text-decoration-color: #00af00\">20</span>)             │         <span style=\"color: #00af00; text-decoration-color: #00af00\">1,620</span> │\n",
       "├─────────────────────────────────┼────────────────────────┼───────────────┤\n",
       "│ dense_89 (<span style=\"color: #0087ff; text-decoration-color: #0087ff\">Dense</span>)                │ (<span style=\"color: #00d7ff; text-decoration-color: #00d7ff\">None</span>, <span style=\"color: #00af00; text-decoration-color: #00af00\">2</span>)              │            <span style=\"color: #00af00; text-decoration-color: #00af00\">42</span> │\n",
       "└─────────────────────────────────┴────────────────────────┴───────────────┘\n",
       "</pre>\n"
      ],
      "text/plain": [
       "┏━━━━━━━━━━━━━━━━━━━━━━━━━━━━━━━━━┳━━━━━━━━━━━━━━━━━━━━━━━━┳━━━━━━━━━━━━━━━┓\n",
       "┃\u001b[1m \u001b[0m\u001b[1mLayer (type)                   \u001b[0m\u001b[1m \u001b[0m┃\u001b[1m \u001b[0m\u001b[1mOutput Shape          \u001b[0m\u001b[1m \u001b[0m┃\u001b[1m \u001b[0m\u001b[1m      Param #\u001b[0m\u001b[1m \u001b[0m┃\n",
       "┡━━━━━━━━━━━━━━━━━━━━━━━━━━━━━━━━━╇━━━━━━━━━━━━━━━━━━━━━━━━╇━━━━━━━━━━━━━━━┩\n",
       "│ embedding (\u001b[38;5;33mEmbedding\u001b[0m)           │ (\u001b[38;5;45mNone\u001b[0m, \u001b[38;5;34m159\u001b[0m, \u001b[38;5;34m128\u001b[0m)       │       \u001b[38;5;34m128,128\u001b[0m │\n",
       "├─────────────────────────────────┼────────────────────────┼───────────────┤\n",
       "│ global_average_pooling1d_14     │ (\u001b[38;5;45mNone\u001b[0m, \u001b[38;5;34m128\u001b[0m)            │             \u001b[38;5;34m0\u001b[0m │\n",
       "│ (\u001b[38;5;33mGlobalAveragePooling1D\u001b[0m)        │                        │               │\n",
       "├─────────────────────────────────┼────────────────────────┼───────────────┤\n",
       "│ dense_86 (\u001b[38;5;33mDense\u001b[0m)                │ (\u001b[38;5;45mNone\u001b[0m, \u001b[38;5;34m159\u001b[0m)            │        \u001b[38;5;34m20,511\u001b[0m │\n",
       "├─────────────────────────────────┼────────────────────────┼───────────────┤\n",
       "│ dense_87 (\u001b[38;5;33mDense\u001b[0m)                │ (\u001b[38;5;45mNone\u001b[0m, \u001b[38;5;34m80\u001b[0m)             │        \u001b[38;5;34m12,800\u001b[0m │\n",
       "├─────────────────────────────────┼────────────────────────┼───────────────┤\n",
       "│ dense_88 (\u001b[38;5;33mDense\u001b[0m)                │ (\u001b[38;5;45mNone\u001b[0m, \u001b[38;5;34m20\u001b[0m)             │         \u001b[38;5;34m1,620\u001b[0m │\n",
       "├─────────────────────────────────┼────────────────────────┼───────────────┤\n",
       "│ dense_89 (\u001b[38;5;33mDense\u001b[0m)                │ (\u001b[38;5;45mNone\u001b[0m, \u001b[38;5;34m2\u001b[0m)              │            \u001b[38;5;34m42\u001b[0m │\n",
       "└─────────────────────────────────┴────────────────────────┴───────────────┘\n"
      ]
     },
     "metadata": {},
     "output_type": "display_data"
    },
    {
     "data": {
      "text/html": [
       "<pre style=\"white-space:pre;overflow-x:auto;line-height:normal;font-family:Menlo,'DejaVu Sans Mono',consolas,'Courier New',monospace\"><span style=\"font-weight: bold\"> Total params: </span><span style=\"color: #00af00; text-decoration-color: #00af00\">489,305</span> (1.87 MB)\n",
       "</pre>\n"
      ],
      "text/plain": [
       "\u001b[1m Total params: \u001b[0m\u001b[38;5;34m489,305\u001b[0m (1.87 MB)\n"
      ]
     },
     "metadata": {},
     "output_type": "display_data"
    },
    {
     "data": {
      "text/html": [
       "<pre style=\"white-space:pre;overflow-x:auto;line-height:normal;font-family:Menlo,'DejaVu Sans Mono',consolas,'Courier New',monospace\"><span style=\"font-weight: bold\"> Trainable params: </span><span style=\"color: #00af00; text-decoration-color: #00af00\">163,101</span> (637.11 KB)\n",
       "</pre>\n"
      ],
      "text/plain": [
       "\u001b[1m Trainable params: \u001b[0m\u001b[38;5;34m163,101\u001b[0m (637.11 KB)\n"
      ]
     },
     "metadata": {},
     "output_type": "display_data"
    },
    {
     "data": {
      "text/html": [
       "<pre style=\"white-space:pre;overflow-x:auto;line-height:normal;font-family:Menlo,'DejaVu Sans Mono',consolas,'Courier New',monospace\"><span style=\"font-weight: bold\"> Non-trainable params: </span><span style=\"color: #00af00; text-decoration-color: #00af00\">0</span> (0.00 B)\n",
       "</pre>\n"
      ],
      "text/plain": [
       "\u001b[1m Non-trainable params: \u001b[0m\u001b[38;5;34m0\u001b[0m (0.00 B)\n"
      ]
     },
     "metadata": {},
     "output_type": "display_data"
    },
    {
     "data": {
      "text/html": [
       "<pre style=\"white-space:pre;overflow-x:auto;line-height:normal;font-family:Menlo,'DejaVu Sans Mono',consolas,'Courier New',monospace\"><span style=\"font-weight: bold\"> Optimizer params: </span><span style=\"color: #00af00; text-decoration-color: #00af00\">326,204</span> (1.24 MB)\n",
       "</pre>\n"
      ],
      "text/plain": [
       "\u001b[1m Optimizer params: \u001b[0m\u001b[38;5;34m326,204\u001b[0m (1.24 MB)\n"
      ]
     },
     "metadata": {},
     "output_type": "display_data"
    }
   ],
   "source": [
    "model_baseline.summary()"
   ]
  },
  {
   "cell_type": "code",
   "execution_count": 60,
   "metadata": {},
   "outputs": [
    {
     "name": "stdout",
     "output_type": "stream",
     "text": [
      "\u001b[1m17/17\u001b[0m \u001b[32m━━━━━━━━━━━━━━━━━━━━\u001b[0m\u001b[37m\u001b[0m \u001b[1m0s\u001b[0m 25ms/step\n"
     ]
    },
    {
     "ename": "ValueError",
     "evalue": "Classification metrics can't handle a mix of binary and multilabel-indicator targets",
     "output_type": "error",
     "traceback": [
      "\u001b[0;31m---------------------------------------------------------------------------\u001b[0m",
      "\u001b[0;31mValueError\u001b[0m                                Traceback (most recent call last)",
      "Cell \u001b[0;32mIn[60], line 6\u001b[0m\n\u001b[1;32m      3\u001b[0m \u001b[38;5;66;03m#y_pred = np.argmax(predictions, axis=1)\u001b[39;00m\n\u001b[1;32m      4\u001b[0m y_pred \u001b[38;5;241m=\u001b[39m (predictions \u001b[38;5;241m>\u001b[39m \u001b[38;5;241m0.5\u001b[39m)\u001b[38;5;241m.\u001b[39mastype(\u001b[38;5;124m\"\u001b[39m\u001b[38;5;124mint\u001b[39m\u001b[38;5;124m\"\u001b[39m)\n\u001b[0;32m----> 6\u001b[0m cm \u001b[38;5;241m=\u001b[39m confusion_matrix(y_test, y_pred)\n\u001b[1;32m      7\u001b[0m disp \u001b[38;5;241m=\u001b[39m ConfusionMatrixDisplay(confusion_matrix\u001b[38;5;241m=\u001b[39mcm, display_labels\u001b[38;5;241m=\u001b[39m[\u001b[38;5;124m\"\u001b[39m\u001b[38;5;124mHam\u001b[39m\u001b[38;5;124m\"\u001b[39m, \u001b[38;5;124m\"\u001b[39m\u001b[38;5;124mSpam\u001b[39m\u001b[38;5;124m\"\u001b[39m])\n\u001b[1;32m      8\u001b[0m disp\u001b[38;5;241m.\u001b[39mplot(cmap\u001b[38;5;241m=\u001b[39mplt\u001b[38;5;241m.\u001b[39mcm\u001b[38;5;241m.\u001b[39mBlues)\n",
      "File \u001b[0;32m~/anaconda3/lib/python3.12/site-packages/sklearn/utils/_param_validation.py:213\u001b[0m, in \u001b[0;36mvalidate_params.<locals>.decorator.<locals>.wrapper\u001b[0;34m(*args, **kwargs)\u001b[0m\n\u001b[1;32m    207\u001b[0m \u001b[38;5;28;01mtry\u001b[39;00m:\n\u001b[1;32m    208\u001b[0m     \u001b[38;5;28;01mwith\u001b[39;00m config_context(\n\u001b[1;32m    209\u001b[0m         skip_parameter_validation\u001b[38;5;241m=\u001b[39m(\n\u001b[1;32m    210\u001b[0m             prefer_skip_nested_validation \u001b[38;5;129;01mor\u001b[39;00m global_skip_validation\n\u001b[1;32m    211\u001b[0m         )\n\u001b[1;32m    212\u001b[0m     ):\n\u001b[0;32m--> 213\u001b[0m         \u001b[38;5;28;01mreturn\u001b[39;00m func(\u001b[38;5;241m*\u001b[39margs, \u001b[38;5;241m*\u001b[39m\u001b[38;5;241m*\u001b[39mkwargs)\n\u001b[1;32m    214\u001b[0m \u001b[38;5;28;01mexcept\u001b[39;00m InvalidParameterError \u001b[38;5;28;01mas\u001b[39;00m e:\n\u001b[1;32m    215\u001b[0m     \u001b[38;5;66;03m# When the function is just a wrapper around an estimator, we allow\u001b[39;00m\n\u001b[1;32m    216\u001b[0m     \u001b[38;5;66;03m# the function to delegate validation to the estimator, but we replace\u001b[39;00m\n\u001b[1;32m    217\u001b[0m     \u001b[38;5;66;03m# the name of the estimator by the name of the function in the error\u001b[39;00m\n\u001b[1;32m    218\u001b[0m     \u001b[38;5;66;03m# message to avoid confusion.\u001b[39;00m\n\u001b[1;32m    219\u001b[0m     msg \u001b[38;5;241m=\u001b[39m re\u001b[38;5;241m.\u001b[39msub(\n\u001b[1;32m    220\u001b[0m         \u001b[38;5;124mr\u001b[39m\u001b[38;5;124m\"\u001b[39m\u001b[38;5;124mparameter of \u001b[39m\u001b[38;5;124m\\\u001b[39m\u001b[38;5;124mw+ must be\u001b[39m\u001b[38;5;124m\"\u001b[39m,\n\u001b[1;32m    221\u001b[0m         \u001b[38;5;124mf\u001b[39m\u001b[38;5;124m\"\u001b[39m\u001b[38;5;124mparameter of \u001b[39m\u001b[38;5;132;01m{\u001b[39;00mfunc\u001b[38;5;241m.\u001b[39m\u001b[38;5;18m__qualname__\u001b[39m\u001b[38;5;132;01m}\u001b[39;00m\u001b[38;5;124m must be\u001b[39m\u001b[38;5;124m\"\u001b[39m,\n\u001b[1;32m    222\u001b[0m         \u001b[38;5;28mstr\u001b[39m(e),\n\u001b[1;32m    223\u001b[0m     )\n",
      "File \u001b[0;32m~/anaconda3/lib/python3.12/site-packages/sklearn/metrics/_classification.py:319\u001b[0m, in \u001b[0;36mconfusion_matrix\u001b[0;34m(y_true, y_pred, labels, sample_weight, normalize)\u001b[0m\n\u001b[1;32m    224\u001b[0m \u001b[38;5;129m@validate_params\u001b[39m(\n\u001b[1;32m    225\u001b[0m     {\n\u001b[1;32m    226\u001b[0m         \u001b[38;5;124m\"\u001b[39m\u001b[38;5;124my_true\u001b[39m\u001b[38;5;124m\"\u001b[39m: [\u001b[38;5;124m\"\u001b[39m\u001b[38;5;124marray-like\u001b[39m\u001b[38;5;124m\"\u001b[39m],\n\u001b[0;32m   (...)\u001b[0m\n\u001b[1;32m    235\u001b[0m     y_true, y_pred, \u001b[38;5;241m*\u001b[39m, labels\u001b[38;5;241m=\u001b[39m\u001b[38;5;28;01mNone\u001b[39;00m, sample_weight\u001b[38;5;241m=\u001b[39m\u001b[38;5;28;01mNone\u001b[39;00m, normalize\u001b[38;5;241m=\u001b[39m\u001b[38;5;28;01mNone\u001b[39;00m\n\u001b[1;32m    236\u001b[0m ):\n\u001b[1;32m    237\u001b[0m \u001b[38;5;250m    \u001b[39m\u001b[38;5;124;03m\"\"\"Compute confusion matrix to evaluate the accuracy of a classification.\u001b[39;00m\n\u001b[1;32m    238\u001b[0m \n\u001b[1;32m    239\u001b[0m \u001b[38;5;124;03m    By definition a confusion matrix :math:`C` is such that :math:`C_{i, j}`\u001b[39;00m\n\u001b[0;32m   (...)\u001b[0m\n\u001b[1;32m    317\u001b[0m \u001b[38;5;124;03m    (0, 2, 1, 1)\u001b[39;00m\n\u001b[1;32m    318\u001b[0m \u001b[38;5;124;03m    \"\"\"\u001b[39;00m\n\u001b[0;32m--> 319\u001b[0m     y_type, y_true, y_pred \u001b[38;5;241m=\u001b[39m _check_targets(y_true, y_pred)\n\u001b[1;32m    320\u001b[0m     \u001b[38;5;28;01mif\u001b[39;00m y_type \u001b[38;5;129;01mnot\u001b[39;00m \u001b[38;5;129;01min\u001b[39;00m (\u001b[38;5;124m\"\u001b[39m\u001b[38;5;124mbinary\u001b[39m\u001b[38;5;124m\"\u001b[39m, \u001b[38;5;124m\"\u001b[39m\u001b[38;5;124mmulticlass\u001b[39m\u001b[38;5;124m\"\u001b[39m):\n\u001b[1;32m    321\u001b[0m         \u001b[38;5;28;01mraise\u001b[39;00m \u001b[38;5;167;01mValueError\u001b[39;00m(\u001b[38;5;124m\"\u001b[39m\u001b[38;5;132;01m%s\u001b[39;00m\u001b[38;5;124m is not supported\u001b[39m\u001b[38;5;124m\"\u001b[39m \u001b[38;5;241m%\u001b[39m y_type)\n",
      "File \u001b[0;32m~/anaconda3/lib/python3.12/site-packages/sklearn/metrics/_classification.py:94\u001b[0m, in \u001b[0;36m_check_targets\u001b[0;34m(y_true, y_pred)\u001b[0m\n\u001b[1;32m     91\u001b[0m     y_type \u001b[38;5;241m=\u001b[39m {\u001b[38;5;124m\"\u001b[39m\u001b[38;5;124mmulticlass\u001b[39m\u001b[38;5;124m\"\u001b[39m}\n\u001b[1;32m     93\u001b[0m \u001b[38;5;28;01mif\u001b[39;00m \u001b[38;5;28mlen\u001b[39m(y_type) \u001b[38;5;241m>\u001b[39m \u001b[38;5;241m1\u001b[39m:\n\u001b[0;32m---> 94\u001b[0m     \u001b[38;5;28;01mraise\u001b[39;00m \u001b[38;5;167;01mValueError\u001b[39;00m(\n\u001b[1;32m     95\u001b[0m         \u001b[38;5;124m\"\u001b[39m\u001b[38;5;124mClassification metrics can\u001b[39m\u001b[38;5;124m'\u001b[39m\u001b[38;5;124mt handle a mix of \u001b[39m\u001b[38;5;132;01m{0}\u001b[39;00m\u001b[38;5;124m and \u001b[39m\u001b[38;5;132;01m{1}\u001b[39;00m\u001b[38;5;124m targets\u001b[39m\u001b[38;5;124m\"\u001b[39m\u001b[38;5;241m.\u001b[39mformat(\n\u001b[1;32m     96\u001b[0m             type_true, type_pred\n\u001b[1;32m     97\u001b[0m         )\n\u001b[1;32m     98\u001b[0m     )\n\u001b[1;32m    100\u001b[0m \u001b[38;5;66;03m# We can't have more than one value on y_type => The set is no more needed\u001b[39;00m\n\u001b[1;32m    101\u001b[0m y_type \u001b[38;5;241m=\u001b[39m y_type\u001b[38;5;241m.\u001b[39mpop()\n",
      "\u001b[0;31mValueError\u001b[0m: Classification metrics can't handle a mix of binary and multilabel-indicator targets"
     ]
    }
   ],
   "source": [
    "# Evaluate the Model\n",
    "predictions = model_baseline.predict(X_test)\n",
    "y_pred = (predictions > 0.5).astype(\"int\")\n",
    "\n",
    "cm = confusion_matrix(y_test, y_pred)\n",
    "disp = ConfusionMatrixDisplay(confusion_matrix=cm, display_labels=[\"Ham\", \"Spam\"])\n",
    "disp.plot(cmap=plt.cm.Blues)\n",
    "plt.title(\"Confusion Matrix\")\n",
    "plt.show()\n",
    "\n",
    "print(classification_report(y_test, y_pred))"
   ]
  },
  {
   "cell_type": "markdown",
   "metadata": {},
   "source": [
    "# Modèle Embedding avec régulation"
   ]
  },
  {
   "cell_type": "markdown",
   "metadata": {},
   "source": [
    "Modèles testés et conclusions :\n",
    "- DropOut à 20% après chaque Dense hidden :\n",
    "    - sans BatchNormalization : early stopping à 9 epochs, 2 minutes, f1 weighted = 0.98\n",
    "    - avec BatchNormalization après le premier Dense : early stopping à 10 epochs, 2.5 minutes, f1 weighted = 0.99\n",
    "- L1 et L2 : \n",
    "    - L2 sur le premier Dense, L1 sur les deux autres : early stopping à 17 epochs, 5 minutes, f1 weighted = 0.98\n",
    "    - L1 sur le premier Dense, L2 sur les deux autres : 20 epochs, 6 minutes, f1 weighted = 0.99\n",
    "\n",
    "Conclusion : je valide le modèle DropOut avec BatchNormalization"
   ]
  },
  {
   "cell_type": "code",
   "execution_count": 114,
   "metadata": {},
   "outputs": [],
   "source": [
    "len_texts = texts_pad.shape[1] #47\n",
    "\n",
    "embedding_dim=128 \n",
    "vocab_size = 1000 \n",
    "\n",
    "model_EmbRegul = Sequential([\n",
    "  Embedding(vocab_size+1, embedding_dim, name=\"embedding\"),\n",
    "  GlobalAveragePooling1D(),\n",
    "  Dense(len_texts, activation='relu'),\n",
    "  BatchNormalization(),\n",
    "  Dropout(0.20),\n",
    "  Dense(80, activation='relu'), \n",
    "  Dropout(0.20),\n",
    "  Dense(20, activation='relu'), \n",
    "  Dense(2, activation=\"softmax\") \n",
    "])"
   ]
  },
  {
   "cell_type": "code",
   "execution_count": 115,
   "metadata": {},
   "outputs": [],
   "source": [
    "optimizer = tf.keras.optimizers.Adam(learning_rate=lr_schedule)\n",
    "\n",
    "model_EmbRegul.compile(\n",
    "            optimizer=optimizer,\n",
    "            loss=tf.keras.losses.SparseCategoricalCrossentropy(),\n",
    "            metrics=[tf.keras.metrics.SparseCategoricalAccuracy()])"
   ]
  },
  {
   "cell_type": "code",
   "execution_count": 116,
   "metadata": {},
   "outputs": [
    {
     "name": "stdout",
     "output_type": "stream",
     "text": [
      "Epoch 1/20\n"
     ]
    },
    {
     "name": "stderr",
     "output_type": "stream",
     "text": [
      "/home/eugenie_laptop/anaconda3/lib/python3.12/site-packages/tensorflow/python/data/ops/structured_function.py:258: UserWarning:\n",
      "\n",
      "Even though the `tf.config.experimental_run_functions_eagerly` option is set, this option does not apply to tf.data functions. To force eager execution of tf.data functions, please use `tf.data.experimental.enable_debug_mode()`.\n",
      "\n"
     ]
    },
    {
     "name": "stdout",
     "output_type": "stream",
     "text": [
      "\u001b[1m122/122\u001b[0m \u001b[32m━━━━━━━━━━━━━━━━━━━━\u001b[0m\u001b[37m\u001b[0m \u001b[1m16s\u001b[0m 131ms/step - loss: 0.4415 - sparse_categorical_accuracy: 0.8136 - val_loss: 0.2999 - val_sparse_categorical_accuracy: 0.8660\n",
      "Epoch 2/20\n",
      "\u001b[1m122/122\u001b[0m \u001b[32m━━━━━━━━━━━━━━━━━━━━\u001b[0m\u001b[37m\u001b[0m \u001b[1m15s\u001b[0m 127ms/step - loss: 0.1071 - sparse_categorical_accuracy: 0.9617 - val_loss: 0.3354 - val_sparse_categorical_accuracy: 0.8660\n",
      "Epoch 3/20\n",
      "\u001b[1m122/122\u001b[0m \u001b[32m━━━━━━━━━━━━━━━━━━━━\u001b[0m\u001b[37m\u001b[0m \u001b[1m16s\u001b[0m 132ms/step - loss: 0.0815 - sparse_categorical_accuracy: 0.9731 - val_loss: 0.1711 - val_sparse_categorical_accuracy: 0.9309\n",
      "Epoch 4/20\n",
      "\u001b[1m122/122\u001b[0m \u001b[32m━━━━━━━━━━━━━━━━━━━━\u001b[0m\u001b[37m\u001b[0m \u001b[1m16s\u001b[0m 129ms/step - loss: 0.0553 - sparse_categorical_accuracy: 0.9843 - val_loss: 0.0723 - val_sparse_categorical_accuracy: 0.9835\n",
      "Epoch 5/20\n",
      "\u001b[1m122/122\u001b[0m \u001b[32m━━━━━━━━━━━━━━━━━━━━\u001b[0m\u001b[37m\u001b[0m \u001b[1m16s\u001b[0m 132ms/step - loss: 0.0478 - sparse_categorical_accuracy: 0.9823 - val_loss: 0.0763 - val_sparse_categorical_accuracy: 0.9763\n",
      "Epoch 6/20\n",
      "\u001b[1m122/122\u001b[0m \u001b[32m━━━━━━━━━━━━━━━━━━━━\u001b[0m\u001b[37m\u001b[0m \u001b[1m16s\u001b[0m 129ms/step - loss: 0.0268 - sparse_categorical_accuracy: 0.9907 - val_loss: 0.0736 - val_sparse_categorical_accuracy: 0.9722\n",
      "Epoch 7/20\n",
      "\u001b[1m122/122\u001b[0m \u001b[32m━━━━━━━━━━━━━━━━━━━━\u001b[0m\u001b[37m\u001b[0m \u001b[1m16s\u001b[0m 134ms/step - loss: 0.0518 - sparse_categorical_accuracy: 0.9838 - val_loss: 0.0826 - val_sparse_categorical_accuracy: 0.9784\n",
      "Epoch 8/20\n",
      "\u001b[1m122/122\u001b[0m \u001b[32m━━━━━━━━━━━━━━━━━━━━\u001b[0m\u001b[37m\u001b[0m \u001b[1m16s\u001b[0m 133ms/step - loss: 0.0332 - sparse_categorical_accuracy: 0.9898 - val_loss: 0.3905 - val_sparse_categorical_accuracy: 0.9526\n",
      "Epoch 9/20\n",
      "\u001b[1m122/122\u001b[0m \u001b[32m━━━━━━━━━━━━━━━━━━━━\u001b[0m\u001b[37m\u001b[0m \u001b[1m16s\u001b[0m 134ms/step - loss: 0.0216 - sparse_categorical_accuracy: 0.9908 - val_loss: 0.0979 - val_sparse_categorical_accuracy: 0.9784\n"
     ]
    }
   ],
   "source": [
    "history = model_EmbRegul.fit(\n",
    "    train_batch,\n",
    "    validation_data=val_batch,\n",
    "    class_weight=d_cat,\n",
    "    callbacks=[early_stopping],\n",
    "    epochs=20)"
   ]
  },
  {
   "cell_type": "code",
   "execution_count": null,
   "metadata": {},
   "outputs": [],
   "source": [
    "fig = go.Figure(data=[\n",
    "                      go.Scatter(\n",
    "                          y=history.history[\"loss\"],\n",
    "                          name=\"Training loss\",\n",
    "                          mode=\"lines\",\n",
    "                          ),\n",
    "                      go.Scatter(\n",
    "                          y=history.history[\"val_loss\"],\n",
    "                          name=\"Validation loss\",\n",
    "                          mode=\"lines\",\n",
    "                          )\n",
    "])\n",
    "fig.update_layout(\n",
    "    title='Embedding avec regulation : Training and val loss across epochs',\n",
    "    xaxis_title='epochs',\n",
    "    yaxis_title='Cross Entropy'\n",
    ")\n",
    "fig.show()\n",
    "\n",
    "fig = go.Figure(data=[\n",
    "                      go.Scatter(\n",
    "                          y=history.history[\"binary_accuracy\"],\n",
    "                          name=\"Training accuracy\",\n",
    "                          mode=\"lines\",\n",
    "                          ),\n",
    "                      go.Scatter(\n",
    "                          y=history.history[\"val_binary_accuracy\"],\n",
    "                          name=\"Validation accuracy\",\n",
    "                          mode=\"lines\",\n",
    "                          )\n",
    "])\n",
    "fig.update_layout(\n",
    "    title='Embedding avec regulation : Training and val accuracy across epochs',\n",
    "    xaxis_title='epochs',\n",
    "    yaxis_title='Accuracy'\n",
    ")\n",
    "fig.show()"
   ]
  },
  {
   "cell_type": "code",
   "execution_count": 117,
   "metadata": {},
   "outputs": [
    {
     "name": "stdout",
     "output_type": "stream",
     "text": [
      "\u001b[1m17/17\u001b[0m \u001b[32m━━━━━━━━━━━━━━━━━━━━\u001b[0m\u001b[37m\u001b[0m \u001b[1m0s\u001b[0m 20ms/step\n"
     ]
    },
    {
     "data": {
      "image/png": "[encoded data removed]",
      "text/plain": [
       "<Figure size 640x480 with 2 Axes>"
      ]
     },
     "metadata": {},
     "output_type": "display_data"
    },
    {
     "name": "stdout",
     "output_type": "stream",
     "text": [
      "              precision    recall  f1-score   support\n",
      "\n",
      "           0       0.99      1.00      0.99       464\n",
      "           1       0.99      0.92      0.95        75\n",
      "\n",
      "    accuracy                           0.99       539\n",
      "   macro avg       0.99      0.96      0.97       539\n",
      "weighted avg       0.99      0.99      0.99       539\n",
      "\n"
     ]
    }
   ],
   "source": [
    "# Evaluation du modèle\n",
    "predictions = model_EmbRegul.predict(X_test)\n",
    "y_pred = np.argmax(predictions, axis=1)\n",
    "\n",
    "cm = confusion_matrix(y_test, y_pred)\n",
    "disp = ConfusionMatrixDisplay(confusion_matrix=cm, display_labels=[\"Ham\", \"Spam\"])\n",
    "disp.plot(cmap=plt.cm.Blues)\n",
    "plt.title(\"Confusion Matrix\")\n",
    "plt.show()\n",
    "\n",
    "print(classification_report(y_test, y_pred))"
   ]
  },
  {
   "cell_type": "code",
   "execution_count": 118,
   "metadata": {},
   "outputs": [
    {
     "name": "stdout",
     "output_type": "stream",
     "text": [
      "<class 'dict'>\n"
     ]
    }
   ],
   "source": [
    "model_EmbRegul.save(\"./Projet/Emb_3Dense_DropOut_BatchNorm.keras\")\n",
    "\n",
    "# Get the dictionary containing each metric and the loss for each epoch\n",
    "history_dict = history.history\n",
    "print(type(history_dict))\n",
    "# Save it under the form of a json file\n",
    "json.dump(history_dict, open(\"./Projet/Emb_3Dense_DropOut_BatchNorm.json\", 'w'))"
   ]
  },
  {
   "cell_type": "markdown",
   "metadata": {},
   "source": [
    "# Modèle RNN"
   ]
  },
  {
   "cell_type": "markdown",
   "metadata": {},
   "source": [
    "Modèles testés et conclusions :\n",
    "- Simple RNN : early stopping à 9 epochs, 20 secondes, f1 weighted = 0.96\n",
    "- GRU : 20 epochs, 1.5 minutes, f1 weighted = 0.97\n",
    "- LSTM : 20 epochs, 17 minutes, f1 weighted = 0.94\n",
    "\n",
    "Conclusion : les modèles d'Embedding simples ont de meilleures performances"
   ]
  },
  {
   "cell_type": "code",
   "execution_count": null,
   "metadata": {},
   "outputs": [],
   "source": [
    "embedding_dim=128 \n",
    "vocab_size = 1000 \n",
    "\n",
    "model_GRU = Sequential([\n",
    "  Embedding(vocab_size+1, embedding_dim, name=\"embedding\"),\n",
    "  GRU(units=64, return_sequences=False), \n",
    "  Dropout(0.20),\n",
    "  Dense(2, activation=\"softmax\")\n",
    "])"
   ]
  },
  {
   "cell_type": "code",
   "execution_count": null,
   "metadata": {},
   "outputs": [
    {
     "data": {
      "text/html": [
       "<pre style=\"white-space:pre;overflow-x:auto;line-height:normal;font-family:Menlo,'DejaVu Sans Mono',consolas,'Courier New',monospace\"><span style=\"font-weight: bold\">Model: \"sequential\"</span>\n",
       "</pre>\n"
      ],
      "text/plain": [
       "\u001b[1mModel: \"sequential\"\u001b[0m\n"
      ]
     },
     "metadata": {},
     "output_type": "display_data"
    },
    {
     "data": {
      "text/html": [
       "<pre style=\"white-space:pre;overflow-x:auto;line-height:normal;font-family:Menlo,'DejaVu Sans Mono',consolas,'Courier New',monospace\">┏━━━━━━━━━━━━━━━━━━━━━━━━━━━━━━━━━┳━━━━━━━━━━━━━━━━━━━━━━━━┳━━━━━━━━━━━━━━━┓\n",
       "┃<span style=\"font-weight: bold\"> Layer (type)                    </span>┃<span style=\"font-weight: bold\"> Output Shape           </span>┃<span style=\"font-weight: bold\">       Param # </span>┃\n",
       "┡━━━━━━━━━━━━━━━━━━━━━━━━━━━━━━━━━╇━━━━━━━━━━━━━━━━━━━━━━━━╇━━━━━━━━━━━━━━━┩\n",
       "│ embedding (<span style=\"color: #0087ff; text-decoration-color: #0087ff\">Embedding</span>)           │ (<span style=\"color: #00d7ff; text-decoration-color: #00d7ff\">None</span>, <span style=\"color: #00af00; text-decoration-color: #00af00\">47</span>, <span style=\"color: #00af00; text-decoration-color: #00af00\">128</span>)        │       <span style=\"color: #00af00; text-decoration-color: #00af00\">128,128</span> │\n",
       "├─────────────────────────────────┼────────────────────────┼───────────────┤\n",
       "│ gru (<span style=\"color: #0087ff; text-decoration-color: #0087ff\">GRU</span>)                       │ (<span style=\"color: #00d7ff; text-decoration-color: #00d7ff\">None</span>, <span style=\"color: #00af00; text-decoration-color: #00af00\">64</span>)             │        <span style=\"color: #00af00; text-decoration-color: #00af00\">37,248</span> │\n",
       "├─────────────────────────────────┼────────────────────────┼───────────────┤\n",
       "│ dropout (<span style=\"color: #0087ff; text-decoration-color: #0087ff\">Dropout</span>)               │ (<span style=\"color: #00d7ff; text-decoration-color: #00d7ff\">None</span>, <span style=\"color: #00af00; text-decoration-color: #00af00\">64</span>)             │             <span style=\"color: #00af00; text-decoration-color: #00af00\">0</span> │\n",
       "├─────────────────────────────────┼────────────────────────┼───────────────┤\n",
       "│ dense (<span style=\"color: #0087ff; text-decoration-color: #0087ff\">Dense</span>)                   │ (<span style=\"color: #00d7ff; text-decoration-color: #00d7ff\">None</span>, <span style=\"color: #00af00; text-decoration-color: #00af00\">1</span>)              │            <span style=\"color: #00af00; text-decoration-color: #00af00\">65</span> │\n",
       "└─────────────────────────────────┴────────────────────────┴───────────────┘\n",
       "</pre>\n"
      ],
      "text/plain": [
       "┏━━━━━━━━━━━━━━━━━━━━━━━━━━━━━━━━━┳━━━━━━━━━━━━━━━━━━━━━━━━┳━━━━━━━━━━━━━━━┓\n",
       "┃\u001b[1m \u001b[0m\u001b[1mLayer (type)                   \u001b[0m\u001b[1m \u001b[0m┃\u001b[1m \u001b[0m\u001b[1mOutput Shape          \u001b[0m\u001b[1m \u001b[0m┃\u001b[1m \u001b[0m\u001b[1m      Param #\u001b[0m\u001b[1m \u001b[0m┃\n",
       "┡━━━━━━━━━━━━━━━━━━━━━━━━━━━━━━━━━╇━━━━━━━━━━━━━━━━━━━━━━━━╇━━━━━━━━━━━━━━━┩\n",
       "│ embedding (\u001b[38;5;33mEmbedding\u001b[0m)           │ (\u001b[38;5;45mNone\u001b[0m, \u001b[38;5;34m47\u001b[0m, \u001b[38;5;34m128\u001b[0m)        │       \u001b[38;5;34m128,128\u001b[0m │\n",
       "├─────────────────────────────────┼────────────────────────┼───────────────┤\n",
       "│ gru (\u001b[38;5;33mGRU\u001b[0m)                       │ (\u001b[38;5;45mNone\u001b[0m, \u001b[38;5;34m64\u001b[0m)             │        \u001b[38;5;34m37,248\u001b[0m │\n",
       "├─────────────────────────────────┼────────────────────────┼───────────────┤\n",
       "│ dropout (\u001b[38;5;33mDropout\u001b[0m)               │ (\u001b[38;5;45mNone\u001b[0m, \u001b[38;5;34m64\u001b[0m)             │             \u001b[38;5;34m0\u001b[0m │\n",
       "├─────────────────────────────────┼────────────────────────┼───────────────┤\n",
       "│ dense (\u001b[38;5;33mDense\u001b[0m)                   │ (\u001b[38;5;45mNone\u001b[0m, \u001b[38;5;34m1\u001b[0m)              │            \u001b[38;5;34m65\u001b[0m │\n",
       "└─────────────────────────────────┴────────────────────────┴───────────────┘\n"
      ]
     },
     "metadata": {},
     "output_type": "display_data"
    },
    {
     "data": {
      "text/html": [
       "<pre style=\"white-space:pre;overflow-x:auto;line-height:normal;font-family:Menlo,'DejaVu Sans Mono',consolas,'Courier New',monospace\"><span style=\"font-weight: bold\"> Total params: </span><span style=\"color: #00af00; text-decoration-color: #00af00\">496,324</span> (1.89 MB)\n",
       "</pre>\n"
      ],
      "text/plain": [
       "\u001b[1m Total params: \u001b[0m\u001b[38;5;34m496,324\u001b[0m (1.89 MB)\n"
      ]
     },
     "metadata": {},
     "output_type": "display_data"
    },
    {
     "data": {
      "text/html": [
       "<pre style=\"white-space:pre;overflow-x:auto;line-height:normal;font-family:Menlo,'DejaVu Sans Mono',consolas,'Courier New',monospace\"><span style=\"font-weight: bold\"> Trainable params: </span><span style=\"color: #00af00; text-decoration-color: #00af00\">165,441</span> (646.25 KB)\n",
       "</pre>\n"
      ],
      "text/plain": [
       "\u001b[1m Trainable params: \u001b[0m\u001b[38;5;34m165,441\u001b[0m (646.25 KB)\n"
      ]
     },
     "metadata": {},
     "output_type": "display_data"
    },
    {
     "data": {
      "text/html": [
       "<pre style=\"white-space:pre;overflow-x:auto;line-height:normal;font-family:Menlo,'DejaVu Sans Mono',consolas,'Courier New',monospace\"><span style=\"font-weight: bold\"> Non-trainable params: </span><span style=\"color: #00af00; text-decoration-color: #00af00\">0</span> (0.00 B)\n",
       "</pre>\n"
      ],
      "text/plain": [
       "\u001b[1m Non-trainable params: \u001b[0m\u001b[38;5;34m0\u001b[0m (0.00 B)\n"
      ]
     },
     "metadata": {},
     "output_type": "display_data"
    },
    {
     "data": {
      "text/html": [
       "<pre style=\"white-space:pre;overflow-x:auto;line-height:normal;font-family:Menlo,'DejaVu Sans Mono',consolas,'Courier New',monospace\"><span style=\"font-weight: bold\"> Optimizer params: </span><span style=\"color: #00af00; text-decoration-color: #00af00\">330,883</span> (1.26 MB)\n",
       "</pre>\n"
      ],
      "text/plain": [
       "\u001b[1m Optimizer params: \u001b[0m\u001b[38;5;34m330,883\u001b[0m (1.26 MB)\n"
      ]
     },
     "metadata": {},
     "output_type": "display_data"
    }
   ],
   "source": [
    "model_GRU.summary()"
   ]
  },
  {
   "cell_type": "code",
   "execution_count": null,
   "metadata": {},
   "outputs": [],
   "source": [
    "optimizer = tf.keras.optimizers.Adam(learning_rate=lr_schedule)\n",
    "\n",
    "model_GRU.compile(\n",
    "            optimizer=optimizer,\n",
    "            loss=tf.keras.losses.SparseCategoricalCrossentropy(),\n",
    "            metrics=[tf.keras.metrics.SparseCategoricalAccuracy()])"
   ]
  },
  {
   "cell_type": "code",
   "execution_count": null,
   "metadata": {},
   "outputs": [
    {
     "name": "stdout",
     "output_type": "stream",
     "text": [
      "Epoch 1/20\n"
     ]
    },
    {
     "name": "stderr",
     "output_type": "stream",
     "text": [
      "/home/eugenie_laptop/anaconda3/lib/python3.12/site-packages/tensorflow/python/data/ops/structured_function.py:258: UserWarning:\n",
      "\n",
      "Even though the `tf.config.experimental_run_functions_eagerly` option is set, this option does not apply to tf.data functions. To force eager execution of tf.data functions, please use `tf.data.experimental.enable_debug_mode()`.\n",
      "\n"
     ]
    },
    {
     "name": "stdout",
     "output_type": "stream",
     "text": [
      "\u001b[1m122/122\u001b[0m \u001b[32m━━━━━━━━━━━━━━━━━━━━\u001b[0m\u001b[37m\u001b[0m \u001b[1m88s\u001b[0m 714ms/step - loss: 0.6684 - sparse_categorical_accuracy: 0.7367 - val_loss: 0.8211 - val_sparse_categorical_accuracy: 0.1381\n",
      "Epoch 2/20\n",
      "\u001b[1m122/122\u001b[0m \u001b[32m━━━━━━━━━━━━━━━━━━━━\u001b[0m\u001b[37m\u001b[0m \u001b[1m84s\u001b[0m 687ms/step - loss: 0.7041 - sparse_categorical_accuracy: 0.3426 - val_loss: 0.7144 - val_sparse_categorical_accuracy: 0.1381\n",
      "Epoch 3/20\n",
      "\u001b[1m122/122\u001b[0m \u001b[32m━━━━━━━━━━━━━━━━━━━━\u001b[0m\u001b[37m\u001b[0m \u001b[1m84s\u001b[0m 688ms/step - loss: 0.6950 - sparse_categorical_accuracy: 0.3479 - val_loss: 0.7109 - val_sparse_categorical_accuracy: 0.1381\n",
      "Epoch 4/20\n",
      "\u001b[1m122/122\u001b[0m \u001b[32m━━━━━━━━━━━━━━━━━━━━\u001b[0m\u001b[37m\u001b[0m \u001b[1m84s\u001b[0m 691ms/step - loss: 0.6903 - sparse_categorical_accuracy: 0.5313 - val_loss: 0.7035 - val_sparse_categorical_accuracy: 0.1381\n",
      "Epoch 5/20\n",
      "\u001b[1m122/122\u001b[0m \u001b[32m━━━━━━━━━━━━━━━━━━━━\u001b[0m\u001b[37m\u001b[0m \u001b[1m84s\u001b[0m 687ms/step - loss: 0.6903 - sparse_categorical_accuracy: 0.5761 - val_loss: 0.6910 - val_sparse_categorical_accuracy: 0.8619\n",
      "Epoch 6/20\n",
      "\u001b[1m122/122\u001b[0m \u001b[32m━━━━━━━━━━━━━━━━━━━━\u001b[0m\u001b[37m\u001b[0m \u001b[1m84s\u001b[0m 692ms/step - loss: 0.6828 - sparse_categorical_accuracy: 0.5959 - val_loss: 0.6843 - val_sparse_categorical_accuracy: 0.8619\n",
      "Epoch 7/20\n",
      "\u001b[1m122/122\u001b[0m \u001b[32m━━━━━━━━━━━━━━━━━━━━\u001b[0m\u001b[37m\u001b[0m \u001b[1m86s\u001b[0m 706ms/step - loss: 0.6761 - sparse_categorical_accuracy: 0.7472 - val_loss: 0.7030 - val_sparse_categorical_accuracy: 0.1381\n",
      "Epoch 8/20\n",
      "\u001b[1m122/122\u001b[0m \u001b[32m━━━━━━━━━━━━━━━━━━━━\u001b[0m\u001b[37m\u001b[0m \u001b[1m86s\u001b[0m 708ms/step - loss: 0.7048 - sparse_categorical_accuracy: 0.2551 - val_loss: 0.6797 - val_sparse_categorical_accuracy: 0.8619\n",
      "Epoch 9/20\n",
      "\u001b[1m122/122\u001b[0m \u001b[32m━━━━━━━━━━━━━━━━━━━━\u001b[0m\u001b[37m\u001b[0m \u001b[1m86s\u001b[0m 703ms/step - loss: 0.7013 - sparse_categorical_accuracy: 0.3252 - val_loss: 0.6902 - val_sparse_categorical_accuracy: 0.8619\n",
      "Epoch 10/20\n",
      "\u001b[1m122/122\u001b[0m \u001b[32m━━━━━━━━━━━━━━━━━━━━\u001b[0m\u001b[37m\u001b[0m \u001b[1m86s\u001b[0m 708ms/step - loss: 0.7053 - sparse_categorical_accuracy: 0.4660 - val_loss: 0.6915 - val_sparse_categorical_accuracy: 0.8619\n",
      "Epoch 11/20\n",
      "\u001b[1m122/122\u001b[0m \u001b[32m━━━━━━━━━━━━━━━━━━━━\u001b[0m\u001b[37m\u001b[0m \u001b[1m86s\u001b[0m 706ms/step - loss: 0.6955 - sparse_categorical_accuracy: 0.4543 - val_loss: 0.6857 - val_sparse_categorical_accuracy: 0.8619\n",
      "Epoch 12/20\n",
      "\u001b[1m122/122\u001b[0m \u001b[32m━━━━━━━━━━━━━━━━━━━━\u001b[0m\u001b[37m\u001b[0m \u001b[1m86s\u001b[0m 707ms/step - loss: 0.7272 - sparse_categorical_accuracy: 0.3675 - val_loss: 0.6457 - val_sparse_categorical_accuracy: 0.8619\n",
      "Epoch 13/20\n",
      "\u001b[1m122/122\u001b[0m \u001b[32m━━━━━━━━━━━━━━━━━━━━\u001b[0m\u001b[37m\u001b[0m \u001b[1m86s\u001b[0m 702ms/step - loss: 0.6960 - sparse_categorical_accuracy: 0.7956 - val_loss: 0.6988 - val_sparse_categorical_accuracy: 0.1381\n",
      "Epoch 14/20\n",
      "\u001b[1m122/122\u001b[0m \u001b[32m━━━━━━━━━━━━━━━━━━━━\u001b[0m\u001b[37m\u001b[0m \u001b[1m91s\u001b[0m 747ms/step - loss: 0.6808 - sparse_categorical_accuracy: 0.7009 - val_loss: 0.7161 - val_sparse_categorical_accuracy: 0.1381\n",
      "Epoch 15/20\n",
      "\u001b[1m122/122\u001b[0m \u001b[32m━━━━━━━━━━━━━━━━━━━━\u001b[0m\u001b[37m\u001b[0m \u001b[1m86s\u001b[0m 707ms/step - loss: 0.7065 - sparse_categorical_accuracy: 0.2323 - val_loss: 0.6617 - val_sparse_categorical_accuracy: 0.8619\n",
      "Epoch 16/20\n",
      "\u001b[1m122/122\u001b[0m \u001b[32m━━━━━━━━━━━━━━━━━━━━\u001b[0m\u001b[37m\u001b[0m \u001b[1m86s\u001b[0m 707ms/step - loss: 0.7056 - sparse_categorical_accuracy: 0.5309 - val_loss: 0.6745 - val_sparse_categorical_accuracy: 0.8619\n",
      "Epoch 17/20\n",
      "\u001b[1m122/122\u001b[0m \u001b[32m━━━━━━━━━━━━━━━━━━━━\u001b[0m\u001b[37m\u001b[0m \u001b[1m87s\u001b[0m 715ms/step - loss: 0.7174 - sparse_categorical_accuracy: 0.4813 - val_loss: 0.6814 - val_sparse_categorical_accuracy: 0.8619\n"
     ]
    }
   ],
   "source": [
    "history = model_GRU.fit(\n",
    "    train_batch,\n",
    "    validation_data=val_batch,\n",
    "    class_weight=d_cat,\n",
    "    callbacks=[early_stopping],\n",
    "    epochs=20)"
   ]
  },
  {
   "cell_type": "code",
   "execution_count": null,
   "metadata": {},
   "outputs": [
    {
     "name": "stdout",
     "output_type": "stream",
     "text": [
      "\u001b[1m17/17\u001b[0m \u001b[32m━━━━━━━━━━━━━━━━━━━━\u001b[0m\u001b[37m\u001b[0m \u001b[1m1s\u001b[0m 26ms/step\n"
     ]
    },
    {
     "data": {
      "image/png": "[encoded data removed]",
      "text/plain": [
       "<Figure size 640x480 with 2 Axes>"
      ]
     },
     "metadata": {},
     "output_type": "display_data"
    },
    {
     "name": "stdout",
     "output_type": "stream",
     "text": [
      "              precision    recall  f1-score   support\n",
      "\n",
      "           0       0.99      0.97      0.98       464\n",
      "           1       0.84      0.96      0.89        75\n",
      "\n",
      "    accuracy                           0.97       539\n",
      "   macro avg       0.92      0.96      0.94       539\n",
      "weighted avg       0.97      0.97      0.97       539\n",
      "\n"
     ]
    }
   ],
   "source": [
    "# Evaluation du modèle\n",
    "predictions = model_GRU.predict(X_test)\n",
    "y_pred = np.argmax(predictions, axis=1)\n",
    "\n",
    "cm = confusion_matrix(y_test, y_pred)\n",
    "disp = ConfusionMatrixDisplay(confusion_matrix=cm, display_labels=[\"Ham\", \"Spam\"])\n",
    "disp.plot(cmap=plt.cm.Blues)\n",
    "plt.title(\"Confusion Matrix\")\n",
    "plt.show()\n",
    "\n",
    "print(classification_report(y_test, y_pred))"
   ]
  },
  {
   "cell_type": "markdown",
   "metadata": {},
   "source": [
    "# RNN avec data augmentation"
   ]
  },
  {
   "cell_type": "code",
   "execution_count": 40,
   "metadata": {},
   "outputs": [
    {
     "name": "stdout",
     "output_type": "stream",
     "text": [
      "(5386, 7)\n",
      "745 Index([   2,    5,    8,    9,   11,   12,   15,   19,   34,   42,\n",
      "       ...\n",
      "       5464, 5469, 5473, 5496, 5498, 5509, 5512, 5519, 5537, 5538],\n",
      "      dtype='int64', length=745)\n",
      "(9856, 7)\n"
     ]
    },
    {
     "data": {
      "text/html": [
       "<div>\n",
       "<style scoped>\n",
       "    .dataframe tbody tr th:only-of-type {\n",
       "        vertical-align: middle;\n",
       "    }\n",
       "\n",
       "    .dataframe tbody tr th {\n",
       "        vertical-align: top;\n",
       "    }\n",
       "\n",
       "    .dataframe thead th {\n",
       "        text-align: right;\n",
       "    }\n",
       "</style>\n",
       "<table border=\"1\" class=\"dataframe\">\n",
       "  <thead>\n",
       "    <tr style=\"text-align: right;\">\n",
       "      <th></th>\n",
       "      <th>class</th>\n",
       "      <th>text</th>\n",
       "      <th>text_length</th>\n",
       "      <th>text_clean</th>\n",
       "      <th>text_encoded</th>\n",
       "      <th>len_txt</th>\n",
       "      <th>cat</th>\n",
       "    </tr>\n",
       "  </thead>\n",
       "  <tbody>\n",
       "    <tr>\n",
       "      <th>9851</th>\n",
       "      <td>spam</td>\n",
       "      <td>This is the 2nd time we have tried 2 contact u...</td>\n",
       "      <td>161</td>\n",
       "      <td>2nd time try 2 contact u u win å750 pound priz...</td>\n",
       "      <td>[267, 17, 48, 3, 92, 1, 1, 31, 279, 69, 3, 49,...</td>\n",
       "      <td>16</td>\n",
       "      <td>1</td>\n",
       "    </tr>\n",
       "    <tr>\n",
       "      <th>9852</th>\n",
       "      <td>spam</td>\n",
       "      <td>This is the 2nd time we have tried 2 contact u...</td>\n",
       "      <td>161</td>\n",
       "      <td>2nd time try 2 contact u u win å750 pound priz...</td>\n",
       "      <td>[267, 17, 48, 3, 92, 1, 1, 31, 279, 69, 3, 49,...</td>\n",
       "      <td>16</td>\n",
       "      <td>1</td>\n",
       "    </tr>\n",
       "    <tr>\n",
       "      <th>9853</th>\n",
       "      <td>spam</td>\n",
       "      <td>This is the 2nd time we have tried 2 contact u...</td>\n",
       "      <td>161</td>\n",
       "      <td>2nd time try 2 contact u u win å750 pound priz...</td>\n",
       "      <td>[267, 17, 48, 3, 92, 1, 1, 31, 279, 69, 3, 49,...</td>\n",
       "      <td>16</td>\n",
       "      <td>1</td>\n",
       "    </tr>\n",
       "    <tr>\n",
       "      <th>9854</th>\n",
       "      <td>spam</td>\n",
       "      <td>This is the 2nd time we have tried 2 contact u...</td>\n",
       "      <td>161</td>\n",
       "      <td>2nd time try 2 contact u u win å750 pound priz...</td>\n",
       "      <td>[267, 17, 48, 3, 92, 1, 1, 31, 279, 69, 3, 49,...</td>\n",
       "      <td>16</td>\n",
       "      <td>1</td>\n",
       "    </tr>\n",
       "    <tr>\n",
       "      <th>9855</th>\n",
       "      <td>spam</td>\n",
       "      <td>This is the 2nd time we have tried 2 contact u...</td>\n",
       "      <td>161</td>\n",
       "      <td>2nd time try 2 contact u u win å750 pound priz...</td>\n",
       "      <td>[267, 17, 48, 3, 92, 1, 1, 31, 279, 69, 3, 49,...</td>\n",
       "      <td>16</td>\n",
       "      <td>1</td>\n",
       "    </tr>\n",
       "  </tbody>\n",
       "</table>\n",
       "</div>"
      ],
      "text/plain": [
       "     class                                               text  text_length  \\\n",
       "9851  spam  This is the 2nd time we have tried 2 contact u...          161   \n",
       "9852  spam  This is the 2nd time we have tried 2 contact u...          161   \n",
       "9853  spam  This is the 2nd time we have tried 2 contact u...          161   \n",
       "9854  spam  This is the 2nd time we have tried 2 contact u...          161   \n",
       "9855  spam  This is the 2nd time we have tried 2 contact u...          161   \n",
       "\n",
       "                                             text_clean  \\\n",
       "9851  2nd time try 2 contact u u win å750 pound priz...   \n",
       "9852  2nd time try 2 contact u u win å750 pound priz...   \n",
       "9853  2nd time try 2 contact u u win å750 pound priz...   \n",
       "9854  2nd time try 2 contact u u win å750 pound priz...   \n",
       "9855  2nd time try 2 contact u u win å750 pound priz...   \n",
       "\n",
       "                                           text_encoded  len_txt  cat  \n",
       "9851  [267, 17, 48, 3, 92, 1, 1, 31, 279, 69, 3, 49,...       16    1  \n",
       "9852  [267, 17, 48, 3, 92, 1, 1, 31, 279, 69, 3, 49,...       16    1  \n",
       "9853  [267, 17, 48, 3, 92, 1, 1, 31, 279, 69, 3, 49,...       16    1  \n",
       "9854  [267, 17, 48, 3, 92, 1, 1, 31, 279, 69, 3, 49,...       16    1  \n",
       "9855  [267, 17, 48, 3, 92, 1, 1, 31, 279, 69, 3, 49,...       16    1  "
      ]
     },
     "execution_count": 40,
     "metadata": {},
     "output_type": "execute_result"
    }
   ],
   "source": [
    "dataspams = data.iloc[:,:]\n",
    "print(dataspams.shape)\n",
    "index_spam = dataspams[dataspams['class'] == \"spam\"].index\n",
    "print(len(index_spam), index_spam)\n",
    "for index in index_spam:\n",
    "    for repetition in range(6): # chaque spam va apparaître 7 fois\n",
    "        dataspams = pd.concat([dataspams, data.loc[[index]]], ignore_index=True)\n",
    "print(dataspams.shape)\n",
    "dataspams.tail()"
   ]
  },
  {
   "cell_type": "code",
   "execution_count": 41,
   "metadata": {},
   "outputs": [
    {
     "name": "stdout",
     "output_type": "stream",
     "text": [
      "(9856, 47)\n"
     ]
    },
    {
     "data": {
      "text/plain": [
       "cat\n",
       "1    3754\n",
       "0    3342\n",
       "Name: count, dtype: int64"
      ]
     },
     "metadata": {},
     "output_type": "display_data"
    },
    {
     "data": {
      "text/plain": [
       "cat\n",
       "1    939\n",
       "0    835\n",
       "Name: count, dtype: int64"
      ]
     },
     "metadata": {},
     "output_type": "display_data"
    },
    {
     "data": {
      "text/plain": [
       "cat\n",
       "1    522\n",
       "0    464\n",
       "Name: count, dtype: int64"
      ]
     },
     "execution_count": 41,
     "metadata": {},
     "output_type": "execute_result"
    }
   ],
   "source": [
    "texts_pad_spams = tf.keras.preprocessing.sequence.pad_sequences(dataspams.text_encoded, padding=\"post\")\n",
    "print(texts_pad_spams.shape)\n",
    "\n",
    "BATCH_SIZE = 32\n",
    "\n",
    "from sklearn.model_selection import train_test_split\n",
    "X_temp, X_test_spams, y_temp, y_test_spams = train_test_split(texts_pad_spams, dataspams.cat, test_size=0.1, random_state=42, stratify=dataspams.cat)\n",
    "X_train_spams, X_val_spams, y_train_spams, y_val_spams = train_test_split(X_temp, y_temp, test_size=0.2, random_state=42, stratify=y_temp)\n",
    "train_ds_spams = tf.data.Dataset.from_tensor_slices((X_train_spams, y_train_spams))\n",
    "val_ds_spams = tf.data.Dataset.from_tensor_slices((X_val_spams, y_val_spams))\n",
    "train_batch_spams = train_ds_spams.shuffle(len(train_ds_spams)).batch(BATCH_SIZE)\n",
    "val_batch_spams = val_ds_spams.shuffle(len(val_ds_spams)).batch(BATCH_SIZE)\n",
    "\n",
    "display(y_train_spams.value_counts())\n",
    "display(y_val_spams.value_counts())\n",
    "y_test_spams.value_counts()"
   ]
  },
  {
   "cell_type": "code",
   "execution_count": 42,
   "metadata": {},
   "outputs": [],
   "source": [
    "embedding_dim=128 \n",
    "vocab_size = 1000 \n",
    "\n",
    "model_GRU_dataaugm = Sequential([\n",
    "  Embedding(vocab_size+1, embedding_dim, name=\"embedding\"),\n",
    "  GRU(units=64, return_sequences=False), \n",
    "  Dropout(0.20),\n",
    "  Dense(2, activation=\"softmax\")\n",
    "])"
   ]
  },
  {
   "cell_type": "code",
   "execution_count": 46,
   "metadata": {},
   "outputs": [],
   "source": [
    "optimizer = tf.keras.optimizers.Adam(learning_rate=lr_schedule)\n",
    "\n",
    "model_GRU_dataaugm.compile(\n",
    "            optimizer=optimizer,\n",
    "            loss=tf.keras.losses.SparseCategoricalCrossentropy(),\n",
    "            metrics=[tf.keras.metrics.SparseCategoricalAccuracy()])"
   ]
  },
  {
   "cell_type": "code",
   "execution_count": 47,
   "metadata": {},
   "outputs": [
    {
     "name": "stdout",
     "output_type": "stream",
     "text": [
      "Epoch 1/20\n",
      "\u001b[1m222/222\u001b[0m \u001b[32m━━━━━━━━━━━━━━━━━━━━\u001b[0m\u001b[37m\u001b[0m \u001b[1m123s\u001b[0m 553ms/step - loss: 0.6904 - sparse_categorical_accuracy: 0.5376 - val_loss: 0.6915 - val_sparse_categorical_accuracy: 0.5293\n",
      "Epoch 2/20\n",
      "\u001b[1m222/222\u001b[0m \u001b[32m━━━━━━━━━━━━━━━━━━━━\u001b[0m\u001b[37m\u001b[0m \u001b[1m116s\u001b[0m 525ms/step - loss: 0.6917 - sparse_categorical_accuracy: 0.5333 - val_loss: 0.6914 - val_sparse_categorical_accuracy: 0.5293\n",
      "Epoch 3/20\n",
      "\u001b[1m222/222\u001b[0m \u001b[32m━━━━━━━━━━━━━━━━━━━━\u001b[0m\u001b[37m\u001b[0m \u001b[1m117s\u001b[0m 526ms/step - loss: 0.6908 - sparse_categorical_accuracy: 0.5376 - val_loss: 0.6926 - val_sparse_categorical_accuracy: 0.5293\n",
      "Epoch 4/20\n",
      "\u001b[1m222/222\u001b[0m \u001b[32m━━━━━━━━━━━━━━━━━━━━\u001b[0m\u001b[37m\u001b[0m \u001b[1m117s\u001b[0m 527ms/step - loss: 0.6921 - sparse_categorical_accuracy: 0.5119 - val_loss: 0.6918 - val_sparse_categorical_accuracy: 0.5293\n",
      "Epoch 5/20\n",
      "\u001b[1m222/222\u001b[0m \u001b[32m━━━━━━━━━━━━━━━━━━━━\u001b[0m\u001b[37m\u001b[0m \u001b[1m117s\u001b[0m 528ms/step - loss: 0.6926 - sparse_categorical_accuracy: 0.5162 - val_loss: 0.6933 - val_sparse_categorical_accuracy: 0.5293\n",
      "Epoch 6/20\n",
      "\u001b[1m222/222\u001b[0m \u001b[32m━━━━━━━━━━━━━━━━━━━━\u001b[0m\u001b[37m\u001b[0m \u001b[1m117s\u001b[0m 528ms/step - loss: 0.6862 - sparse_categorical_accuracy: 0.5526 - val_loss: 0.6945 - val_sparse_categorical_accuracy: 0.4707\n",
      "Epoch 7/20\n",
      "\u001b[1m222/222\u001b[0m \u001b[32m━━━━━━━━━━━━━━━━━━━━\u001b[0m\u001b[37m\u001b[0m \u001b[1m116s\u001b[0m 524ms/step - loss: 0.6928 - sparse_categorical_accuracy: 0.5127 - val_loss: 0.6915 - val_sparse_categorical_accuracy: 0.5293\n",
      "Epoch 8/20\n",
      "\u001b[1m222/222\u001b[0m \u001b[32m━━━━━━━━━━━━━━━━━━━━\u001b[0m\u001b[37m\u001b[0m \u001b[1m117s\u001b[0m 529ms/step - loss: 0.6921 - sparse_categorical_accuracy: 0.5202 - val_loss: 0.6935 - val_sparse_categorical_accuracy: 0.5293\n",
      "Epoch 9/20\n",
      "\u001b[1m222/222\u001b[0m \u001b[32m━━━━━━━━━━━━━━━━━━━━\u001b[0m\u001b[37m\u001b[0m \u001b[1m103s\u001b[0m 464ms/step - loss: 0.6930 - sparse_categorical_accuracy: 0.5127 - val_loss: 0.6914 - val_sparse_categorical_accuracy: 0.5293\n",
      "Epoch 10/20\n",
      "\u001b[1m222/222\u001b[0m \u001b[32m━━━━━━━━━━━━━━━━━━━━\u001b[0m\u001b[37m\u001b[0m \u001b[1m101s\u001b[0m 455ms/step - loss: 0.6915 - sparse_categorical_accuracy: 0.5290 - val_loss: 0.6914 - val_sparse_categorical_accuracy: 0.5293\n",
      "Epoch 11/20\n",
      "\u001b[1m222/222\u001b[0m \u001b[32m━━━━━━━━━━━━━━━━━━━━\u001b[0m\u001b[37m\u001b[0m \u001b[1m101s\u001b[0m 457ms/step - loss: 0.6903 - sparse_categorical_accuracy: 0.5351 - val_loss: 0.6914 - val_sparse_categorical_accuracy: 0.5293\n",
      "Epoch 12/20\n",
      "\u001b[1m222/222\u001b[0m \u001b[32m━━━━━━━━━━━━━━━━━━━━\u001b[0m\u001b[37m\u001b[0m \u001b[1m101s\u001b[0m 455ms/step - loss: 0.6909 - sparse_categorical_accuracy: 0.5336 - val_loss: 0.6915 - val_sparse_categorical_accuracy: 0.5293\n",
      "Epoch 13/20\n",
      "\u001b[1m222/222\u001b[0m \u001b[32m━━━━━━━━━━━━━━━━━━━━\u001b[0m\u001b[37m\u001b[0m \u001b[1m101s\u001b[0m 456ms/step - loss: 0.6929 - sparse_categorical_accuracy: 0.5183 - val_loss: 0.6917 - val_sparse_categorical_accuracy: 0.5293\n",
      "Epoch 14/20\n",
      "\u001b[1m222/222\u001b[0m \u001b[32m━━━━━━━━━━━━━━━━━━━━\u001b[0m\u001b[37m\u001b[0m \u001b[1m101s\u001b[0m 457ms/step - loss: 0.6917 - sparse_categorical_accuracy: 0.5308 - val_loss: 0.6914 - val_sparse_categorical_accuracy: 0.5293\n",
      "Epoch 15/20\n",
      "\u001b[1m222/222\u001b[0m \u001b[32m━━━━━━━━━━━━━━━━━━━━\u001b[0m\u001b[37m\u001b[0m \u001b[1m102s\u001b[0m 458ms/step - loss: 0.6905 - sparse_categorical_accuracy: 0.5330 - val_loss: 0.6773 - val_sparse_categorical_accuracy: 0.5598\n",
      "Epoch 16/20\n",
      "\u001b[1m222/222\u001b[0m \u001b[32m━━━━━━━━━━━━━━━━━━━━\u001b[0m\u001b[37m\u001b[0m \u001b[1m102s\u001b[0m 458ms/step - loss: 0.6742 - sparse_categorical_accuracy: 0.5572 - val_loss: 0.3313 - val_sparse_categorical_accuracy: 0.8850\n",
      "Epoch 17/20\n",
      "\u001b[1m222/222\u001b[0m \u001b[32m━━━━━━━━━━━━━━━━━━━━\u001b[0m\u001b[37m\u001b[0m \u001b[1m102s\u001b[0m 458ms/step - loss: 0.2566 - sparse_categorical_accuracy: 0.9183 - val_loss: 0.0371 - val_sparse_categorical_accuracy: 0.9865\n",
      "Epoch 18/20\n",
      "\u001b[1m222/222\u001b[0m \u001b[32m━━━━━━━━━━━━━━━━━━━━\u001b[0m\u001b[37m\u001b[0m \u001b[1m101s\u001b[0m 457ms/step - loss: 0.0366 - sparse_categorical_accuracy: 0.9898 - val_loss: 0.0251 - val_sparse_categorical_accuracy: 0.9949\n",
      "Epoch 19/20\n",
      "\u001b[1m222/222\u001b[0m \u001b[32m━━━━━━━━━━━━━━━━━━━━\u001b[0m\u001b[37m\u001b[0m \u001b[1m101s\u001b[0m 457ms/step - loss: 0.0098 - sparse_categorical_accuracy: 0.9976 - val_loss: 0.0268 - val_sparse_categorical_accuracy: 0.9944\n",
      "Epoch 20/20\n",
      "\u001b[1m222/222\u001b[0m \u001b[32m━━━━━━━━━━━━━━━━━━━━\u001b[0m\u001b[37m\u001b[0m \u001b[1m102s\u001b[0m 458ms/step - loss: 0.0062 - sparse_categorical_accuracy: 0.9985 - val_loss: 0.0251 - val_sparse_categorical_accuracy: 0.9966\n"
     ]
    }
   ],
   "source": [
    "history = model_GRU_dataaugm.fit(\n",
    "    train_batch_spams,\n",
    "    validation_data=val_batch_spams,\n",
    "    epochs=20)"
   ]
  },
  {
   "cell_type": "code",
   "execution_count": 48,
   "metadata": {},
   "outputs": [
    {
     "name": "stderr",
     "output_type": "stream",
     "text": [
      "/home/eugenie_laptop/anaconda3/lib/python3.12/site-packages/tensorflow/python/data/ops/structured_function.py:258: UserWarning:\n",
      "\n",
      "Even though the `tf.config.experimental_run_functions_eagerly` option is set, this option does not apply to tf.data functions. To force eager execution of tf.data functions, please use `tf.data.experimental.enable_debug_mode()`.\n",
      "\n"
     ]
    },
    {
     "name": "stdout",
     "output_type": "stream",
     "text": [
      "\u001b[1m31/31\u001b[0m \u001b[32m━━━━━━━━━━━━━━━━━━━━\u001b[0m\u001b[37m\u001b[0m \u001b[1m6s\u001b[0m 186ms/step\n"
     ]
    },
    {
     "data": {
      "image/png": "[encoded data removed]",
      "text/plain": [
       "<Figure size 640x480 with 2 Axes>"
      ]
     },
     "metadata": {},
     "output_type": "display_data"
    },
    {
     "name": "stdout",
     "output_type": "stream",
     "text": [
      "              precision    recall  f1-score   support\n",
      "\n",
      "           0       1.00      0.98      0.99       464\n",
      "           1       0.99      1.00      0.99       522\n",
      "\n",
      "    accuracy                           0.99       986\n",
      "   macro avg       0.99      0.99      0.99       986\n",
      "weighted avg       0.99      0.99      0.99       986\n",
      "\n"
     ]
    }
   ],
   "source": [
    "# Evaluation du modèle\n",
    "predictions = model_GRU_dataaugm.predict(X_test_spams)\n",
    "y_pred = np.argmax(predictions, axis=1)\n",
    "\n",
    "cm = confusion_matrix(y_test_spams, y_pred)\n",
    "disp = ConfusionMatrixDisplay(confusion_matrix=cm, display_labels=[\"Ham\", \"Spam\"])\n",
    "disp.plot(cmap=plt.cm.Blues)\n",
    "plt.title(\"Confusion Matrix\")\n",
    "plt.show()\n",
    "\n",
    "print(classification_report(y_test_spams, y_pred))"
   ]
  },
  {
   "cell_type": "code",
   "execution_count": 50,
   "metadata": {},
   "outputs": [
    {
     "data": {
      "application/vnd.plotly.v1+json": {
       "config": {
        "plotlyServerURL": "https://plot.ly"
       },
       "data": [
        {
         "mode": "lines",
         "name": "Training loss",
         "type": "scatter",
         "y": [
          0.692201554775238,
          0.691878616809845,
          0.6918544769287109,
          0.6915682554244995,
          0.6913748979568481,
          0.6903904676437378,
          0.6919031739234924,
          0.6912175416946411,
          0.6913842558860779,
          0.6916407346725464,
          0.6914414763450623,
          0.6914504170417786,
          0.691266655921936,
          0.6915743350982666,
          0.6905210018157959,
          0.6512261033058167,
          0.15859626233577728,
          0.0298747755587101,
          0.009287090972065926,
          0.003166445530951023
         ]
        },
        {
         "mode": "lines",
         "name": "Validation loss",
         "type": "scatter",
         "y": [
          0.6914530396461487,
          0.6914289593696594,
          0.6925588250160217,
          0.6918181777000427,
          0.6932528018951416,
          0.6945143342018127,
          0.6915019154548645,
          0.693488597869873,
          0.69142746925354,
          0.6914272308349609,
          0.6914260387420654,
          0.6914695501327515,
          0.6916815042495728,
          0.6914228200912476,
          0.6773124933242798,
          0.3312946856021881,
          0.03712290897965431,
          0.025068342685699463,
          0.026759792119264603,
          0.025053970515727997
         ]
        }
       ],
       "layout": {
        "template": {
         "data": {
          "bar": [
           {
            "error_x": {
             "color": "#2a3f5f"
            },
            "error_y": {
             "color": "#2a3f5f"
            },
            "marker": {
             "line": {
              "color": "#E5ECF6",
              "width": 0.5
             },
             "pattern": {
              "fillmode": "overlay",
              "size": 10,
              "solidity": 0.2
             }
            },
            "type": "bar"
           }
          ],
          "barpolar": [
           {
            "marker": {
             "line": {
              "color": "#E5ECF6",
              "width": 0.5
             },
             "pattern": {
              "fillmode": "overlay",
              "size": 10,
              "solidity": 0.2
             }
            },
            "type": "barpolar"
           }
          ],
          "carpet": [
           {
            "aaxis": {
             "endlinecolor": "#2a3f5f",
             "gridcolor": "white",
             "linecolor": "white",
             "minorgridcolor": "white",
             "startlinecolor": "#2a3f5f"
            },
            "baxis": {
             "endlinecolor": "#2a3f5f",
             "gridcolor": "white",
             "linecolor": "white",
             "minorgridcolor": "white",
             "startlinecolor": "#2a3f5f"
            },
            "type": "carpet"
           }
          ],
          "choropleth": [
           {
            "colorbar": {
             "outlinewidth": 0,
             "ticks": ""
            },
            "type": "choropleth"
           }
          ],
          "contour": [
           {
            "colorbar": {
             "outlinewidth": 0,
             "ticks": ""
            },
            "colorscale": [
             [
              0,
              "#0d0887"
             ],
             [
              0.1111111111111111,
              "#46039f"
             ],
             [
              0.2222222222222222,
              "#7201a8"
             ],
             [
              0.3333333333333333,
              "#9c179e"
             ],
             [
              0.4444444444444444,
              "#bd3786"
             ],
             [
              0.5555555555555556,
              "#d8576b"
             ],
             [
              0.6666666666666666,
              "#ed7953"
             ],
             [
              0.7777777777777778,
              "#fb9f3a"
             ],
             [
              0.8888888888888888,
              "#fdca26"
             ],
             [
              1,
              "#f0f921"
             ]
            ],
            "type": "contour"
           }
          ],
          "contourcarpet": [
           {
            "colorbar": {
             "outlinewidth": 0,
             "ticks": ""
            },
            "type": "contourcarpet"
           }
          ],
          "heatmap": [
           {
            "colorbar": {
             "outlinewidth": 0,
             "ticks": ""
            },
            "colorscale": [
             [
              0,
              "#0d0887"
             ],
             [
              0.1111111111111111,
              "#46039f"
             ],
             [
              0.2222222222222222,
              "#7201a8"
             ],
             [
              0.3333333333333333,
              "#9c179e"
             ],
             [
              0.4444444444444444,
              "#bd3786"
             ],
             [
              0.5555555555555556,
              "#d8576b"
             ],
             [
              0.6666666666666666,
              "#ed7953"
             ],
             [
              0.7777777777777778,
              "#fb9f3a"
             ],
             [
              0.8888888888888888,
              "#fdca26"
             ],
             [
              1,
              "#f0f921"
             ]
            ],
            "type": "heatmap"
           }
          ],
          "heatmapgl": [
           {
            "colorbar": {
             "outlinewidth": 0,
             "ticks": ""
            },
            "colorscale": [
             [
              0,
              "#0d0887"
             ],
             [
              0.1111111111111111,
              "#46039f"
             ],
             [
              0.2222222222222222,
              "#7201a8"
             ],
             [
              0.3333333333333333,
              "#9c179e"
             ],
             [
              0.4444444444444444,
              "#bd3786"
             ],
             [
              0.5555555555555556,
              "#d8576b"
             ],
             [
              0.6666666666666666,
              "#ed7953"
             ],
             [
              0.7777777777777778,
              "#fb9f3a"
             ],
             [
              0.8888888888888888,
              "#fdca26"
             ],
             [
              1,
              "#f0f921"
             ]
            ],
            "type": "heatmapgl"
           }
          ],
          "histogram": [
           {
            "marker": {
             "pattern": {
              "fillmode": "overlay",
              "size": 10,
              "solidity": 0.2
             }
            },
            "type": "histogram"
           }
          ],
          "histogram2d": [
           {
            "colorbar": {
             "outlinewidth": 0,
             "ticks": ""
            },
            "colorscale": [
             [
              0,
              "#0d0887"
             ],
             [
              0.1111111111111111,
              "#46039f"
             ],
             [
              0.2222222222222222,
              "#7201a8"
             ],
             [
              0.3333333333333333,
              "#9c179e"
             ],
             [
              0.4444444444444444,
              "#bd3786"
             ],
             [
              0.5555555555555556,
              "#d8576b"
             ],
             [
              0.6666666666666666,
              "#ed7953"
             ],
             [
              0.7777777777777778,
              "#fb9f3a"
             ],
             [
              0.8888888888888888,
              "#fdca26"
             ],
             [
              1,
              "#f0f921"
             ]
            ],
            "type": "histogram2d"
           }
          ],
          "histogram2dcontour": [
           {
            "colorbar": {
             "outlinewidth": 0,
             "ticks": ""
            },
            "colorscale": [
             [
              0,
              "#0d0887"
             ],
             [
              0.1111111111111111,
              "#46039f"
             ],
             [
              0.2222222222222222,
              "#7201a8"
             ],
             [
              0.3333333333333333,
              "#9c179e"
             ],
             [
              0.4444444444444444,
              "#bd3786"
             ],
             [
              0.5555555555555556,
              "#d8576b"
             ],
             [
              0.6666666666666666,
              "#ed7953"
             ],
             [
              0.7777777777777778,
              "#fb9f3a"
             ],
             [
              0.8888888888888888,
              "#fdca26"
             ],
             [
              1,
              "#f0f921"
             ]
            ],
            "type": "histogram2dcontour"
           }
          ],
          "mesh3d": [
           {
            "colorbar": {
             "outlinewidth": 0,
             "ticks": ""
            },
            "type": "mesh3d"
           }
          ],
          "parcoords": [
           {
            "line": {
             "colorbar": {
              "outlinewidth": 0,
              "ticks": ""
             }
            },
            "type": "parcoords"
           }
          ],
          "pie": [
           {
            "automargin": true,
            "type": "pie"
           }
          ],
          "scatter": [
           {
            "fillpattern": {
             "fillmode": "overlay",
             "size": 10,
             "solidity": 0.2
            },
            "type": "scatter"
           }
          ],
          "scatter3d": [
           {
            "line": {
             "colorbar": {
              "outlinewidth": 0,
              "ticks": ""
             }
            },
            "marker": {
             "colorbar": {
              "outlinewidth": 0,
              "ticks": ""
             }
            },
            "type": "scatter3d"
           }
          ],
          "scattercarpet": [
           {
            "marker": {
             "colorbar": {
              "outlinewidth": 0,
              "ticks": ""
             }
            },
            "type": "scattercarpet"
           }
          ],
          "scattergeo": [
           {
            "marker": {
             "colorbar": {
              "outlinewidth": 0,
              "ticks": ""
             }
            },
            "type": "scattergeo"
           }
          ],
          "scattergl": [
           {
            "marker": {
             "colorbar": {
              "outlinewidth": 0,
              "ticks": ""
             }
            },
            "type": "scattergl"
           }
          ],
          "scattermapbox": [
           {
            "marker": {
             "colorbar": {
              "outlinewidth": 0,
              "ticks": ""
             }
            },
            "type": "scattermapbox"
           }
          ],
          "scatterpolar": [
           {
            "marker": {
             "colorbar": {
              "outlinewidth": 0,
              "ticks": ""
             }
            },
            "type": "scatterpolar"
           }
          ],
          "scatterpolargl": [
           {
            "marker": {
             "colorbar": {
              "outlinewidth": 0,
              "ticks": ""
             }
            },
            "type": "scatterpolargl"
           }
          ],
          "scatterternary": [
           {
            "marker": {
             "colorbar": {
              "outlinewidth": 0,
              "ticks": ""
             }
            },
            "type": "scatterternary"
           }
          ],
          "surface": [
           {
            "colorbar": {
             "outlinewidth": 0,
             "ticks": ""
            },
            "colorscale": [
             [
              0,
              "#0d0887"
             ],
             [
              0.1111111111111111,
              "#46039f"
             ],
             [
              0.2222222222222222,
              "#7201a8"
             ],
             [
              0.3333333333333333,
              "#9c179e"
             ],
             [
              0.4444444444444444,
              "#bd3786"
             ],
             [
              0.5555555555555556,
              "#d8576b"
             ],
             [
              0.6666666666666666,
              "#ed7953"
             ],
             [
              0.7777777777777778,
              "#fb9f3a"
             ],
             [
              0.8888888888888888,
              "#fdca26"
             ],
             [
              1,
              "#f0f921"
             ]
            ],
            "type": "surface"
           }
          ],
          "table": [
           {
            "cells": {
             "fill": {
              "color": "#EBF0F8"
             },
             "line": {
              "color": "white"
             }
            },
            "header": {
             "fill": {
              "color": "#C8D4E3"
             },
             "line": {
              "color": "white"
             }
            },
            "type": "table"
           }
          ]
         },
         "layout": {
          "annotationdefaults": {
           "arrowcolor": "#2a3f5f",
           "arrowhead": 0,
           "arrowwidth": 1
          },
          "autotypenumbers": "strict",
          "coloraxis": {
           "colorbar": {
            "outlinewidth": 0,
            "ticks": ""
           }
          },
          "colorscale": {
           "diverging": [
            [
             0,
             "#8e0152"
            ],
            [
             0.1,
             "#c51b7d"
            ],
            [
             0.2,
             "#de77ae"
            ],
            [
             0.3,
             "#f1b6da"
            ],
            [
             0.4,
             "#fde0ef"
            ],
            [
             0.5,
             "#f7f7f7"
            ],
            [
             0.6,
             "#e6f5d0"
            ],
            [
             0.7,
             "#b8e186"
            ],
            [
             0.8,
             "#7fbc41"
            ],
            [
             0.9,
             "#4d9221"
            ],
            [
             1,
             "#276419"
            ]
           ],
           "sequential": [
            [
             0,
             "#0d0887"
            ],
            [
             0.1111111111111111,
             "#46039f"
            ],
            [
             0.2222222222222222,
             "#7201a8"
            ],
            [
             0.3333333333333333,
             "#9c179e"
            ],
            [
             0.4444444444444444,
             "#bd3786"
            ],
            [
             0.5555555555555556,
             "#d8576b"
            ],
            [
             0.6666666666666666,
             "#ed7953"
            ],
            [
             0.7777777777777778,
             "#fb9f3a"
            ],
            [
             0.8888888888888888,
             "#fdca26"
            ],
            [
             1,
             "#f0f921"
            ]
           ],
           "sequentialminus": [
            [
             0,
             "#0d0887"
            ],
            [
             0.1111111111111111,
             "#46039f"
            ],
            [
             0.2222222222222222,
             "#7201a8"
            ],
            [
             0.3333333333333333,
             "#9c179e"
            ],
            [
             0.4444444444444444,
             "#bd3786"
            ],
            [
             0.5555555555555556,
             "#d8576b"
            ],
            [
             0.6666666666666666,
             "#ed7953"
            ],
            [
             0.7777777777777778,
             "#fb9f3a"
            ],
            [
             0.8888888888888888,
             "#fdca26"
            ],
            [
             1,
             "#f0f921"
            ]
           ]
          },
          "colorway": [
           "#636efa",
           "#EF553B",
           "#00cc96",
           "#ab63fa",
           "#FFA15A",
           "#19d3f3",
           "#FF6692",
           "#B6E880",
           "#FF97FF",
           "#FECB52"
          ],
          "font": {
           "color": "#2a3f5f"
          },
          "geo": {
           "bgcolor": "white",
           "lakecolor": "white",
           "landcolor": "#E5ECF6",
           "showlakes": true,
           "showland": true,
           "subunitcolor": "white"
          },
          "hoverlabel": {
           "align": "left"
          },
          "hovermode": "closest",
          "mapbox": {
           "style": "light"
          },
          "paper_bgcolor": "white",
          "plot_bgcolor": "#E5ECF6",
          "polar": {
           "angularaxis": {
            "gridcolor": "white",
            "linecolor": "white",
            "ticks": ""
           },
           "bgcolor": "#E5ECF6",
           "radialaxis": {
            "gridcolor": "white",
            "linecolor": "white",
            "ticks": ""
           }
          },
          "scene": {
           "xaxis": {
            "backgroundcolor": "#E5ECF6",
            "gridcolor": "white",
            "gridwidth": 2,
            "linecolor": "white",
            "showbackground": true,
            "ticks": "",
            "zerolinecolor": "white"
           },
           "yaxis": {
            "backgroundcolor": "#E5ECF6",
            "gridcolor": "white",
            "gridwidth": 2,
            "linecolor": "white",
            "showbackground": true,
            "ticks": "",
            "zerolinecolor": "white"
           },
           "zaxis": {
            "backgroundcolor": "#E5ECF6",
            "gridcolor": "white",
            "gridwidth": 2,
            "linecolor": "white",
            "showbackground": true,
            "ticks": "",
            "zerolinecolor": "white"
           }
          },
          "shapedefaults": {
           "line": {
            "color": "#2a3f5f"
           }
          },
          "ternary": {
           "aaxis": {
            "gridcolor": "white",
            "linecolor": "white",
            "ticks": ""
           },
           "baxis": {
            "gridcolor": "white",
            "linecolor": "white",
            "ticks": ""
           },
           "bgcolor": "#E5ECF6",
           "caxis": {
            "gridcolor": "white",
            "linecolor": "white",
            "ticks": ""
           }
          },
          "title": {
           "x": 0.05
          },
          "xaxis": {
           "automargin": true,
           "gridcolor": "white",
           "linecolor": "white",
           "ticks": "",
           "title": {
            "standoff": 15
           },
           "zerolinecolor": "white",
           "zerolinewidth": 2
          },
          "yaxis": {
           "automargin": true,
           "gridcolor": "white",
           "linecolor": "white",
           "ticks": "",
           "title": {
            "standoff": 15
           },
           "zerolinecolor": "white",
           "zerolinewidth": 2
          }
         }
        },
        "title": {
         "text": "GRU Training and val loss across epochs"
        },
        "xaxis": {
         "title": {
          "text": "epochs"
         }
        },
        "yaxis": {
         "title": {
          "text": "Cross Entropy"
         }
        }
       }
      }
     },
     "metadata": {},
     "output_type": "display_data"
    },
    {
     "data": {
      "application/vnd.plotly.v1+json": {
       "config": {
        "plotlyServerURL": "https://plot.ly"
       },
       "data": [
        {
         "mode": "lines",
         "name": "Training accuracy",
         "type": "scatter",
         "y": [
          0.5253664255142212,
          0.5271984338760376,
          0.5287485718727112,
          0.5259301066398621,
          0.5276212096214294,
          0.5262119770050049,
          0.5242390036582947,
          0.5294532179832458,
          0.5262119770050049,
          0.5294532179832458,
          0.5276212096214294,
          0.5301578640937805,
          0.529171347618103,
          0.5298759937286377,
          0.5311443209648132,
          0.5916008949279785,
          0.9501127600669861,
          0.9914035797119141,
          0.9978861212730408,
          0.9992953538894653
         ]
        },
        {
         "mode": "lines",
         "name": "Validation accuracy",
         "type": "scatter",
         "y": [
          0.5293123126029968,
          0.5293123126029968,
          0.5293123126029968,
          0.5293123126029968,
          0.5293123126029968,
          0.47068771719932556,
          0.5293123126029968,
          0.5293123126029968,
          0.5293123126029968,
          0.5293123126029968,
          0.5293123126029968,
          0.5293123126029968,
          0.5293123126029968,
          0.5293123126029968,
          0.5597519874572754,
          0.8850056529045105,
          0.9864712357521057,
          0.9949266910552979,
          0.994363009929657,
          0.9966177940368652
         ]
        }
       ],
       "layout": {
        "template": {
         "data": {
          "bar": [
           {
            "error_x": {
             "color": "#2a3f5f"
            },
            "error_y": {
             "color": "#2a3f5f"
            },
            "marker": {
             "line": {
              "color": "#E5ECF6",
              "width": 0.5
             },
             "pattern": {
              "fillmode": "overlay",
              "size": 10,
              "solidity": 0.2
             }
            },
            "type": "bar"
           }
          ],
          "barpolar": [
           {
            "marker": {
             "line": {
              "color": "#E5ECF6",
              "width": 0.5
             },
             "pattern": {
              "fillmode": "overlay",
              "size": 10,
              "solidity": 0.2
             }
            },
            "type": "barpolar"
           }
          ],
          "carpet": [
           {
            "aaxis": {
             "endlinecolor": "#2a3f5f",
             "gridcolor": "white",
             "linecolor": "white",
             "minorgridcolor": "white",
             "startlinecolor": "#2a3f5f"
            },
            "baxis": {
             "endlinecolor": "#2a3f5f",
             "gridcolor": "white",
             "linecolor": "white",
             "minorgridcolor": "white",
             "startlinecolor": "#2a3f5f"
            },
            "type": "carpet"
           }
          ],
          "choropleth": [
           {
            "colorbar": {
             "outlinewidth": 0,
             "ticks": ""
            },
            "type": "choropleth"
           }
          ],
          "contour": [
           {
            "colorbar": {
             "outlinewidth": 0,
             "ticks": ""
            },
            "colorscale": [
             [
              0,
              "#0d0887"
             ],
             [
              0.1111111111111111,
              "#46039f"
             ],
             [
              0.2222222222222222,
              "#7201a8"
             ],
             [
              0.3333333333333333,
              "#9c179e"
             ],
             [
              0.4444444444444444,
              "#bd3786"
             ],
             [
              0.5555555555555556,
              "#d8576b"
             ],
             [
              0.6666666666666666,
              "#ed7953"
             ],
             [
              0.7777777777777778,
              "#fb9f3a"
             ],
             [
              0.8888888888888888,
              "#fdca26"
             ],
             [
              1,
              "#f0f921"
             ]
            ],
            "type": "contour"
           }
          ],
          "contourcarpet": [
           {
            "colorbar": {
             "outlinewidth": 0,
             "ticks": ""
            },
            "type": "contourcarpet"
           }
          ],
          "heatmap": [
           {
            "colorbar": {
             "outlinewidth": 0,
             "ticks": ""
            },
            "colorscale": [
             [
              0,
              "#0d0887"
             ],
             [
              0.1111111111111111,
              "#46039f"
             ],
             [
              0.2222222222222222,
              "#7201a8"
             ],
             [
              0.3333333333333333,
              "#9c179e"
             ],
             [
              0.4444444444444444,
              "#bd3786"
             ],
             [
              0.5555555555555556,
              "#d8576b"
             ],
             [
              0.6666666666666666,
              "#ed7953"
             ],
             [
              0.7777777777777778,
              "#fb9f3a"
             ],
             [
              0.8888888888888888,
              "#fdca26"
             ],
             [
              1,
              "#f0f921"
             ]
            ],
            "type": "heatmap"
           }
          ],
          "heatmapgl": [
           {
            "colorbar": {
             "outlinewidth": 0,
             "ticks": ""
            },
            "colorscale": [
             [
              0,
              "#0d0887"
             ],
             [
              0.1111111111111111,
              "#46039f"
             ],
             [
              0.2222222222222222,
              "#7201a8"
             ],
             [
              0.3333333333333333,
              "#9c179e"
             ],
             [
              0.4444444444444444,
              "#bd3786"
             ],
             [
              0.5555555555555556,
              "#d8576b"
             ],
             [
              0.6666666666666666,
              "#ed7953"
             ],
             [
              0.7777777777777778,
              "#fb9f3a"
             ],
             [
              0.8888888888888888,
              "#fdca26"
             ],
             [
              1,
              "#f0f921"
             ]
            ],
            "type": "heatmapgl"
           }
          ],
          "histogram": [
           {
            "marker": {
             "pattern": {
              "fillmode": "overlay",
              "size": 10,
              "solidity": 0.2
             }
            },
            "type": "histogram"
           }
          ],
          "histogram2d": [
           {
            "colorbar": {
             "outlinewidth": 0,
             "ticks": ""
            },
            "colorscale": [
             [
              0,
              "#0d0887"
             ],
             [
              0.1111111111111111,
              "#46039f"
             ],
             [
              0.2222222222222222,
              "#7201a8"
             ],
             [
              0.3333333333333333,
              "#9c179e"
             ],
             [
              0.4444444444444444,
              "#bd3786"
             ],
             [
              0.5555555555555556,
              "#d8576b"
             ],
             [
              0.6666666666666666,
              "#ed7953"
             ],
             [
              0.7777777777777778,
              "#fb9f3a"
             ],
             [
              0.8888888888888888,
              "#fdca26"
             ],
             [
              1,
              "#f0f921"
             ]
            ],
            "type": "histogram2d"
           }
          ],
          "histogram2dcontour": [
           {
            "colorbar": {
             "outlinewidth": 0,
             "ticks": ""
            },
            "colorscale": [
             [
              0,
              "#0d0887"
             ],
             [
              0.1111111111111111,
              "#46039f"
             ],
             [
              0.2222222222222222,
              "#7201a8"
             ],
             [
              0.3333333333333333,
              "#9c179e"
             ],
             [
              0.4444444444444444,
              "#bd3786"
             ],
             [
              0.5555555555555556,
              "#d8576b"
             ],
             [
              0.6666666666666666,
              "#ed7953"
             ],
             [
              0.7777777777777778,
              "#fb9f3a"
             ],
             [
              0.8888888888888888,
              "#fdca26"
             ],
             [
              1,
              "#f0f921"
             ]
            ],
            "type": "histogram2dcontour"
           }
          ],
          "mesh3d": [
           {
            "colorbar": {
             "outlinewidth": 0,
             "ticks": ""
            },
            "type": "mesh3d"
           }
          ],
          "parcoords": [
           {
            "line": {
             "colorbar": {
              "outlinewidth": 0,
              "ticks": ""
             }
            },
            "type": "parcoords"
           }
          ],
          "pie": [
           {
            "automargin": true,
            "type": "pie"
           }
          ],
          "scatter": [
           {
            "fillpattern": {
             "fillmode": "overlay",
             "size": 10,
             "solidity": 0.2
            },
            "type": "scatter"
           }
          ],
          "scatter3d": [
           {
            "line": {
             "colorbar": {
              "outlinewidth": 0,
              "ticks": ""
             }
            },
            "marker": {
             "colorbar": {
              "outlinewidth": 0,
              "ticks": ""
             }
            },
            "type": "scatter3d"
           }
          ],
          "scattercarpet": [
           {
            "marker": {
             "colorbar": {
              "outlinewidth": 0,
              "ticks": ""
             }
            },
            "type": "scattercarpet"
           }
          ],
          "scattergeo": [
           {
            "marker": {
             "colorbar": {
              "outlinewidth": 0,
              "ticks": ""
             }
            },
            "type": "scattergeo"
           }
          ],
          "scattergl": [
           {
            "marker": {
             "colorbar": {
              "outlinewidth": 0,
              "ticks": ""
             }
            },
            "type": "scattergl"
           }
          ],
          "scattermapbox": [
           {
            "marker": {
             "colorbar": {
              "outlinewidth": 0,
              "ticks": ""
             }
            },
            "type": "scattermapbox"
           }
          ],
          "scatterpolar": [
           {
            "marker": {
             "colorbar": {
              "outlinewidth": 0,
              "ticks": ""
             }
            },
            "type": "scatterpolar"
           }
          ],
          "scatterpolargl": [
           {
            "marker": {
             "colorbar": {
              "outlinewidth": 0,
              "ticks": ""
             }
            },
            "type": "scatterpolargl"
           }
          ],
          "scatterternary": [
           {
            "marker": {
             "colorbar": {
              "outlinewidth": 0,
              "ticks": ""
             }
            },
            "type": "scatterternary"
           }
          ],
          "surface": [
           {
            "colorbar": {
             "outlinewidth": 0,
             "ticks": ""
            },
            "colorscale": [
             [
              0,
              "#0d0887"
             ],
             [
              0.1111111111111111,
              "#46039f"
             ],
             [
              0.2222222222222222,
              "#7201a8"
             ],
             [
              0.3333333333333333,
              "#9c179e"
             ],
             [
              0.4444444444444444,
              "#bd3786"
             ],
             [
              0.5555555555555556,
              "#d8576b"
             ],
             [
              0.6666666666666666,
              "#ed7953"
             ],
             [
              0.7777777777777778,
              "#fb9f3a"
             ],
             [
              0.8888888888888888,
              "#fdca26"
             ],
             [
              1,
              "#f0f921"
             ]
            ],
            "type": "surface"
           }
          ],
          "table": [
           {
            "cells": {
             "fill": {
              "color": "#EBF0F8"
             },
             "line": {
              "color": "white"
             }
            },
            "header": {
             "fill": {
              "color": "#C8D4E3"
             },
             "line": {
              "color": "white"
             }
            },
            "type": "table"
           }
          ]
         },
         "layout": {
          "annotationdefaults": {
           "arrowcolor": "#2a3f5f",
           "arrowhead": 0,
           "arrowwidth": 1
          },
          "autotypenumbers": "strict",
          "coloraxis": {
           "colorbar": {
            "outlinewidth": 0,
            "ticks": ""
           }
          },
          "colorscale": {
           "diverging": [
            [
             0,
             "#8e0152"
            ],
            [
             0.1,
             "#c51b7d"
            ],
            [
             0.2,
             "#de77ae"
            ],
            [
             0.3,
             "#f1b6da"
            ],
            [
             0.4,
             "#fde0ef"
            ],
            [
             0.5,
             "#f7f7f7"
            ],
            [
             0.6,
             "#e6f5d0"
            ],
            [
             0.7,
             "#b8e186"
            ],
            [
             0.8,
             "#7fbc41"
            ],
            [
             0.9,
             "#4d9221"
            ],
            [
             1,
             "#276419"
            ]
           ],
           "sequential": [
            [
             0,
             "#0d0887"
            ],
            [
             0.1111111111111111,
             "#46039f"
            ],
            [
             0.2222222222222222,
             "#7201a8"
            ],
            [
             0.3333333333333333,
             "#9c179e"
            ],
            [
             0.4444444444444444,
             "#bd3786"
            ],
            [
             0.5555555555555556,
             "#d8576b"
            ],
            [
             0.6666666666666666,
             "#ed7953"
            ],
            [
             0.7777777777777778,
             "#fb9f3a"
            ],
            [
             0.8888888888888888,
             "#fdca26"
            ],
            [
             1,
             "#f0f921"
            ]
           ],
           "sequentialminus": [
            [
             0,
             "#0d0887"
            ],
            [
             0.1111111111111111,
             "#46039f"
            ],
            [
             0.2222222222222222,
             "#7201a8"
            ],
            [
             0.3333333333333333,
             "#9c179e"
            ],
            [
             0.4444444444444444,
             "#bd3786"
            ],
            [
             0.5555555555555556,
             "#d8576b"
            ],
            [
             0.6666666666666666,
             "#ed7953"
            ],
            [
             0.7777777777777778,
             "#fb9f3a"
            ],
            [
             0.8888888888888888,
             "#fdca26"
            ],
            [
             1,
             "#f0f921"
            ]
           ]
          },
          "colorway": [
           "#636efa",
           "#EF553B",
           "#00cc96",
           "#ab63fa",
           "#FFA15A",
           "#19d3f3",
           "#FF6692",
           "#B6E880",
           "#FF97FF",
           "#FECB52"
          ],
          "font": {
           "color": "#2a3f5f"
          },
          "geo": {
           "bgcolor": "white",
           "lakecolor": "white",
           "landcolor": "#E5ECF6",
           "showlakes": true,
           "showland": true,
           "subunitcolor": "white"
          },
          "hoverlabel": {
           "align": "left"
          },
          "hovermode": "closest",
          "mapbox": {
           "style": "light"
          },
          "paper_bgcolor": "white",
          "plot_bgcolor": "#E5ECF6",
          "polar": {
           "angularaxis": {
            "gridcolor": "white",
            "linecolor": "white",
            "ticks": ""
           },
           "bgcolor": "#E5ECF6",
           "radialaxis": {
            "gridcolor": "white",
            "linecolor": "white",
            "ticks": ""
           }
          },
          "scene": {
           "xaxis": {
            "backgroundcolor": "#E5ECF6",
            "gridcolor": "white",
            "gridwidth": 2,
            "linecolor": "white",
            "showbackground": true,
            "ticks": "",
            "zerolinecolor": "white"
           },
           "yaxis": {
            "backgroundcolor": "#E5ECF6",
            "gridcolor": "white",
            "gridwidth": 2,
            "linecolor": "white",
            "showbackground": true,
            "ticks": "",
            "zerolinecolor": "white"
           },
           "zaxis": {
            "backgroundcolor": "#E5ECF6",
            "gridcolor": "white",
            "gridwidth": 2,
            "linecolor": "white",
            "showbackground": true,
            "ticks": "",
            "zerolinecolor": "white"
           }
          },
          "shapedefaults": {
           "line": {
            "color": "#2a3f5f"
           }
          },
          "ternary": {
           "aaxis": {
            "gridcolor": "white",
            "linecolor": "white",
            "ticks": ""
           },
           "baxis": {
            "gridcolor": "white",
            "linecolor": "white",
            "ticks": ""
           },
           "bgcolor": "#E5ECF6",
           "caxis": {
            "gridcolor": "white",
            "linecolor": "white",
            "ticks": ""
           }
          },
          "title": {
           "x": 0.05
          },
          "xaxis": {
           "automargin": true,
           "gridcolor": "white",
           "linecolor": "white",
           "ticks": "",
           "title": {
            "standoff": 15
           },
           "zerolinecolor": "white",
           "zerolinewidth": 2
          },
          "yaxis": {
           "automargin": true,
           "gridcolor": "white",
           "linecolor": "white",
           "ticks": "",
           "title": {
            "standoff": 15
           },
           "zerolinecolor": "white",
           "zerolinewidth": 2
          }
         }
        },
        "title": {
         "text": "GRU Training and val accuracy across epochs"
        },
        "xaxis": {
         "title": {
          "text": "epochs"
         }
        },
        "yaxis": {
         "title": {
          "text": "Accuracy"
         }
        }
       }
      }
     },
     "metadata": {},
     "output_type": "display_data"
    }
   ],
   "source": [
    "fig = go.Figure(data=[\n",
    "                      go.Scatter(\n",
    "                          y=history.history[\"loss\"],\n",
    "                          name=\"Training loss\",\n",
    "                          mode=\"lines\",\n",
    "                          ),\n",
    "                      go.Scatter(\n",
    "                          y=history.history[\"val_loss\"],\n",
    "                          name=\"Validation loss\",\n",
    "                          mode=\"lines\",\n",
    "                          )\n",
    "])\n",
    "fig.update_layout(\n",
    "    title='GRU Training and val loss across epochs',\n",
    "    xaxis_title='epochs',\n",
    "    yaxis_title='Cross Entropy'\n",
    ")\n",
    "fig.show()\n",
    "\n",
    "fig = go.Figure(data=[\n",
    "                      go.Scatter(\n",
    "                          y=history.history[\"sparse_categorical_accuracy\"],\n",
    "                          name=\"Training accuracy\",\n",
    "                          mode=\"lines\",\n",
    "                          ),\n",
    "                      go.Scatter(\n",
    "                          y=history.history[\"val_sparse_categorical_accuracy\"],\n",
    "                          name=\"Validation accuracy\",\n",
    "                          mode=\"lines\",\n",
    "                          )\n",
    "])\n",
    "fig.update_layout(\n",
    "    title='GRU Training and val accuracy across epochs',\n",
    "    xaxis_title='epochs',\n",
    "    yaxis_title='Accuracy'\n",
    ")\n",
    "fig.show()"
   ]
  },
  {
   "cell_type": "code",
   "execution_count": 51,
   "metadata": {},
   "outputs": [
    {
     "name": "stdout",
     "output_type": "stream",
     "text": [
      "<class 'dict'>\n"
     ]
    }
   ],
   "source": [
    "model_GRU_dataaugm.save(\"./GRU1_DataAugmented.keras\")\n",
    "\n",
    "# Get the dictionary containing each metric and the loss for each epoch\n",
    "history_dict = history.history\n",
    "print(type(history_dict))\n",
    "# Save it under the form of a json file\n",
    "json.dump(history_dict, open(\"./GRU1_DataAugmented.json\", 'w'))"
   ]
  }
 ],
 "metadata": {
  "kernelspec": {
   "display_name": "base",
   "language": "python",
   "name": "python3"
  },
  "language_info": {
   "codemirror_mode": {
    "name": "ipython",
    "version": 3
   },
   "file_extension": ".py",
   "mimetype": "text/x-python",
   "name": "python",
   "nbconvert_exporter": "python",
   "pygments_lexer": "ipython3",
   "version": "3.12.4"
  }
 },
 "nbformat": 4,
 "nbformat_minor": 2
}
